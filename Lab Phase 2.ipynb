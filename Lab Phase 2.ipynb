{
 "cells": [
  {
   "cell_type": "code",
   "execution_count": 556,
   "id": "44d020cb",
   "metadata": {},
   "outputs": [
    {
     "data": {
      "text/html": [
       "<div>\n",
       "<style scoped>\n",
       "    .dataframe tbody tr th:only-of-type {\n",
       "        vertical-align: middle;\n",
       "    }\n",
       "\n",
       "    .dataframe tbody tr th {\n",
       "        vertical-align: top;\n",
       "    }\n",
       "\n",
       "    .dataframe thead th {\n",
       "        text-align: right;\n",
       "    }\n",
       "</style>\n",
       "<table border=\"1\" class=\"dataframe\">\n",
       "  <thead>\n",
       "    <tr style=\"text-align: right;\">\n",
       "      <th></th>\n",
       "      <th>Unnamed: 0</th>\n",
       "      <th>car_name</th>\n",
       "      <th>registration_year</th>\n",
       "      <th>insurance_validity</th>\n",
       "      <th>fuel_type</th>\n",
       "      <th>seats</th>\n",
       "      <th>kms_driven</th>\n",
       "      <th>ownsership</th>\n",
       "      <th>transmission</th>\n",
       "      <th>manufacturing_year</th>\n",
       "      <th>mileage(kmpl)</th>\n",
       "      <th>engine(cc)</th>\n",
       "      <th>max_power(bhp)</th>\n",
       "      <th>torque(Nm)</th>\n",
       "      <th>price(in lakhs)</th>\n",
       "    </tr>\n",
       "  </thead>\n",
       "  <tbody>\n",
       "    <tr>\n",
       "      <th>0</th>\n",
       "      <td>0</td>\n",
       "      <td>2017 Mercedes-Benz S-Class S400</td>\n",
       "      <td>Jul-17</td>\n",
       "      <td>Comprehensive</td>\n",
       "      <td>Petrol</td>\n",
       "      <td>5</td>\n",
       "      <td>56000</td>\n",
       "      <td>First Owner</td>\n",
       "      <td>Automatic</td>\n",
       "      <td>2017</td>\n",
       "      <td>7.81</td>\n",
       "      <td>2996.0</td>\n",
       "      <td>2996.0</td>\n",
       "      <td>333.0</td>\n",
       "      <td>63.75</td>\n",
       "    </tr>\n",
       "    <tr>\n",
       "      <th>1</th>\n",
       "      <td>1</td>\n",
       "      <td>2020 Nissan Magnite Turbo CVT XV Premium Opt BSVI</td>\n",
       "      <td>Jan-21</td>\n",
       "      <td>Comprehensive</td>\n",
       "      <td>Petrol</td>\n",
       "      <td>5</td>\n",
       "      <td>30615</td>\n",
       "      <td>First Owner</td>\n",
       "      <td>Automatic</td>\n",
       "      <td>2020</td>\n",
       "      <td>17.40</td>\n",
       "      <td>999.0</td>\n",
       "      <td>999.0</td>\n",
       "      <td>9863.0</td>\n",
       "      <td>8.99</td>\n",
       "    </tr>\n",
       "    <tr>\n",
       "      <th>2</th>\n",
       "      <td>2</td>\n",
       "      <td>2018 BMW X1 sDrive 20d xLine</td>\n",
       "      <td>Sep-18</td>\n",
       "      <td>Comprehensive</td>\n",
       "      <td>Diesel</td>\n",
       "      <td>5</td>\n",
       "      <td>24000</td>\n",
       "      <td>First Owner</td>\n",
       "      <td>Automatic</td>\n",
       "      <td>2018</td>\n",
       "      <td>20.68</td>\n",
       "      <td>1995.0</td>\n",
       "      <td>1995.0</td>\n",
       "      <td>188.0</td>\n",
       "      <td>23.75</td>\n",
       "    </tr>\n",
       "    <tr>\n",
       "      <th>3</th>\n",
       "      <td>3</td>\n",
       "      <td>2019 Kia Seltos GTX Plus</td>\n",
       "      <td>Dec-19</td>\n",
       "      <td>Comprehensive</td>\n",
       "      <td>Petrol</td>\n",
       "      <td>5</td>\n",
       "      <td>18378</td>\n",
       "      <td>First Owner</td>\n",
       "      <td>Manual</td>\n",
       "      <td>2019</td>\n",
       "      <td>16.50</td>\n",
       "      <td>1353.0</td>\n",
       "      <td>1353.0</td>\n",
       "      <td>13808.0</td>\n",
       "      <td>13.56</td>\n",
       "    </tr>\n",
       "    <tr>\n",
       "      <th>4</th>\n",
       "      <td>4</td>\n",
       "      <td>2019 Skoda Superb LK 1.8 TSI AT</td>\n",
       "      <td>Aug-19</td>\n",
       "      <td>Comprehensive</td>\n",
       "      <td>Petrol</td>\n",
       "      <td>5</td>\n",
       "      <td>44900</td>\n",
       "      <td>First Owner</td>\n",
       "      <td>Automatic</td>\n",
       "      <td>2019</td>\n",
       "      <td>14.67</td>\n",
       "      <td>1798.0</td>\n",
       "      <td>1798.0</td>\n",
       "      <td>17746.0</td>\n",
       "      <td>24.00</td>\n",
       "    </tr>\n",
       "    <tr>\n",
       "      <th>5</th>\n",
       "      <td>5</td>\n",
       "      <td>2017 Honda Jazz 1.2 S i VTEC</td>\n",
       "      <td>Jul-17</td>\n",
       "      <td>Third Party insurance</td>\n",
       "      <td>Petrol</td>\n",
       "      <td>5</td>\n",
       "      <td>42000</td>\n",
       "      <td>First Owner</td>\n",
       "      <td>Manual</td>\n",
       "      <td>2017</td>\n",
       "      <td>18.70</td>\n",
       "      <td>1199.0</td>\n",
       "      <td>1199.0</td>\n",
       "      <td>887.0</td>\n",
       "      <td>5.45</td>\n",
       "    </tr>\n",
       "    <tr>\n",
       "      <th>6</th>\n",
       "      <td>6</td>\n",
       "      <td>2018 Hyundai Grand i10 1.2 Kappa Sportz BSIV</td>\n",
       "      <td>Feb-19</td>\n",
       "      <td>Comprehensive</td>\n",
       "      <td>Petrol</td>\n",
       "      <td>5</td>\n",
       "      <td>36739</td>\n",
       "      <td>First Owner</td>\n",
       "      <td>Manual</td>\n",
       "      <td>2018</td>\n",
       "      <td>18.90</td>\n",
       "      <td>1197.0</td>\n",
       "      <td>1197.0</td>\n",
       "      <td>8186.0</td>\n",
       "      <td>5.12</td>\n",
       "    </tr>\n",
       "    <tr>\n",
       "      <th>7</th>\n",
       "      <td>7</td>\n",
       "      <td>2018 Hyundai Creta 1.6 SX</td>\n",
       "      <td>Jul-18</td>\n",
       "      <td>Comprehensive</td>\n",
       "      <td>Petrol</td>\n",
       "      <td>5</td>\n",
       "      <td>76000</td>\n",
       "      <td>First Owner</td>\n",
       "      <td>Manual</td>\n",
       "      <td>2018</td>\n",
       "      <td>15.80</td>\n",
       "      <td>1591.0</td>\n",
       "      <td>1591.0</td>\n",
       "      <td>1213.0</td>\n",
       "      <td>9.30</td>\n",
       "    </tr>\n",
       "    <tr>\n",
       "      <th>8</th>\n",
       "      <td>8</td>\n",
       "      <td>2015 Mercedes-Benz S-Class S 350 CDI</td>\n",
       "      <td>Apr-15</td>\n",
       "      <td>Comprehensive</td>\n",
       "      <td>Diesel</td>\n",
       "      <td>5</td>\n",
       "      <td>68000</td>\n",
       "      <td>Second Owner</td>\n",
       "      <td>Automatic</td>\n",
       "      <td>2015</td>\n",
       "      <td>13.50</td>\n",
       "      <td>2987.0</td>\n",
       "      <td>2987.0</td>\n",
       "      <td>25479.0</td>\n",
       "      <td>42.00</td>\n",
       "    </tr>\n",
       "    <tr>\n",
       "      <th>9</th>\n",
       "      <td>9</td>\n",
       "      <td>2019 Tata Nexon 1.2 Revotron XZ Plus</td>\n",
       "      <td>Mar-19</td>\n",
       "      <td>Comprehensive</td>\n",
       "      <td>Petrol</td>\n",
       "      <td>5</td>\n",
       "      <td>28783</td>\n",
       "      <td>First Owner</td>\n",
       "      <td>Manual</td>\n",
       "      <td>2019</td>\n",
       "      <td>17.00</td>\n",
       "      <td>1198.0</td>\n",
       "      <td>1198.0</td>\n",
       "      <td>1085.0</td>\n",
       "      <td>8.02</td>\n",
       "    </tr>\n",
       "  </tbody>\n",
       "</table>\n",
       "</div>"
      ],
      "text/plain": [
       "   Unnamed: 0                                           car_name  \\\n",
       "0           0                    2017 Mercedes-Benz S-Class S400   \n",
       "1           1  2020 Nissan Magnite Turbo CVT XV Premium Opt BSVI   \n",
       "2           2                       2018 BMW X1 sDrive 20d xLine   \n",
       "3           3                           2019 Kia Seltos GTX Plus   \n",
       "4           4                    2019 Skoda Superb LK 1.8 TSI AT   \n",
       "5           5                       2017 Honda Jazz 1.2 S i VTEC   \n",
       "6           6       2018 Hyundai Grand i10 1.2 Kappa Sportz BSIV   \n",
       "7           7                          2018 Hyundai Creta 1.6 SX   \n",
       "8           8               2015 Mercedes-Benz S-Class S 350 CDI   \n",
       "9           9               2019 Tata Nexon 1.2 Revotron XZ Plus   \n",
       "\n",
       "  registration_year     insurance_validity fuel_type  seats  kms_driven  \\\n",
       "0            Jul-17          Comprehensive    Petrol      5       56000   \n",
       "1            Jan-21          Comprehensive    Petrol      5       30615   \n",
       "2            Sep-18          Comprehensive    Diesel      5       24000   \n",
       "3            Dec-19          Comprehensive    Petrol      5       18378   \n",
       "4            Aug-19          Comprehensive    Petrol      5       44900   \n",
       "5            Jul-17  Third Party insurance    Petrol      5       42000   \n",
       "6            Feb-19          Comprehensive    Petrol      5       36739   \n",
       "7            Jul-18          Comprehensive    Petrol      5       76000   \n",
       "8            Apr-15          Comprehensive    Diesel      5       68000   \n",
       "9            Mar-19          Comprehensive    Petrol      5       28783   \n",
       "\n",
       "     ownsership transmission manufacturing_year  mileage(kmpl)  engine(cc)  \\\n",
       "0   First Owner    Automatic               2017           7.81      2996.0   \n",
       "1   First Owner    Automatic               2020          17.40       999.0   \n",
       "2   First Owner    Automatic               2018          20.68      1995.0   \n",
       "3   First Owner       Manual               2019          16.50      1353.0   \n",
       "4   First Owner    Automatic               2019          14.67      1798.0   \n",
       "5   First Owner       Manual               2017          18.70      1199.0   \n",
       "6   First Owner       Manual               2018          18.90      1197.0   \n",
       "7   First Owner       Manual               2018          15.80      1591.0   \n",
       "8  Second Owner    Automatic               2015          13.50      2987.0   \n",
       "9   First Owner       Manual               2019          17.00      1198.0   \n",
       "\n",
       "   max_power(bhp)  torque(Nm)  price(in lakhs)  \n",
       "0          2996.0       333.0            63.75  \n",
       "1           999.0      9863.0             8.99  \n",
       "2          1995.0       188.0            23.75  \n",
       "3          1353.0     13808.0            13.56  \n",
       "4          1798.0     17746.0            24.00  \n",
       "5          1199.0       887.0             5.45  \n",
       "6          1197.0      8186.0             5.12  \n",
       "7          1591.0      1213.0             9.30  \n",
       "8          2987.0     25479.0            42.00  \n",
       "9          1198.0      1085.0             8.02  "
      ]
     },
     "execution_count": 556,
     "metadata": {},
     "output_type": "execute_result"
    }
   ],
   "source": [
    "import pandas as pd\n",
    "import matplotlib.pyplot as plt\n",
    "import seaborn as sns\n",
    "from sklearn.preprocessing import StandardScaler \n",
    "Ucarsdata=pd.read_csv(\"UCar.csv\")\n",
    "Ucarsdata.head(10)\n"
   ]
  },
  {
   "cell_type": "code",
   "execution_count": 557,
   "id": "d99a5910",
   "metadata": {
    "scrolled": false
   },
   "outputs": [
    {
     "data": {
      "text/plain": [
       "Unnamed: 0            0\n",
       "car_name              0\n",
       "registration_year     0\n",
       "insurance_validity    0\n",
       "fuel_type             0\n",
       "seats                 0\n",
       "kms_driven            0\n",
       "ownsership            0\n",
       "transmission          0\n",
       "manufacturing_year    0\n",
       "mileage(kmpl)         3\n",
       "engine(cc)            3\n",
       "max_power(bhp)        3\n",
       "torque(Nm)            4\n",
       "price(in lakhs)       0\n",
       "dtype: int64"
      ]
     },
     "execution_count": 557,
     "metadata": {},
     "output_type": "execute_result"
    }
   ],
   "source": [
    "#checking for NaN values\n",
    "Ucarsdata.isnull().sum()"
   ]
  },
  {
   "cell_type": "code",
   "execution_count": 558,
   "id": "4f8785cb",
   "metadata": {
    "scrolled": false
   },
   "outputs": [
    {
     "data": {
      "text/html": [
       "<div>\n",
       "<style scoped>\n",
       "    .dataframe tbody tr th:only-of-type {\n",
       "        vertical-align: middle;\n",
       "    }\n",
       "\n",
       "    .dataframe tbody tr th {\n",
       "        vertical-align: top;\n",
       "    }\n",
       "\n",
       "    .dataframe thead th {\n",
       "        text-align: right;\n",
       "    }\n",
       "</style>\n",
       "<table border=\"1\" class=\"dataframe\">\n",
       "  <thead>\n",
       "    <tr style=\"text-align: right;\">\n",
       "      <th></th>\n",
       "      <th>Unnamed: 0</th>\n",
       "      <th>car_name</th>\n",
       "      <th>registration_year</th>\n",
       "      <th>insurance_validity</th>\n",
       "      <th>fuel_type</th>\n",
       "      <th>seats</th>\n",
       "      <th>kms_driven</th>\n",
       "      <th>ownsership</th>\n",
       "      <th>transmission</th>\n",
       "      <th>manufacturing_year</th>\n",
       "      <th>mileage(kmpl)</th>\n",
       "      <th>engine(cc)</th>\n",
       "      <th>max_power(bhp)</th>\n",
       "      <th>torque(Nm)</th>\n",
       "      <th>price(in lakhs)</th>\n",
       "    </tr>\n",
       "  </thead>\n",
       "  <tbody>\n",
       "    <tr>\n",
       "      <th>0</th>\n",
       "      <td>0</td>\n",
       "      <td>2017 Mercedes-Benz S-Class S400</td>\n",
       "      <td>Jul-17</td>\n",
       "      <td>Comprehensive</td>\n",
       "      <td>Petrol</td>\n",
       "      <td>5</td>\n",
       "      <td>56000</td>\n",
       "      <td>First Owner</td>\n",
       "      <td>Automatic</td>\n",
       "      <td>2017</td>\n",
       "      <td>7.81</td>\n",
       "      <td>2996.0</td>\n",
       "      <td>2996.0</td>\n",
       "      <td>333.0</td>\n",
       "      <td>63.75</td>\n",
       "    </tr>\n",
       "    <tr>\n",
       "      <th>1</th>\n",
       "      <td>1</td>\n",
       "      <td>2020 Nissan Magnite Turbo CVT XV Premium Opt BSVI</td>\n",
       "      <td>Jan-21</td>\n",
       "      <td>Comprehensive</td>\n",
       "      <td>Petrol</td>\n",
       "      <td>5</td>\n",
       "      <td>30615</td>\n",
       "      <td>First Owner</td>\n",
       "      <td>Automatic</td>\n",
       "      <td>2020</td>\n",
       "      <td>17.40</td>\n",
       "      <td>999.0</td>\n",
       "      <td>999.0</td>\n",
       "      <td>9863.0</td>\n",
       "      <td>8.99</td>\n",
       "    </tr>\n",
       "    <tr>\n",
       "      <th>2</th>\n",
       "      <td>2</td>\n",
       "      <td>2018 BMW X1 sDrive 20d xLine</td>\n",
       "      <td>Sep-18</td>\n",
       "      <td>Comprehensive</td>\n",
       "      <td>Diesel</td>\n",
       "      <td>5</td>\n",
       "      <td>24000</td>\n",
       "      <td>First Owner</td>\n",
       "      <td>Automatic</td>\n",
       "      <td>2018</td>\n",
       "      <td>20.68</td>\n",
       "      <td>1995.0</td>\n",
       "      <td>1995.0</td>\n",
       "      <td>188.0</td>\n",
       "      <td>23.75</td>\n",
       "    </tr>\n",
       "    <tr>\n",
       "      <th>3</th>\n",
       "      <td>3</td>\n",
       "      <td>2019 Kia Seltos GTX Plus</td>\n",
       "      <td>Dec-19</td>\n",
       "      <td>Comprehensive</td>\n",
       "      <td>Petrol</td>\n",
       "      <td>5</td>\n",
       "      <td>18378</td>\n",
       "      <td>First Owner</td>\n",
       "      <td>Manual</td>\n",
       "      <td>2019</td>\n",
       "      <td>16.50</td>\n",
       "      <td>1353.0</td>\n",
       "      <td>1353.0</td>\n",
       "      <td>13808.0</td>\n",
       "      <td>13.56</td>\n",
       "    </tr>\n",
       "    <tr>\n",
       "      <th>4</th>\n",
       "      <td>4</td>\n",
       "      <td>2019 Skoda Superb LK 1.8 TSI AT</td>\n",
       "      <td>Aug-19</td>\n",
       "      <td>Comprehensive</td>\n",
       "      <td>Petrol</td>\n",
       "      <td>5</td>\n",
       "      <td>44900</td>\n",
       "      <td>First Owner</td>\n",
       "      <td>Automatic</td>\n",
       "      <td>2019</td>\n",
       "      <td>14.67</td>\n",
       "      <td>1798.0</td>\n",
       "      <td>1798.0</td>\n",
       "      <td>17746.0</td>\n",
       "      <td>24.00</td>\n",
       "    </tr>\n",
       "    <tr>\n",
       "      <th>...</th>\n",
       "      <td>...</td>\n",
       "      <td>...</td>\n",
       "      <td>...</td>\n",
       "      <td>...</td>\n",
       "      <td>...</td>\n",
       "      <td>...</td>\n",
       "      <td>...</td>\n",
       "      <td>...</td>\n",
       "      <td>...</td>\n",
       "      <td>...</td>\n",
       "      <td>...</td>\n",
       "      <td>...</td>\n",
       "      <td>...</td>\n",
       "      <td>...</td>\n",
       "      <td>...</td>\n",
       "    </tr>\n",
       "    <tr>\n",
       "      <th>1548</th>\n",
       "      <td>1548</td>\n",
       "      <td>2020 Hyundai Creta SX Opt Diesel AT BSVI</td>\n",
       "      <td>Aug-20</td>\n",
       "      <td>Comprehensive</td>\n",
       "      <td>Diesel</td>\n",
       "      <td>5</td>\n",
       "      <td>35000</td>\n",
       "      <td>First Owner</td>\n",
       "      <td>Automatic</td>\n",
       "      <td>2020</td>\n",
       "      <td>1493.00</td>\n",
       "      <td>11345.0</td>\n",
       "      <td>11345.0</td>\n",
       "      <td>250.0</td>\n",
       "      <td>17.41</td>\n",
       "    </tr>\n",
       "    <tr>\n",
       "      <th>1549</th>\n",
       "      <td>1549</td>\n",
       "      <td>2022 Renault KWID 1.0 RXL Opt BSVI</td>\n",
       "      <td>2022</td>\n",
       "      <td>Third Party insurance</td>\n",
       "      <td>Petrol</td>\n",
       "      <td>5</td>\n",
       "      <td>10000</td>\n",
       "      <td>999 cc</td>\n",
       "      <td>2022</td>\n",
       "      <td>Power Steering</td>\n",
       "      <td>999.00</td>\n",
       "      <td>6706.0</td>\n",
       "      <td>6706.0</td>\n",
       "      <td>91.0</td>\n",
       "      <td>3.98</td>\n",
       "    </tr>\n",
       "    <tr>\n",
       "      <th>1550</th>\n",
       "      <td>1550</td>\n",
       "      <td>2017 Honda WR-V i-VTEC S</td>\n",
       "      <td>Jun-17</td>\n",
       "      <td>Comprehensive</td>\n",
       "      <td>Petrol</td>\n",
       "      <td>5</td>\n",
       "      <td>49000</td>\n",
       "      <td>First Owner</td>\n",
       "      <td>Manual</td>\n",
       "      <td>2017</td>\n",
       "      <td>17.50</td>\n",
       "      <td>1199.0</td>\n",
       "      <td>1199.0</td>\n",
       "      <td>887.0</td>\n",
       "      <td>5.85</td>\n",
       "    </tr>\n",
       "    <tr>\n",
       "      <th>1551</th>\n",
       "      <td>1551</td>\n",
       "      <td>2018 Volkswagen Polo 1.0 MPI Comfortline</td>\n",
       "      <td>May-18</td>\n",
       "      <td>Comprehensive</td>\n",
       "      <td>Petrol</td>\n",
       "      <td>5</td>\n",
       "      <td>40000</td>\n",
       "      <td>Second Owner</td>\n",
       "      <td>Manual</td>\n",
       "      <td>2018</td>\n",
       "      <td>18.78</td>\n",
       "      <td>999.0</td>\n",
       "      <td>999.0</td>\n",
       "      <td>75.0</td>\n",
       "      <td>4.75</td>\n",
       "    </tr>\n",
       "    <tr>\n",
       "      <th>1552</th>\n",
       "      <td>1552</td>\n",
       "      <td>2018 Maruti Swift Dzire VXI</td>\n",
       "      <td>May-18</td>\n",
       "      <td>Comprehensive</td>\n",
       "      <td>Petrol</td>\n",
       "      <td>5</td>\n",
       "      <td>34756</td>\n",
       "      <td>First Owner</td>\n",
       "      <td>Manual</td>\n",
       "      <td>2018</td>\n",
       "      <td>20.85</td>\n",
       "      <td>1197.0</td>\n",
       "      <td>1197.0</td>\n",
       "      <td>8314.0</td>\n",
       "      <td>6.10</td>\n",
       "    </tr>\n",
       "  </tbody>\n",
       "</table>\n",
       "<p>1549 rows × 15 columns</p>\n",
       "</div>"
      ],
      "text/plain": [
       "      Unnamed: 0                                           car_name  \\\n",
       "0              0                    2017 Mercedes-Benz S-Class S400   \n",
       "1              1  2020 Nissan Magnite Turbo CVT XV Premium Opt BSVI   \n",
       "2              2                       2018 BMW X1 sDrive 20d xLine   \n",
       "3              3                           2019 Kia Seltos GTX Plus   \n",
       "4              4                    2019 Skoda Superb LK 1.8 TSI AT   \n",
       "...          ...                                                ...   \n",
       "1548        1548           2020 Hyundai Creta SX Opt Diesel AT BSVI   \n",
       "1549        1549                 2022 Renault KWID 1.0 RXL Opt BSVI   \n",
       "1550        1550                           2017 Honda WR-V i-VTEC S   \n",
       "1551        1551           2018 Volkswagen Polo 1.0 MPI Comfortline   \n",
       "1552        1552                        2018 Maruti Swift Dzire VXI   \n",
       "\n",
       "     registration_year     insurance_validity fuel_type  seats  kms_driven  \\\n",
       "0               Jul-17          Comprehensive    Petrol      5       56000   \n",
       "1               Jan-21          Comprehensive    Petrol      5       30615   \n",
       "2               Sep-18          Comprehensive    Diesel      5       24000   \n",
       "3               Dec-19          Comprehensive    Petrol      5       18378   \n",
       "4               Aug-19          Comprehensive    Petrol      5       44900   \n",
       "...                ...                    ...       ...    ...         ...   \n",
       "1548            Aug-20          Comprehensive    Diesel      5       35000   \n",
       "1549              2022  Third Party insurance    Petrol      5       10000   \n",
       "1550            Jun-17          Comprehensive    Petrol      5       49000   \n",
       "1551            May-18          Comprehensive    Petrol      5       40000   \n",
       "1552            May-18          Comprehensive    Petrol      5       34756   \n",
       "\n",
       "        ownsership transmission manufacturing_year  mileage(kmpl)  engine(cc)  \\\n",
       "0      First Owner    Automatic               2017           7.81      2996.0   \n",
       "1      First Owner    Automatic               2020          17.40       999.0   \n",
       "2      First Owner    Automatic               2018          20.68      1995.0   \n",
       "3      First Owner       Manual               2019          16.50      1353.0   \n",
       "4      First Owner    Automatic               2019          14.67      1798.0   \n",
       "...            ...          ...                ...            ...         ...   \n",
       "1548   First Owner    Automatic               2020        1493.00     11345.0   \n",
       "1549        999 cc         2022     Power Steering         999.00      6706.0   \n",
       "1550   First Owner       Manual               2017          17.50      1199.0   \n",
       "1551  Second Owner       Manual               2018          18.78       999.0   \n",
       "1552   First Owner       Manual               2018          20.85      1197.0   \n",
       "\n",
       "      max_power(bhp)  torque(Nm)  price(in lakhs)  \n",
       "0             2996.0       333.0            63.75  \n",
       "1              999.0      9863.0             8.99  \n",
       "2             1995.0       188.0            23.75  \n",
       "3             1353.0     13808.0            13.56  \n",
       "4             1798.0     17746.0            24.00  \n",
       "...              ...         ...              ...  \n",
       "1548         11345.0       250.0            17.41  \n",
       "1549          6706.0        91.0             3.98  \n",
       "1550          1199.0       887.0             5.85  \n",
       "1551           999.0        75.0             4.75  \n",
       "1552          1197.0      8314.0             6.10  \n",
       "\n",
       "[1549 rows x 15 columns]"
      ]
     },
     "execution_count": 558,
     "metadata": {},
     "output_type": "execute_result"
    }
   ],
   "source": [
    "#deleting rows with NaN values since they are just 13\n",
    "Ucarsdata.dropna(axis=0,how='any',inplace=True)\n",
    "Ucarsdata"
   ]
  },
  {
   "cell_type": "code",
   "execution_count": 559,
   "id": "1dfe2a6b",
   "metadata": {
    "scrolled": true
   },
   "outputs": [
    {
     "data": {
      "text/plain": [
       "Unnamed: 0            0\n",
       "car_name              0\n",
       "registration_year     0\n",
       "insurance_validity    0\n",
       "fuel_type             0\n",
       "seats                 0\n",
       "kms_driven            0\n",
       "ownsership            0\n",
       "transmission          0\n",
       "manufacturing_year    0\n",
       "mileage(kmpl)         0\n",
       "engine(cc)            0\n",
       "max_power(bhp)        0\n",
       "torque(Nm)            0\n",
       "price(in lakhs)       0\n",
       "dtype: int64"
      ]
     },
     "execution_count": 559,
     "metadata": {},
     "output_type": "execute_result"
    }
   ],
   "source": [
    "#checking for NaN values\n",
    "Ucarsdata.isnull().sum()"
   ]
  },
  {
   "cell_type": "code",
   "execution_count": 560,
   "id": "53f040f0",
   "metadata": {
    "scrolled": false
   },
   "outputs": [
    {
     "name": "stdout",
     "output_type": "stream",
     "text": [
      "<class 'pandas.core.frame.DataFrame'>\n",
      "Int64Index: 1549 entries, 0 to 1552\n",
      "Data columns (total 15 columns):\n",
      " #   Column              Non-Null Count  Dtype  \n",
      "---  ------              --------------  -----  \n",
      " 0   Unnamed: 0          1549 non-null   int64  \n",
      " 1   car_name            1549 non-null   object \n",
      " 2   registration_year   1549 non-null   object \n",
      " 3   insurance_validity  1549 non-null   object \n",
      " 4   fuel_type           1549 non-null   object \n",
      " 5   seats               1549 non-null   int64  \n",
      " 6   kms_driven          1549 non-null   int64  \n",
      " 7   ownsership          1549 non-null   object \n",
      " 8   transmission        1549 non-null   object \n",
      " 9   manufacturing_year  1549 non-null   object \n",
      " 10  mileage(kmpl)       1549 non-null   float64\n",
      " 11  engine(cc)          1549 non-null   float64\n",
      " 12  max_power(bhp)      1549 non-null   float64\n",
      " 13  torque(Nm)          1549 non-null   float64\n",
      " 14  price(in lakhs)     1549 non-null   float64\n",
      "dtypes: float64(5), int64(3), object(7)\n",
      "memory usage: 193.6+ KB\n"
     ]
    }
   ],
   "source": [
    "#checking data type\n",
    "Ucarsdata.info()"
   ]
  },
  {
   "cell_type": "code",
   "execution_count": 561,
   "id": "1bd61f47",
   "metadata": {},
   "outputs": [
    {
     "data": {
      "text/html": [
       "<div>\n",
       "<style scoped>\n",
       "    .dataframe tbody tr th:only-of-type {\n",
       "        vertical-align: middle;\n",
       "    }\n",
       "\n",
       "    .dataframe tbody tr th {\n",
       "        vertical-align: top;\n",
       "    }\n",
       "\n",
       "    .dataframe thead th {\n",
       "        text-align: right;\n",
       "    }\n",
       "</style>\n",
       "<table border=\"1\" class=\"dataframe\">\n",
       "  <thead>\n",
       "    <tr style=\"text-align: right;\">\n",
       "      <th></th>\n",
       "      <th>Unnamed: 0</th>\n",
       "      <th>seats</th>\n",
       "      <th>kms_driven</th>\n",
       "      <th>mileage(kmpl)</th>\n",
       "      <th>engine(cc)</th>\n",
       "      <th>max_power(bhp)</th>\n",
       "      <th>torque(Nm)</th>\n",
       "      <th>price(in lakhs)</th>\n",
       "    </tr>\n",
       "  </thead>\n",
       "  <tbody>\n",
       "    <tr>\n",
       "      <th>count</th>\n",
       "      <td>1549.000000</td>\n",
       "      <td>1549.00000</td>\n",
       "      <td>1549.000000</td>\n",
       "      <td>1549.000000</td>\n",
       "      <td>1.549000e+03</td>\n",
       "      <td>1.549000e+03</td>\n",
       "      <td>1.549000e+03</td>\n",
       "      <td>1549.000000</td>\n",
       "    </tr>\n",
       "    <tr>\n",
       "      <th>mean</th>\n",
       "      <td>776.650097</td>\n",
       "      <td>91.70368</td>\n",
       "      <td>52871.165268</td>\n",
       "      <td>237.067966</td>\n",
       "      <td>1.472808e+10</td>\n",
       "      <td>1.472808e+10</td>\n",
       "      <td>1.423989e+04</td>\n",
       "      <td>166.519258</td>\n",
       "    </tr>\n",
       "    <tr>\n",
       "      <th>std</th>\n",
       "      <td>448.847012</td>\n",
       "      <td>2406.52323</td>\n",
       "      <td>40103.619123</td>\n",
       "      <td>586.127342</td>\n",
       "      <td>2.186332e+11</td>\n",
       "      <td>2.186332e+11</td>\n",
       "      <td>9.666241e+04</td>\n",
       "      <td>3483.338542</td>\n",
       "    </tr>\n",
       "    <tr>\n",
       "      <th>min</th>\n",
       "      <td>0.000000</td>\n",
       "      <td>4.00000</td>\n",
       "      <td>620.000000</td>\n",
       "      <td>7.810000</td>\n",
       "      <td>1.700000e+01</td>\n",
       "      <td>1.700000e+01</td>\n",
       "      <td>5.000000e+00</td>\n",
       "      <td>1.000000</td>\n",
       "    </tr>\n",
       "    <tr>\n",
       "      <th>25%</th>\n",
       "      <td>387.000000</td>\n",
       "      <td>5.00000</td>\n",
       "      <td>30000.000000</td>\n",
       "      <td>16.340000</td>\n",
       "      <td>1.197000e+03</td>\n",
       "      <td>1.197000e+03</td>\n",
       "      <td>4.000000e+02</td>\n",
       "      <td>4.700000</td>\n",
       "    </tr>\n",
       "    <tr>\n",
       "      <th>50%</th>\n",
       "      <td>778.000000</td>\n",
       "      <td>5.00000</td>\n",
       "      <td>49000.000000</td>\n",
       "      <td>18.900000</td>\n",
       "      <td>1.462000e+03</td>\n",
       "      <td>1.462000e+03</td>\n",
       "      <td>1.173000e+03</td>\n",
       "      <td>7.140000</td>\n",
       "    </tr>\n",
       "    <tr>\n",
       "      <th>75%</th>\n",
       "      <td>1165.000000</td>\n",
       "      <td>5.00000</td>\n",
       "      <td>70000.000000</td>\n",
       "      <td>22.000000</td>\n",
       "      <td>1.995000e+03</td>\n",
       "      <td>1.995000e+03</td>\n",
       "      <td>8.850000e+03</td>\n",
       "      <td>17.000000</td>\n",
       "    </tr>\n",
       "    <tr>\n",
       "      <th>max</th>\n",
       "      <td>1552.000000</td>\n",
       "      <td>67000.00000</td>\n",
       "      <td>810000.000000</td>\n",
       "      <td>3996.000000</td>\n",
       "      <td>3.258640e+12</td>\n",
       "      <td>3.258640e+12</td>\n",
       "      <td>1.464800e+06</td>\n",
       "      <td>95000.000000</td>\n",
       "    </tr>\n",
       "  </tbody>\n",
       "</table>\n",
       "</div>"
      ],
      "text/plain": [
       "        Unnamed: 0        seats     kms_driven  mileage(kmpl)    engine(cc)  \\\n",
       "count  1549.000000   1549.00000    1549.000000    1549.000000  1.549000e+03   \n",
       "mean    776.650097     91.70368   52871.165268     237.067966  1.472808e+10   \n",
       "std     448.847012   2406.52323   40103.619123     586.127342  2.186332e+11   \n",
       "min       0.000000      4.00000     620.000000       7.810000  1.700000e+01   \n",
       "25%     387.000000      5.00000   30000.000000      16.340000  1.197000e+03   \n",
       "50%     778.000000      5.00000   49000.000000      18.900000  1.462000e+03   \n",
       "75%    1165.000000      5.00000   70000.000000      22.000000  1.995000e+03   \n",
       "max    1552.000000  67000.00000  810000.000000    3996.000000  3.258640e+12   \n",
       "\n",
       "       max_power(bhp)    torque(Nm)  price(in lakhs)  \n",
       "count    1.549000e+03  1.549000e+03      1549.000000  \n",
       "mean     1.472808e+10  1.423989e+04       166.519258  \n",
       "std      2.186332e+11  9.666241e+04      3483.338542  \n",
       "min      1.700000e+01  5.000000e+00         1.000000  \n",
       "25%      1.197000e+03  4.000000e+02         4.700000  \n",
       "50%      1.462000e+03  1.173000e+03         7.140000  \n",
       "75%      1.995000e+03  8.850000e+03        17.000000  \n",
       "max      3.258640e+12  1.464800e+06     95000.000000  "
      ]
     },
     "execution_count": 561,
     "metadata": {},
     "output_type": "execute_result"
    }
   ],
   "source": [
    "#loocking for outliers\n",
    "Ucarsdata.describe()"
   ]
  },
  {
   "cell_type": "code",
   "execution_count": 562,
   "id": "cc690e87",
   "metadata": {},
   "outputs": [
    {
     "data": {
      "text/html": [
       "<div>\n",
       "<style scoped>\n",
       "    .dataframe tbody tr th:only-of-type {\n",
       "        vertical-align: middle;\n",
       "    }\n",
       "\n",
       "    .dataframe tbody tr th {\n",
       "        vertical-align: top;\n",
       "    }\n",
       "\n",
       "    .dataframe thead th {\n",
       "        text-align: right;\n",
       "    }\n",
       "</style>\n",
       "<table border=\"1\" class=\"dataframe\">\n",
       "  <thead>\n",
       "    <tr style=\"text-align: right;\">\n",
       "      <th></th>\n",
       "      <th>Unnamed: 0</th>\n",
       "      <th>car_name</th>\n",
       "      <th>registration_year</th>\n",
       "      <th>insurance_validity</th>\n",
       "      <th>fuel_type</th>\n",
       "      <th>seats</th>\n",
       "      <th>kms_driven</th>\n",
       "      <th>ownsership</th>\n",
       "      <th>transmission</th>\n",
       "      <th>manufacturing_year</th>\n",
       "      <th>mileage</th>\n",
       "      <th>engine</th>\n",
       "      <th>max_power</th>\n",
       "      <th>torque</th>\n",
       "      <th>price</th>\n",
       "    </tr>\n",
       "  </thead>\n",
       "  <tbody>\n",
       "    <tr>\n",
       "      <th>0</th>\n",
       "      <td>0</td>\n",
       "      <td>2017 Mercedes-Benz S-Class S400</td>\n",
       "      <td>Jul-17</td>\n",
       "      <td>Comprehensive</td>\n",
       "      <td>Petrol</td>\n",
       "      <td>5</td>\n",
       "      <td>56000</td>\n",
       "      <td>First Owner</td>\n",
       "      <td>Automatic</td>\n",
       "      <td>2017</td>\n",
       "      <td>7.81</td>\n",
       "      <td>2996.0</td>\n",
       "      <td>2996.0</td>\n",
       "      <td>333.0</td>\n",
       "      <td>63.75</td>\n",
       "    </tr>\n",
       "    <tr>\n",
       "      <th>1</th>\n",
       "      <td>1</td>\n",
       "      <td>2020 Nissan Magnite Turbo CVT XV Premium Opt BSVI</td>\n",
       "      <td>Jan-21</td>\n",
       "      <td>Comprehensive</td>\n",
       "      <td>Petrol</td>\n",
       "      <td>5</td>\n",
       "      <td>30615</td>\n",
       "      <td>First Owner</td>\n",
       "      <td>Automatic</td>\n",
       "      <td>2020</td>\n",
       "      <td>17.40</td>\n",
       "      <td>999.0</td>\n",
       "      <td>999.0</td>\n",
       "      <td>9863.0</td>\n",
       "      <td>8.99</td>\n",
       "    </tr>\n",
       "    <tr>\n",
       "      <th>2</th>\n",
       "      <td>2</td>\n",
       "      <td>2018 BMW X1 sDrive 20d xLine</td>\n",
       "      <td>Sep-18</td>\n",
       "      <td>Comprehensive</td>\n",
       "      <td>Diesel</td>\n",
       "      <td>5</td>\n",
       "      <td>24000</td>\n",
       "      <td>First Owner</td>\n",
       "      <td>Automatic</td>\n",
       "      <td>2018</td>\n",
       "      <td>20.68</td>\n",
       "      <td>1995.0</td>\n",
       "      <td>1995.0</td>\n",
       "      <td>188.0</td>\n",
       "      <td>23.75</td>\n",
       "    </tr>\n",
       "    <tr>\n",
       "      <th>3</th>\n",
       "      <td>3</td>\n",
       "      <td>2019 Kia Seltos GTX Plus</td>\n",
       "      <td>Dec-19</td>\n",
       "      <td>Comprehensive</td>\n",
       "      <td>Petrol</td>\n",
       "      <td>5</td>\n",
       "      <td>18378</td>\n",
       "      <td>First Owner</td>\n",
       "      <td>Manual</td>\n",
       "      <td>2019</td>\n",
       "      <td>16.50</td>\n",
       "      <td>1353.0</td>\n",
       "      <td>1353.0</td>\n",
       "      <td>13808.0</td>\n",
       "      <td>13.56</td>\n",
       "    </tr>\n",
       "    <tr>\n",
       "      <th>4</th>\n",
       "      <td>4</td>\n",
       "      <td>2019 Skoda Superb LK 1.8 TSI AT</td>\n",
       "      <td>Aug-19</td>\n",
       "      <td>Comprehensive</td>\n",
       "      <td>Petrol</td>\n",
       "      <td>5</td>\n",
       "      <td>44900</td>\n",
       "      <td>First Owner</td>\n",
       "      <td>Automatic</td>\n",
       "      <td>2019</td>\n",
       "      <td>14.67</td>\n",
       "      <td>1798.0</td>\n",
       "      <td>1798.0</td>\n",
       "      <td>17746.0</td>\n",
       "      <td>24.00</td>\n",
       "    </tr>\n",
       "    <tr>\n",
       "      <th>5</th>\n",
       "      <td>5</td>\n",
       "      <td>2017 Honda Jazz 1.2 S i VTEC</td>\n",
       "      <td>Jul-17</td>\n",
       "      <td>Third Party insurance</td>\n",
       "      <td>Petrol</td>\n",
       "      <td>5</td>\n",
       "      <td>42000</td>\n",
       "      <td>First Owner</td>\n",
       "      <td>Manual</td>\n",
       "      <td>2017</td>\n",
       "      <td>18.70</td>\n",
       "      <td>1199.0</td>\n",
       "      <td>1199.0</td>\n",
       "      <td>887.0</td>\n",
       "      <td>5.45</td>\n",
       "    </tr>\n",
       "    <tr>\n",
       "      <th>6</th>\n",
       "      <td>6</td>\n",
       "      <td>2018 Hyundai Grand i10 1.2 Kappa Sportz BSIV</td>\n",
       "      <td>Feb-19</td>\n",
       "      <td>Comprehensive</td>\n",
       "      <td>Petrol</td>\n",
       "      <td>5</td>\n",
       "      <td>36739</td>\n",
       "      <td>First Owner</td>\n",
       "      <td>Manual</td>\n",
       "      <td>2018</td>\n",
       "      <td>18.90</td>\n",
       "      <td>1197.0</td>\n",
       "      <td>1197.0</td>\n",
       "      <td>8186.0</td>\n",
       "      <td>5.12</td>\n",
       "    </tr>\n",
       "    <tr>\n",
       "      <th>7</th>\n",
       "      <td>7</td>\n",
       "      <td>2018 Hyundai Creta 1.6 SX</td>\n",
       "      <td>Jul-18</td>\n",
       "      <td>Comprehensive</td>\n",
       "      <td>Petrol</td>\n",
       "      <td>5</td>\n",
       "      <td>76000</td>\n",
       "      <td>First Owner</td>\n",
       "      <td>Manual</td>\n",
       "      <td>2018</td>\n",
       "      <td>15.80</td>\n",
       "      <td>1591.0</td>\n",
       "      <td>1591.0</td>\n",
       "      <td>1213.0</td>\n",
       "      <td>9.30</td>\n",
       "    </tr>\n",
       "    <tr>\n",
       "      <th>8</th>\n",
       "      <td>8</td>\n",
       "      <td>2015 Mercedes-Benz S-Class S 350 CDI</td>\n",
       "      <td>Apr-15</td>\n",
       "      <td>Comprehensive</td>\n",
       "      <td>Diesel</td>\n",
       "      <td>5</td>\n",
       "      <td>68000</td>\n",
       "      <td>Second Owner</td>\n",
       "      <td>Automatic</td>\n",
       "      <td>2015</td>\n",
       "      <td>13.50</td>\n",
       "      <td>2987.0</td>\n",
       "      <td>2987.0</td>\n",
       "      <td>25479.0</td>\n",
       "      <td>42.00</td>\n",
       "    </tr>\n",
       "    <tr>\n",
       "      <th>9</th>\n",
       "      <td>9</td>\n",
       "      <td>2019 Tata Nexon 1.2 Revotron XZ Plus</td>\n",
       "      <td>Mar-19</td>\n",
       "      <td>Comprehensive</td>\n",
       "      <td>Petrol</td>\n",
       "      <td>5</td>\n",
       "      <td>28783</td>\n",
       "      <td>First Owner</td>\n",
       "      <td>Manual</td>\n",
       "      <td>2019</td>\n",
       "      <td>17.00</td>\n",
       "      <td>1198.0</td>\n",
       "      <td>1198.0</td>\n",
       "      <td>1085.0</td>\n",
       "      <td>8.02</td>\n",
       "    </tr>\n",
       "  </tbody>\n",
       "</table>\n",
       "</div>"
      ],
      "text/plain": [
       "   Unnamed: 0                                           car_name  \\\n",
       "0           0                    2017 Mercedes-Benz S-Class S400   \n",
       "1           1  2020 Nissan Magnite Turbo CVT XV Premium Opt BSVI   \n",
       "2           2                       2018 BMW X1 sDrive 20d xLine   \n",
       "3           3                           2019 Kia Seltos GTX Plus   \n",
       "4           4                    2019 Skoda Superb LK 1.8 TSI AT   \n",
       "5           5                       2017 Honda Jazz 1.2 S i VTEC   \n",
       "6           6       2018 Hyundai Grand i10 1.2 Kappa Sportz BSIV   \n",
       "7           7                          2018 Hyundai Creta 1.6 SX   \n",
       "8           8               2015 Mercedes-Benz S-Class S 350 CDI   \n",
       "9           9               2019 Tata Nexon 1.2 Revotron XZ Plus   \n",
       "\n",
       "  registration_year     insurance_validity fuel_type  seats  kms_driven  \\\n",
       "0            Jul-17          Comprehensive    Petrol      5       56000   \n",
       "1            Jan-21          Comprehensive    Petrol      5       30615   \n",
       "2            Sep-18          Comprehensive    Diesel      5       24000   \n",
       "3            Dec-19          Comprehensive    Petrol      5       18378   \n",
       "4            Aug-19          Comprehensive    Petrol      5       44900   \n",
       "5            Jul-17  Third Party insurance    Petrol      5       42000   \n",
       "6            Feb-19          Comprehensive    Petrol      5       36739   \n",
       "7            Jul-18          Comprehensive    Petrol      5       76000   \n",
       "8            Apr-15          Comprehensive    Diesel      5       68000   \n",
       "9            Mar-19          Comprehensive    Petrol      5       28783   \n",
       "\n",
       "     ownsership transmission manufacturing_year  mileage  engine  max_power  \\\n",
       "0   First Owner    Automatic               2017     7.81  2996.0     2996.0   \n",
       "1   First Owner    Automatic               2020    17.40   999.0      999.0   \n",
       "2   First Owner    Automatic               2018    20.68  1995.0     1995.0   \n",
       "3   First Owner       Manual               2019    16.50  1353.0     1353.0   \n",
       "4   First Owner    Automatic               2019    14.67  1798.0     1798.0   \n",
       "5   First Owner       Manual               2017    18.70  1199.0     1199.0   \n",
       "6   First Owner       Manual               2018    18.90  1197.0     1197.0   \n",
       "7   First Owner       Manual               2018    15.80  1591.0     1591.0   \n",
       "8  Second Owner    Automatic               2015    13.50  2987.0     2987.0   \n",
       "9   First Owner       Manual               2019    17.00  1198.0     1198.0   \n",
       "\n",
       "    torque  price  \n",
       "0    333.0  63.75  \n",
       "1   9863.0   8.99  \n",
       "2    188.0  23.75  \n",
       "3  13808.0  13.56  \n",
       "4  17746.0  24.00  \n",
       "5    887.0   5.45  \n",
       "6   8186.0   5.12  \n",
       "7   1213.0   9.30  \n",
       "8  25479.0  42.00  \n",
       "9   1085.0   8.02  "
      ]
     },
     "execution_count": 562,
     "metadata": {},
     "output_type": "execute_result"
    }
   ],
   "source": [
    "#replacing some column titles\n",
    "Ucarsdata.rename(columns = {'mileage(kmpl)' : 'mileage','engine(cc)' : 'engine','max_power(bhp)' : 'max_power',\n",
    "                            'torque(Nm)' : 'torque','price(in lakhs)' : 'price'}, inplace = True)\n",
    "Ucarsdata.head(10)"
   ]
  },
  {
   "cell_type": "code",
   "execution_count": 563,
   "id": "fd4962af",
   "metadata": {},
   "outputs": [
    {
     "data": {
      "text/plain": [
       "array(['Comprehensive', 'Third Party insurance', 'Zero Dep',\n",
       "       'Third Party', 'Petrol', 'Not Available'], dtype=object)"
      ]
     },
     "metadata": {},
     "output_type": "display_data"
    },
    {
     "data": {
      "text/plain": [
       "array(['Petrol', 'Diesel', 'CNG', '5 Seats'], dtype=object)"
      ]
     },
     "metadata": {},
     "output_type": "display_data"
    },
    {
     "data": {
      "text/plain": [
       "array([    5,     6,     7,     4,     8, 67000], dtype=int64)"
      ]
     },
     "metadata": {},
     "output_type": "display_data"
    },
    {
     "data": {
      "text/plain": [
       "array(['First Owner', 'Second Owner', 'Third Owner', '2993 cc', '1461 cc',\n",
       "       '998 cc', '1995 cc', '1451 cc', '1998 cc', '1498 cc', '1497 cc',\n",
       "       '1996 cc', '1950 cc', '2013', 'Fifth Owner', '1199 cc', '1248 cc',\n",
       "       '999 cc', '1197 cc', '1984 cc', '2999 cc', '1968 cc'], dtype=object)"
      ]
     },
     "metadata": {},
     "output_type": "display_data"
    },
    {
     "data": {
      "text/plain": [
       "array(['Automatic', 'Manual', '2017', '2014', '2023', '2020', '2021',\n",
       "       '2011', '2022', 'Power Windows Front', '2018', '2015', '2016'],\n",
       "      dtype=object)"
      ]
     },
     "metadata": {},
     "output_type": "display_data"
    },
    {
     "data": {
      "text/plain": [
       "array(['2017', '2020', '2018', '2019', '2015', '2021', '2014', '2022',\n",
       "       '2010', '2011', '2023', '2016', '2009', '2013', 'Power Steering',\n",
       "       '2012', 'Power Windows Front', 'Air Conditioner', '2007'],\n",
       "      dtype=object)"
      ]
     },
     "metadata": {},
     "output_type": "display_data"
    }
   ],
   "source": [
    "#inspecting data for insignificant values\n",
    "display(Ucarsdata.insurance_validity.unique())\n",
    "display(Ucarsdata.fuel_type.unique())\n",
    "display(Ucarsdata.seats.unique())\n",
    "display(Ucarsdata.ownsership.unique())\n",
    "display(Ucarsdata.transmission.unique())\n",
    "display(Ucarsdata.manufacturing_year.unique()) "
   ]
  },
  {
   "cell_type": "code",
   "execution_count": 564,
   "id": "0253252c",
   "metadata": {
    "scrolled": false
   },
   "outputs": [
    {
     "data": {
      "text/plain": [
       "Comprehensive            69.786959\n",
       "Third Party insurance    21.755972\n",
       "Zero Dep                  4.131698\n",
       "Third Party               4.067140\n",
       "Petrol                    0.129116\n",
       "Not Available             0.129116\n",
       "Name: insurance_validity, dtype: float64"
      ]
     },
     "execution_count": 564,
     "metadata": {},
     "output_type": "execute_result"
    }
   ],
   "source": [
    "#mesuring the impact of insignificant values by calculating there numbers for each column\n",
    "Ucarsdata['insurance_validity'].value_counts(normalize=True) * 100"
   ]
  },
  {
   "cell_type": "code",
   "execution_count": 565,
   "id": "e0b0b721",
   "metadata": {},
   "outputs": [
    {
     "data": {
      "text/plain": [
       "Comprehensive            69.967638\n",
       "Third Party insurance    25.889968\n",
       "Zero Dep                  4.142395\n",
       "Name: insurance_validity, dtype: float64"
      ]
     },
     "execution_count": 565,
     "metadata": {},
     "output_type": "execute_result"
    }
   ],
   "source": [
    "Ucarsdata.drop(Ucarsdata[Ucarsdata['insurance_validity']=='Petrol'].index, inplace = True)\n",
    "Ucarsdata.drop(Ucarsdata[Ucarsdata['insurance_validity']=='Not Available'].index, inplace = True)\n",
    "Ucarsdata['insurance_validity'] = Ucarsdata['insurance_validity'].replace(['Third Party'], 'Third Party insurance')\n",
    "Ucarsdata['insurance_validity'].value_counts(normalize=True) * 100"
   ]
  },
  {
   "cell_type": "code",
   "execution_count": 566,
   "id": "eaae5a1c",
   "metadata": {
    "scrolled": false
   },
   "outputs": [
    {
     "data": {
      "text/plain": [
       "Petrol    65.177994\n",
       "Diesel    33.398058\n",
       "CNG        1.423948\n",
       "Name: fuel_type, dtype: float64"
      ]
     },
     "execution_count": 566,
     "metadata": {},
     "output_type": "execute_result"
    }
   ],
   "source": [
    "Ucarsdata['fuel_type'].value_counts(normalize=True) * 100"
   ]
  },
  {
   "cell_type": "code",
   "execution_count": 567,
   "id": "e4f41d12",
   "metadata": {},
   "outputs": [
    {
     "data": {
      "text/plain": [
       "Petrol    65.177994\n",
       "Diesel    33.398058\n",
       "CNG        1.423948\n",
       "Name: fuel_type, dtype: float64"
      ]
     },
     "execution_count": 567,
     "metadata": {},
     "output_type": "execute_result"
    }
   ],
   "source": [
    "Ucarsdata.drop(Ucarsdata[Ucarsdata['fuel_type']=='5 Seats'].index, inplace = True)\n",
    "Ucarsdata['fuel_type'].value_counts(normalize=True) * 100"
   ]
  },
  {
   "cell_type": "code",
   "execution_count": 568,
   "id": "b5bb5eb6",
   "metadata": {
    "scrolled": false
   },
   "outputs": [
    {
     "data": {
      "text/plain": [
       "5    87.184466\n",
       "7    10.097087\n",
       "4     1.423948\n",
       "6     1.165049\n",
       "8     0.129450\n",
       "Name: seats, dtype: float64"
      ]
     },
     "execution_count": 568,
     "metadata": {},
     "output_type": "execute_result"
    }
   ],
   "source": [
    "Ucarsdata['seats'].value_counts(normalize=True) * 100"
   ]
  },
  {
   "cell_type": "code",
   "execution_count": 569,
   "id": "cb4cacb0",
   "metadata": {},
   "outputs": [
    {
     "data": {
      "text/plain": [
       "5    87.184466\n",
       "7    10.097087\n",
       "4     1.423948\n",
       "6     1.165049\n",
       "8     0.129450\n",
       "Name: seats, dtype: float64"
      ]
     },
     "execution_count": 569,
     "metadata": {},
     "output_type": "execute_result"
    }
   ],
   "source": [
    "Ucarsdata.drop(Ucarsdata[Ucarsdata['seats']=='67000'].index, inplace = True)\n",
    "Ucarsdata['seats'].value_counts(normalize=True) * 100"
   ]
  },
  {
   "cell_type": "code",
   "execution_count": 570,
   "id": "180868d4",
   "metadata": {},
   "outputs": [
    {
     "data": {
      "text/plain": [
       "First Owner     80.000000\n",
       "Second Owner    15.533981\n",
       "1995 cc          1.553398\n",
       "Third Owner      1.359223\n",
       "1498 cc          0.194175\n",
       "1451 cc          0.129450\n",
       "999 cc           0.129450\n",
       "1497 cc          0.129450\n",
       "998 cc           0.129450\n",
       "1461 cc          0.129450\n",
       "2993 cc          0.129450\n",
       "1998 cc          0.064725\n",
       "1996 cc          0.064725\n",
       "1950 cc          0.064725\n",
       "1199 cc          0.064725\n",
       "1248 cc          0.064725\n",
       "1197 cc          0.064725\n",
       "1984 cc          0.064725\n",
       "2999 cc          0.064725\n",
       "1968 cc          0.064725\n",
       "Name: ownsership, dtype: float64"
      ]
     },
     "execution_count": 570,
     "metadata": {},
     "output_type": "execute_result"
    }
   ],
   "source": [
    "Ucarsdata['ownsership'].value_counts(normalize=True) * 100"
   ]
  },
  {
   "cell_type": "code",
   "execution_count": 571,
   "id": "566cb64f",
   "metadata": {},
   "outputs": [
    {
     "data": {
      "text/plain": [
       "1    82.565130\n",
       "2    16.032064\n",
       "3     1.402806\n",
       "Name: ownsership, dtype: float64"
      ]
     },
     "execution_count": 571,
     "metadata": {},
     "output_type": "execute_result"
    }
   ],
   "source": [
    "Ucarsdata.drop(Ucarsdata[Ucarsdata['ownsership']=='1995 cc'].index, inplace = True)\n",
    "Ucarsdata.drop(Ucarsdata[Ucarsdata['ownsership']=='1498 cc'].index, inplace = True)\n",
    "Ucarsdata.drop(Ucarsdata[Ucarsdata['ownsership']=='999 cc'].index, inplace = True)\n",
    "Ucarsdata.drop(Ucarsdata[Ucarsdata['ownsership']=='2993 cc'].index, inplace = True)\n",
    "Ucarsdata.drop(Ucarsdata[Ucarsdata['ownsership']=='1461 cc'].index, inplace = True)\n",
    "Ucarsdata.drop(Ucarsdata[Ucarsdata['ownsership']=='998 cc'].index, inplace = True)\n",
    "Ucarsdata.drop(Ucarsdata[Ucarsdata['ownsership']=='1451 cc'].index, inplace = True)\n",
    "Ucarsdata.drop(Ucarsdata[Ucarsdata['ownsership']=='1497 cc'].index, inplace = True)\n",
    "Ucarsdata.drop(Ucarsdata[Ucarsdata['ownsership']=='2013'].index, inplace = True)\n",
    "Ucarsdata.drop(Ucarsdata[Ucarsdata['ownsership']=='2999 cc'].index, inplace = True)\n",
    "Ucarsdata.drop(Ucarsdata[Ucarsdata['ownsership']=='1984 cc'].index, inplace = True)\n",
    "Ucarsdata.drop(Ucarsdata[Ucarsdata['ownsership']=='1197 cc'].index, inplace = True)\n",
    "Ucarsdata.drop(Ucarsdata[Ucarsdata['ownsership']=='1996 cc'].index, inplace = True)\n",
    "Ucarsdata.drop(Ucarsdata[Ucarsdata['ownsership']=='1248 cc'].index, inplace = True)\n",
    "Ucarsdata.drop(Ucarsdata[Ucarsdata['ownsership']=='1199 cc'].index, inplace = True)\n",
    "Ucarsdata.drop(Ucarsdata[Ucarsdata['ownsership']=='1950 cc'].index, inplace = True)\n",
    "Ucarsdata.drop(Ucarsdata[Ucarsdata['ownsership']=='1998 cc'].index, inplace = True)\n",
    "Ucarsdata.drop(Ucarsdata[Ucarsdata['ownsership']=='1968 cc'].index, inplace = True)\n",
    "Ucarsdata['ownsership'] = Ucarsdata['ownsership'].replace(['First Owner'], '1')\n",
    "Ucarsdata['ownsership'] = Ucarsdata['ownsership'].replace(['Second Owner'], '2')\n",
    "Ucarsdata['ownsership'] = Ucarsdata['ownsership'].replace(['Third Owner'], '3')\n",
    "Ucarsdata['ownsership'] = Ucarsdata['ownsership'].replace(['Fifth Owner'], '5')\n",
    "Ucarsdata['ownsership'].value_counts(normalize=True) * 100"
   ]
  },
  {
   "cell_type": "code",
   "execution_count": 572,
   "id": "3d53d908",
   "metadata": {},
   "outputs": [
    {
     "data": {
      "text/plain": [
       "Manual       55.577822\n",
       "Automatic    44.422178\n",
       "Name: transmission, dtype: float64"
      ]
     },
     "execution_count": 572,
     "metadata": {},
     "output_type": "execute_result"
    }
   ],
   "source": [
    "Ucarsdata['transmission'].value_counts(normalize=True) * 100"
   ]
  },
  {
   "cell_type": "code",
   "execution_count": 573,
   "id": "a0c399a6",
   "metadata": {},
   "outputs": [
    {
     "data": {
      "text/plain": [
       "Manual       55.577822\n",
       "Automatic    44.422178\n",
       "Name: transmission, dtype: float64"
      ]
     },
     "execution_count": 573,
     "metadata": {},
     "output_type": "execute_result"
    }
   ],
   "source": [
    "Ucarsdata.drop(Ucarsdata[Ucarsdata['transmission']=='2011'].index, inplace = True)\n",
    "Ucarsdata.drop(Ucarsdata[Ucarsdata['transmission']=='2014'].index, inplace = True)\n",
    "Ucarsdata.drop(Ucarsdata[Ucarsdata['transmission']=='2015'].index, inplace = True)\n",
    "Ucarsdata.drop(Ucarsdata[Ucarsdata['transmission']=='2016'].index, inplace = True)\n",
    "Ucarsdata.drop(Ucarsdata[Ucarsdata['transmission']=='2017'].index, inplace = True)\n",
    "Ucarsdata.drop(Ucarsdata[Ucarsdata['transmission']=='2018'].index, inplace = True)\n",
    "Ucarsdata.drop(Ucarsdata[Ucarsdata['transmission']=='2020'].index, inplace = True)\n",
    "Ucarsdata.drop(Ucarsdata[Ucarsdata['transmission']=='2021'].index, inplace = True)\n",
    "Ucarsdata.drop(Ucarsdata[Ucarsdata['transmission']=='2022'].index, inplace = True)\n",
    "Ucarsdata.drop(Ucarsdata[Ucarsdata['transmission']=='2023'].index, inplace = True)\n",
    "Ucarsdata.drop(Ucarsdata[Ucarsdata['transmission']=='Power Windows Front'].index, inplace = True)\n",
    "Ucarsdata['transmission'].value_counts(normalize=True) * 100"
   ]
  },
  {
   "cell_type": "code",
   "execution_count": 574,
   "id": "fb1871aa",
   "metadata": {
    "scrolled": true
   },
   "outputs": [
    {
     "data": {
      "text/plain": [
       "2018    15.764863\n",
       "2017    12.692051\n",
       "2019    12.291249\n",
       "2015     8.884436\n",
       "2016     8.884436\n",
       "2020     8.149633\n",
       "2021     7.949232\n",
       "2014     6.880428\n",
       "2022     5.945224\n",
       "2013     3.406814\n",
       "2012     3.340013\n",
       "2023     2.338009\n",
       "2011     1.603206\n",
       "2010     1.202405\n",
       "2009     0.601202\n",
       "2007     0.066800\n",
       "Name: manufacturing_year, dtype: float64"
      ]
     },
     "execution_count": 574,
     "metadata": {},
     "output_type": "execute_result"
    }
   ],
   "source": [
    "Ucarsdata['manufacturing_year'].value_counts(normalize=True) * 100"
   ]
  },
  {
   "cell_type": "code",
   "execution_count": 575,
   "id": "f135b1da",
   "metadata": {
    "scrolled": true
   },
   "outputs": [
    {
     "data": {
      "text/plain": [
       "2018    15.764863\n",
       "2017    12.692051\n",
       "2019    12.291249\n",
       "2015     8.884436\n",
       "2016     8.884436\n",
       "2020     8.149633\n",
       "2021     7.949232\n",
       "2014     6.880428\n",
       "2022     5.945224\n",
       "2013     3.406814\n",
       "2012     3.340013\n",
       "2023     2.338009\n",
       "2011     1.603206\n",
       "2010     1.202405\n",
       "2009     0.601202\n",
       "2007     0.066800\n",
       "Name: manufacturing_year, dtype: float64"
      ]
     },
     "execution_count": 575,
     "metadata": {},
     "output_type": "execute_result"
    }
   ],
   "source": [
    "Ucarsdata.drop(Ucarsdata[Ucarsdata['manufacturing_year'] =='Power Windows Front'].index, inplace = True)\n",
    "Ucarsdata.drop(Ucarsdata[Ucarsdata['manufacturing_year'] =='Air Conditioner'].index, inplace = True)\n",
    "Ucarsdata.drop(Ucarsdata[Ucarsdata['manufacturing_year'] =='Power Steering'].index, inplace = True)\n",
    "Ucarsdata['manufacturing_year'].value_counts(normalize=True) * 100"
   ]
  },
  {
   "cell_type": "code",
   "execution_count": 576,
   "id": "e0b98a17",
   "metadata": {},
   "outputs": [
    {
     "data": {
      "text/plain": [
       "Unnamed: 0            0\n",
       "car_name              0\n",
       "registration_year     0\n",
       "insurance_validity    0\n",
       "fuel_type             0\n",
       "seats                 0\n",
       "kms_driven            0\n",
       "ownsership            0\n",
       "transmission          0\n",
       "manufacturing_year    0\n",
       "mileage               0\n",
       "engine                0\n",
       "max_power             0\n",
       "torque                0\n",
       "price                 0\n",
       "dtype: int64"
      ]
     },
     "execution_count": 576,
     "metadata": {},
     "output_type": "execute_result"
    }
   ],
   "source": [
    "Ucarsdata.isnull().sum()"
   ]
  },
  {
   "cell_type": "code",
   "execution_count": 577,
   "id": "3b2c6184",
   "metadata": {},
   "outputs": [
    {
     "data": {
      "text/html": [
       "<div>\n",
       "<style scoped>\n",
       "    .dataframe tbody tr th:only-of-type {\n",
       "        vertical-align: middle;\n",
       "    }\n",
       "\n",
       "    .dataframe tbody tr th {\n",
       "        vertical-align: top;\n",
       "    }\n",
       "\n",
       "    .dataframe thead th {\n",
       "        text-align: right;\n",
       "    }\n",
       "</style>\n",
       "<table border=\"1\" class=\"dataframe\">\n",
       "  <thead>\n",
       "    <tr style=\"text-align: right;\">\n",
       "      <th></th>\n",
       "      <th>Unnamed: 0</th>\n",
       "      <th>car_name</th>\n",
       "      <th>registration_year</th>\n",
       "      <th>insurance_validity</th>\n",
       "      <th>fuel_type</th>\n",
       "      <th>seats</th>\n",
       "      <th>kms_driven</th>\n",
       "      <th>ownsership</th>\n",
       "      <th>transmission</th>\n",
       "      <th>manufacturing_year</th>\n",
       "      <th>mileage</th>\n",
       "      <th>engine</th>\n",
       "      <th>max_power</th>\n",
       "      <th>torque</th>\n",
       "      <th>price</th>\n",
       "    </tr>\n",
       "  </thead>\n",
       "  <tbody>\n",
       "    <tr>\n",
       "      <th>0</th>\n",
       "      <td>0</td>\n",
       "      <td>2017 Mercedes-Benz S-Class S400</td>\n",
       "      <td>Jul-17</td>\n",
       "      <td>Comprehensive</td>\n",
       "      <td>Petrol</td>\n",
       "      <td>5</td>\n",
       "      <td>56000</td>\n",
       "      <td>1</td>\n",
       "      <td>Automatic</td>\n",
       "      <td>2017</td>\n",
       "      <td>7.81</td>\n",
       "      <td>2996.0</td>\n",
       "      <td>2996.0</td>\n",
       "      <td>333.0</td>\n",
       "      <td>63.75</td>\n",
       "    </tr>\n",
       "    <tr>\n",
       "      <th>1</th>\n",
       "      <td>1</td>\n",
       "      <td>2020 Nissan Magnite Turbo CVT XV Premium Opt BSVI</td>\n",
       "      <td>Jan-21</td>\n",
       "      <td>Comprehensive</td>\n",
       "      <td>Petrol</td>\n",
       "      <td>5</td>\n",
       "      <td>30615</td>\n",
       "      <td>1</td>\n",
       "      <td>Automatic</td>\n",
       "      <td>2020</td>\n",
       "      <td>17.40</td>\n",
       "      <td>999.0</td>\n",
       "      <td>999.0</td>\n",
       "      <td>9863.0</td>\n",
       "      <td>8.99</td>\n",
       "    </tr>\n",
       "    <tr>\n",
       "      <th>2</th>\n",
       "      <td>2</td>\n",
       "      <td>2018 BMW X1 sDrive 20d xLine</td>\n",
       "      <td>Sep-18</td>\n",
       "      <td>Comprehensive</td>\n",
       "      <td>Diesel</td>\n",
       "      <td>5</td>\n",
       "      <td>24000</td>\n",
       "      <td>1</td>\n",
       "      <td>Automatic</td>\n",
       "      <td>2018</td>\n",
       "      <td>20.68</td>\n",
       "      <td>1995.0</td>\n",
       "      <td>1995.0</td>\n",
       "      <td>188.0</td>\n",
       "      <td>23.75</td>\n",
       "    </tr>\n",
       "    <tr>\n",
       "      <th>3</th>\n",
       "      <td>3</td>\n",
       "      <td>2019 Kia Seltos GTX Plus</td>\n",
       "      <td>Dec-19</td>\n",
       "      <td>Comprehensive</td>\n",
       "      <td>Petrol</td>\n",
       "      <td>5</td>\n",
       "      <td>18378</td>\n",
       "      <td>1</td>\n",
       "      <td>Manual</td>\n",
       "      <td>2019</td>\n",
       "      <td>16.50</td>\n",
       "      <td>1353.0</td>\n",
       "      <td>1353.0</td>\n",
       "      <td>13808.0</td>\n",
       "      <td>13.56</td>\n",
       "    </tr>\n",
       "    <tr>\n",
       "      <th>4</th>\n",
       "      <td>4</td>\n",
       "      <td>2019 Skoda Superb LK 1.8 TSI AT</td>\n",
       "      <td>Aug-19</td>\n",
       "      <td>Comprehensive</td>\n",
       "      <td>Petrol</td>\n",
       "      <td>5</td>\n",
       "      <td>44900</td>\n",
       "      <td>1</td>\n",
       "      <td>Automatic</td>\n",
       "      <td>2019</td>\n",
       "      <td>14.67</td>\n",
       "      <td>1798.0</td>\n",
       "      <td>1798.0</td>\n",
       "      <td>17746.0</td>\n",
       "      <td>24.00</td>\n",
       "    </tr>\n",
       "    <tr>\n",
       "      <th>5</th>\n",
       "      <td>5</td>\n",
       "      <td>2017 Honda Jazz 1.2 S i VTEC</td>\n",
       "      <td>Jul-17</td>\n",
       "      <td>Third Party insurance</td>\n",
       "      <td>Petrol</td>\n",
       "      <td>5</td>\n",
       "      <td>42000</td>\n",
       "      <td>1</td>\n",
       "      <td>Manual</td>\n",
       "      <td>2017</td>\n",
       "      <td>18.70</td>\n",
       "      <td>1199.0</td>\n",
       "      <td>1199.0</td>\n",
       "      <td>887.0</td>\n",
       "      <td>5.45</td>\n",
       "    </tr>\n",
       "    <tr>\n",
       "      <th>6</th>\n",
       "      <td>6</td>\n",
       "      <td>2018 Hyundai Grand i10 1.2 Kappa Sportz BSIV</td>\n",
       "      <td>Feb-19</td>\n",
       "      <td>Comprehensive</td>\n",
       "      <td>Petrol</td>\n",
       "      <td>5</td>\n",
       "      <td>36739</td>\n",
       "      <td>1</td>\n",
       "      <td>Manual</td>\n",
       "      <td>2018</td>\n",
       "      <td>18.90</td>\n",
       "      <td>1197.0</td>\n",
       "      <td>1197.0</td>\n",
       "      <td>8186.0</td>\n",
       "      <td>5.12</td>\n",
       "    </tr>\n",
       "    <tr>\n",
       "      <th>7</th>\n",
       "      <td>7</td>\n",
       "      <td>2018 Hyundai Creta 1.6 SX</td>\n",
       "      <td>Jul-18</td>\n",
       "      <td>Comprehensive</td>\n",
       "      <td>Petrol</td>\n",
       "      <td>5</td>\n",
       "      <td>76000</td>\n",
       "      <td>1</td>\n",
       "      <td>Manual</td>\n",
       "      <td>2018</td>\n",
       "      <td>15.80</td>\n",
       "      <td>1591.0</td>\n",
       "      <td>1591.0</td>\n",
       "      <td>1213.0</td>\n",
       "      <td>9.30</td>\n",
       "    </tr>\n",
       "    <tr>\n",
       "      <th>8</th>\n",
       "      <td>8</td>\n",
       "      <td>2015 Mercedes-Benz S-Class S 350 CDI</td>\n",
       "      <td>Apr-15</td>\n",
       "      <td>Comprehensive</td>\n",
       "      <td>Diesel</td>\n",
       "      <td>5</td>\n",
       "      <td>68000</td>\n",
       "      <td>2</td>\n",
       "      <td>Automatic</td>\n",
       "      <td>2015</td>\n",
       "      <td>13.50</td>\n",
       "      <td>2987.0</td>\n",
       "      <td>2987.0</td>\n",
       "      <td>25479.0</td>\n",
       "      <td>42.00</td>\n",
       "    </tr>\n",
       "    <tr>\n",
       "      <th>9</th>\n",
       "      <td>9</td>\n",
       "      <td>2019 Tata Nexon 1.2 Revotron XZ Plus</td>\n",
       "      <td>Mar-19</td>\n",
       "      <td>Comprehensive</td>\n",
       "      <td>Petrol</td>\n",
       "      <td>5</td>\n",
       "      <td>28783</td>\n",
       "      <td>1</td>\n",
       "      <td>Manual</td>\n",
       "      <td>2019</td>\n",
       "      <td>17.00</td>\n",
       "      <td>1198.0</td>\n",
       "      <td>1198.0</td>\n",
       "      <td>1085.0</td>\n",
       "      <td>8.02</td>\n",
       "    </tr>\n",
       "  </tbody>\n",
       "</table>\n",
       "</div>"
      ],
      "text/plain": [
       "   Unnamed: 0                                           car_name  \\\n",
       "0           0                    2017 Mercedes-Benz S-Class S400   \n",
       "1           1  2020 Nissan Magnite Turbo CVT XV Premium Opt BSVI   \n",
       "2           2                       2018 BMW X1 sDrive 20d xLine   \n",
       "3           3                           2019 Kia Seltos GTX Plus   \n",
       "4           4                    2019 Skoda Superb LK 1.8 TSI AT   \n",
       "5           5                       2017 Honda Jazz 1.2 S i VTEC   \n",
       "6           6       2018 Hyundai Grand i10 1.2 Kappa Sportz BSIV   \n",
       "7           7                          2018 Hyundai Creta 1.6 SX   \n",
       "8           8               2015 Mercedes-Benz S-Class S 350 CDI   \n",
       "9           9               2019 Tata Nexon 1.2 Revotron XZ Plus   \n",
       "\n",
       "  registration_year     insurance_validity fuel_type  seats  kms_driven  \\\n",
       "0            Jul-17          Comprehensive    Petrol      5       56000   \n",
       "1            Jan-21          Comprehensive    Petrol      5       30615   \n",
       "2            Sep-18          Comprehensive    Diesel      5       24000   \n",
       "3            Dec-19          Comprehensive    Petrol      5       18378   \n",
       "4            Aug-19          Comprehensive    Petrol      5       44900   \n",
       "5            Jul-17  Third Party insurance    Petrol      5       42000   \n",
       "6            Feb-19          Comprehensive    Petrol      5       36739   \n",
       "7            Jul-18          Comprehensive    Petrol      5       76000   \n",
       "8            Apr-15          Comprehensive    Diesel      5       68000   \n",
       "9            Mar-19          Comprehensive    Petrol      5       28783   \n",
       "\n",
       "  ownsership transmission manufacturing_year  mileage  engine  max_power  \\\n",
       "0          1    Automatic               2017     7.81  2996.0     2996.0   \n",
       "1          1    Automatic               2020    17.40   999.0      999.0   \n",
       "2          1    Automatic               2018    20.68  1995.0     1995.0   \n",
       "3          1       Manual               2019    16.50  1353.0     1353.0   \n",
       "4          1    Automatic               2019    14.67  1798.0     1798.0   \n",
       "5          1       Manual               2017    18.70  1199.0     1199.0   \n",
       "6          1       Manual               2018    18.90  1197.0     1197.0   \n",
       "7          1       Manual               2018    15.80  1591.0     1591.0   \n",
       "8          2    Automatic               2015    13.50  2987.0     2987.0   \n",
       "9          1       Manual               2019    17.00  1198.0     1198.0   \n",
       "\n",
       "    torque  price  \n",
       "0    333.0  63.75  \n",
       "1   9863.0   8.99  \n",
       "2    188.0  23.75  \n",
       "3  13808.0  13.56  \n",
       "4  17746.0  24.00  \n",
       "5    887.0   5.45  \n",
       "6   8186.0   5.12  \n",
       "7   1213.0   9.30  \n",
       "8  25479.0  42.00  \n",
       "9   1085.0   8.02  "
      ]
     },
     "execution_count": 577,
     "metadata": {},
     "output_type": "execute_result"
    }
   ],
   "source": [
    "Ucarsdata.head(10)"
   ]
  },
  {
   "cell_type": "code",
   "execution_count": 578,
   "id": "0c66d2b7",
   "metadata": {
    "scrolled": true
   },
   "outputs": [
    {
     "data": {
      "text/plain": [
       "<Axes: ylabel='kms_driven'>"
      ]
     },
     "execution_count": 578,
     "metadata": {},
     "output_type": "execute_result"
    },
    {
     "data": {
      "image/png": "[encoded data removed]",
      "text/plain": [
       "<Figure size 640x480 with 1 Axes>"
      ]
     },
     "metadata": {},
     "output_type": "display_data"
    }
   ],
   "source": [
    "#outliers \n",
    "sns.boxplot( y=\"kms_driven\",data=Ucarsdata,width=0.5 )"
   ]
  },
  {
   "cell_type": "code",
   "execution_count": 579,
   "id": "f5fe00d5",
   "metadata": {
    "scrolled": true
   },
   "outputs": [
    {
     "data": {
      "text/plain": [
       "<Axes: ylabel='kms_driven'>"
      ]
     },
     "execution_count": 579,
     "metadata": {},
     "output_type": "execute_result"
    },
    {
     "data": {
      "image/png": "[encoded data removed]",
      "text/plain": [
       "<Figure size 640x480 with 1 Axes>"
      ]
     },
     "metadata": {},
     "output_type": "display_data"
    }
   ],
   "source": [
    "Ucarsdata.loc[ Ucarsdata['kms_driven'] > 200000, 'kms_driven'] = Ucarsdata['kms_driven'].mean()\n",
    "sns.boxplot( y=\"kms_driven\",data=Ucarsdata,width=0.5 )"
   ]
  },
  {
   "cell_type": "code",
   "execution_count": 580,
   "id": "08f75be5",
   "metadata": {
    "scrolled": true
   },
   "outputs": [
    {
     "data": {
      "text/plain": [
       "<Axes: ylabel='mileage'>"
      ]
     },
     "execution_count": 580,
     "metadata": {},
     "output_type": "execute_result"
    },
    {
     "data": {
      "image/png": "[encoded data removed]",
      "text/plain": [
       "<Figure size 640x480 with 1 Axes>"
      ]
     },
     "metadata": {},
     "output_type": "display_data"
    }
   ],
   "source": [
    "sns.boxplot( y=\"mileage\",data=Ucarsdata,width=0.5 )"
   ]
  },
  {
   "cell_type": "code",
   "execution_count": 581,
   "id": "fc4122f7",
   "metadata": {},
   "outputs": [
    {
     "name": "stdout",
     "output_type": "stream",
     "text": [
      "174\n",
      "1497\n",
      "11.623246492985972\n"
     ]
    }
   ],
   "source": [
    "print(len(Ucarsdata[Ucarsdata['mileage'] > 35]))\n",
    "print(len(Ucarsdata['mileage']))\n",
    "print((len(Ucarsdata[Ucarsdata['mileage'] > 35])/len(Ucarsdata['mileage']))*100)"
   ]
  },
  {
   "cell_type": "code",
   "execution_count": 582,
   "id": "321e7fd9",
   "metadata": {
    "scrolled": true
   },
   "outputs": [
    {
     "data": {
      "text/plain": [
       "<Axes: ylabel='mileage'>"
      ]
     },
     "execution_count": 582,
     "metadata": {},
     "output_type": "execute_result"
    },
    {
     "data": {
      "image/png": "[encoded data removed]",
      "text/plain": [
       "<Figure size 640x480 with 1 Axes>"
      ]
     },
     "metadata": {},
     "output_type": "display_data"
    }
   ],
   "source": [
    "Ucarsdata.loc[ Ucarsdata['mileage'] > 35, 'mileage'] = Ucarsdata['mileage'].mean()\n",
    "sns.boxplot( y=\"mileage\",data=Ucarsdata,width=0.5 )"
   ]
  },
  {
   "cell_type": "code",
   "execution_count": 583,
   "id": "05ff6873",
   "metadata": {
    "scrolled": false
   },
   "outputs": [
    {
     "name": "stdout",
     "output_type": "stream",
     "text": [
      "102\n",
      "1497\n",
      "6.813627254509018\n"
     ]
    },
    {
     "data": {
      "image/png": "[encoded data removed]",
      "text/plain": [
       "<Figure size 640x480 with 1 Axes>"
      ]
     },
     "metadata": {},
     "output_type": "display_data"
    }
   ],
   "source": [
    "sns.boxplot( y=\"engine\",data=Ucarsdata,width=0.5 )\n",
    "print(len(Ucarsdata[Ucarsdata['engine'] > 4000]))\n",
    "print(len(Ucarsdata['engine']))\n",
    "print((len(Ucarsdata[Ucarsdata['engine'] > 4000])/len(Ucarsdata['engine']))*100)"
   ]
  },
  {
   "cell_type": "code",
   "execution_count": 584,
   "id": "607d3ce8",
   "metadata": {},
   "outputs": [
    {
     "data": {
      "text/plain": [
       "<Axes: ylabel='engine'>"
      ]
     },
     "execution_count": 584,
     "metadata": {},
     "output_type": "execute_result"
    },
    {
     "data": {
      "image/png": "[encoded data removed]",
      "text/plain": [
       "<Figure size 640x480 with 1 Axes>"
      ]
     },
     "metadata": {},
     "output_type": "display_data"
    }
   ],
   "source": [
    "Ucarsdata.loc[ Ucarsdata['engine'] > 4000, 'engine'] = Ucarsdata['engine'].mean()\n",
    "sns.boxplot( y=\"engine\",data=Ucarsdata,width=0.5 )"
   ]
  },
  {
   "cell_type": "code",
   "execution_count": 585,
   "id": "f7d74ef4",
   "metadata": {
    "scrolled": true
   },
   "outputs": [
    {
     "name": "stdout",
     "output_type": "stream",
     "text": [
      "102\n",
      "1497\n",
      "6.813627254509018\n"
     ]
    },
    {
     "data": {
      "image/png": "[encoded data removed]",
      "text/plain": [
       "<Figure size 640x480 with 1 Axes>"
      ]
     },
     "metadata": {},
     "output_type": "display_data"
    }
   ],
   "source": [
    "sns.boxplot( y=\"max_power\",data=Ucarsdata,width=0.5 )\n",
    "print(len(Ucarsdata[Ucarsdata['max_power'] > 4000]))\n",
    "print(len(Ucarsdata['max_power']))\n",
    "print((len(Ucarsdata[Ucarsdata['max_power'] > 4000])/len(Ucarsdata['max_power']))*100)"
   ]
  },
  {
   "cell_type": "code",
   "execution_count": 586,
   "id": "7055c5dd",
   "metadata": {
    "scrolled": true
   },
   "outputs": [
    {
     "data": {
      "text/plain": [
       "<Axes: ylabel='max_power'>"
      ]
     },
     "execution_count": 586,
     "metadata": {},
     "output_type": "execute_result"
    },
    {
     "data": {
      "image/png": "[encoded data removed]",
      "text/plain": [
       "<Figure size 640x480 with 1 Axes>"
      ]
     },
     "metadata": {},
     "output_type": "display_data"
    }
   ],
   "source": [
    "Ucarsdata.loc[ Ucarsdata['max_power'] > 4000, 'max_power'] = Ucarsdata['max_power'].mean()\n",
    "sns.boxplot( y=\"max_power\",data=Ucarsdata,width=0.5 )"
   ]
  },
  {
   "cell_type": "code",
   "execution_count": 587,
   "id": "40d4678c",
   "metadata": {},
   "outputs": [
    {
     "name": "stdout",
     "output_type": "stream",
     "text": [
      "98\n",
      "1497\n",
      "6.5464261857047426\n"
     ]
    },
    {
     "data": {
      "image/png": "[encoded data removed]",
      "text/plain": [
       "<Figure size 640x480 with 1 Axes>"
      ]
     },
     "metadata": {},
     "output_type": "display_data"
    }
   ],
   "source": [
    "sns.boxplot( y=\"torque\",data=Ucarsdata,width=0.5 )\n",
    "print(len(Ucarsdata[Ucarsdata['torque'] > 20000]))\n",
    "print(len(Ucarsdata['torque']))\n",
    "print((len(Ucarsdata[Ucarsdata['torque'] > 20000])/len(Ucarsdata['torque']))*100)"
   ]
  },
  {
   "cell_type": "code",
   "execution_count": 588,
   "id": "636f596e",
   "metadata": {
    "scrolled": true
   },
   "outputs": [
    {
     "data": {
      "text/plain": [
       "<Axes: ylabel='torque'>"
      ]
     },
     "execution_count": 588,
     "metadata": {},
     "output_type": "execute_result"
    },
    {
     "data": {
      "image/png": "[encoded data removed]",
      "text/plain": [
       "<Figure size 640x480 with 1 Axes>"
      ]
     },
     "metadata": {},
     "output_type": "display_data"
    }
   ],
   "source": [
    "Ucarsdata.loc[ Ucarsdata['torque'] > 20000, 'torque'] = Ucarsdata['torque'].mean()\n",
    "sns.boxplot( y=\"torque\",data=Ucarsdata,width=0.5 )"
   ]
  },
  {
   "cell_type": "code",
   "execution_count": 589,
   "id": "e03272d5",
   "metadata": {
    "scrolled": true
   },
   "outputs": [
    {
     "name": "stdout",
     "output_type": "stream",
     "text": [
      "3\n",
      "1497\n",
      "0.2004008016032064\n"
     ]
    },
    {
     "data": {
      "image/png": "[encoded data removed]",
      "text/plain": [
       "<Figure size 640x480 with 1 Axes>"
      ]
     },
     "metadata": {},
     "output_type": "display_data"
    }
   ],
   "source": [
    "sns.boxplot( y=\"price\",data=Ucarsdata,width=0.5 )\n",
    "print(len(Ucarsdata[Ucarsdata['price'] > 20000]))\n",
    "print(len(Ucarsdata['price']))\n",
    "print((len(Ucarsdata[Ucarsdata['price'] > 20000])/len(Ucarsdata['price']))*100)"
   ]
  },
  {
   "cell_type": "code",
   "execution_count": 592,
   "id": "67164526",
   "metadata": {},
   "outputs": [
    {
     "data": {
      "text/plain": [
       "<Axes: ylabel='price'>"
      ]
     },
     "execution_count": 592,
     "metadata": {},
     "output_type": "execute_result"
    },
    {
     "data": {
      "image/png": "[encoded data removed]",
      "text/plain": [
       "<Figure size 640x480 with 1 Axes>"
      ]
     },
     "metadata": {},
     "output_type": "display_data"
    }
   ],
   "source": [
    "Ucarsdata.loc[ Ucarsdata['price'] > 150, 'price'] = Ucarsdata['price'].mean()\n",
    "sns.boxplot( y=\"price\",data=Ucarsdata,width=0.5 )"
   ]
  },
  {
   "cell_type": "code",
   "execution_count": 593,
   "id": "f455f54c",
   "metadata": {
    "scrolled": true
   },
   "outputs": [
    {
     "data": {
      "text/html": [
       "<div>\n",
       "<style scoped>\n",
       "    .dataframe tbody tr th:only-of-type {\n",
       "        vertical-align: middle;\n",
       "    }\n",
       "\n",
       "    .dataframe tbody tr th {\n",
       "        vertical-align: top;\n",
       "    }\n",
       "\n",
       "    .dataframe thead th {\n",
       "        text-align: right;\n",
       "    }\n",
       "</style>\n",
       "<table border=\"1\" class=\"dataframe\">\n",
       "  <thead>\n",
       "    <tr style=\"text-align: right;\">\n",
       "      <th></th>\n",
       "      <th>insurance_validity</th>\n",
       "      <th>fuel_type</th>\n",
       "      <th>seats</th>\n",
       "      <th>kms_driven</th>\n",
       "      <th>ownsership</th>\n",
       "      <th>transmission</th>\n",
       "      <th>manufacturing_year</th>\n",
       "      <th>mileage</th>\n",
       "      <th>engine</th>\n",
       "      <th>max_power</th>\n",
       "      <th>torque</th>\n",
       "      <th>price</th>\n",
       "    </tr>\n",
       "  </thead>\n",
       "  <tbody>\n",
       "    <tr>\n",
       "      <th>0</th>\n",
       "      <td>Comprehensive</td>\n",
       "      <td>Petrol</td>\n",
       "      <td>5</td>\n",
       "      <td>56000.0</td>\n",
       "      <td>1</td>\n",
       "      <td>Automatic</td>\n",
       "      <td>2017</td>\n",
       "      <td>7.81</td>\n",
       "      <td>2996.0</td>\n",
       "      <td>2996.0</td>\n",
       "      <td>333.000000</td>\n",
       "      <td>63.75</td>\n",
       "    </tr>\n",
       "    <tr>\n",
       "      <th>1</th>\n",
       "      <td>Comprehensive</td>\n",
       "      <td>Petrol</td>\n",
       "      <td>5</td>\n",
       "      <td>30615.0</td>\n",
       "      <td>1</td>\n",
       "      <td>Automatic</td>\n",
       "      <td>2020</td>\n",
       "      <td>17.40</td>\n",
       "      <td>999.0</td>\n",
       "      <td>999.0</td>\n",
       "      <td>9863.000000</td>\n",
       "      <td>8.99</td>\n",
       "    </tr>\n",
       "    <tr>\n",
       "      <th>2</th>\n",
       "      <td>Comprehensive</td>\n",
       "      <td>Diesel</td>\n",
       "      <td>5</td>\n",
       "      <td>24000.0</td>\n",
       "      <td>1</td>\n",
       "      <td>Automatic</td>\n",
       "      <td>2018</td>\n",
       "      <td>20.68</td>\n",
       "      <td>1995.0</td>\n",
       "      <td>1995.0</td>\n",
       "      <td>188.000000</td>\n",
       "      <td>23.75</td>\n",
       "    </tr>\n",
       "    <tr>\n",
       "      <th>3</th>\n",
       "      <td>Comprehensive</td>\n",
       "      <td>Petrol</td>\n",
       "      <td>5</td>\n",
       "      <td>18378.0</td>\n",
       "      <td>1</td>\n",
       "      <td>Manual</td>\n",
       "      <td>2019</td>\n",
       "      <td>16.50</td>\n",
       "      <td>1353.0</td>\n",
       "      <td>1353.0</td>\n",
       "      <td>13808.000000</td>\n",
       "      <td>13.56</td>\n",
       "    </tr>\n",
       "    <tr>\n",
       "      <th>4</th>\n",
       "      <td>Comprehensive</td>\n",
       "      <td>Petrol</td>\n",
       "      <td>5</td>\n",
       "      <td>44900.0</td>\n",
       "      <td>1</td>\n",
       "      <td>Automatic</td>\n",
       "      <td>2019</td>\n",
       "      <td>14.67</td>\n",
       "      <td>1798.0</td>\n",
       "      <td>1798.0</td>\n",
       "      <td>17746.000000</td>\n",
       "      <td>24.00</td>\n",
       "    </tr>\n",
       "    <tr>\n",
       "      <th>5</th>\n",
       "      <td>Third Party insurance</td>\n",
       "      <td>Petrol</td>\n",
       "      <td>5</td>\n",
       "      <td>42000.0</td>\n",
       "      <td>1</td>\n",
       "      <td>Manual</td>\n",
       "      <td>2017</td>\n",
       "      <td>18.70</td>\n",
       "      <td>1199.0</td>\n",
       "      <td>1199.0</td>\n",
       "      <td>887.000000</td>\n",
       "      <td>5.45</td>\n",
       "    </tr>\n",
       "    <tr>\n",
       "      <th>6</th>\n",
       "      <td>Comprehensive</td>\n",
       "      <td>Petrol</td>\n",
       "      <td>5</td>\n",
       "      <td>36739.0</td>\n",
       "      <td>1</td>\n",
       "      <td>Manual</td>\n",
       "      <td>2018</td>\n",
       "      <td>18.90</td>\n",
       "      <td>1197.0</td>\n",
       "      <td>1197.0</td>\n",
       "      <td>8186.000000</td>\n",
       "      <td>5.12</td>\n",
       "    </tr>\n",
       "    <tr>\n",
       "      <th>7</th>\n",
       "      <td>Comprehensive</td>\n",
       "      <td>Petrol</td>\n",
       "      <td>5</td>\n",
       "      <td>76000.0</td>\n",
       "      <td>1</td>\n",
       "      <td>Manual</td>\n",
       "      <td>2018</td>\n",
       "      <td>15.80</td>\n",
       "      <td>1591.0</td>\n",
       "      <td>1591.0</td>\n",
       "      <td>1213.000000</td>\n",
       "      <td>9.30</td>\n",
       "    </tr>\n",
       "    <tr>\n",
       "      <th>8</th>\n",
       "      <td>Comprehensive</td>\n",
       "      <td>Diesel</td>\n",
       "      <td>5</td>\n",
       "      <td>68000.0</td>\n",
       "      <td>2</td>\n",
       "      <td>Automatic</td>\n",
       "      <td>2015</td>\n",
       "      <td>13.50</td>\n",
       "      <td>2987.0</td>\n",
       "      <td>2987.0</td>\n",
       "      <td>12755.072144</td>\n",
       "      <td>42.00</td>\n",
       "    </tr>\n",
       "    <tr>\n",
       "      <th>9</th>\n",
       "      <td>Comprehensive</td>\n",
       "      <td>Petrol</td>\n",
       "      <td>5</td>\n",
       "      <td>28783.0</td>\n",
       "      <td>1</td>\n",
       "      <td>Manual</td>\n",
       "      <td>2019</td>\n",
       "      <td>17.00</td>\n",
       "      <td>1198.0</td>\n",
       "      <td>1198.0</td>\n",
       "      <td>1085.000000</td>\n",
       "      <td>8.02</td>\n",
       "    </tr>\n",
       "  </tbody>\n",
       "</table>\n",
       "</div>"
      ],
      "text/plain": [
       "      insurance_validity fuel_type  seats  kms_driven ownsership transmission  \\\n",
       "0          Comprehensive    Petrol      5     56000.0          1    Automatic   \n",
       "1          Comprehensive    Petrol      5     30615.0          1    Automatic   \n",
       "2          Comprehensive    Diesel      5     24000.0          1    Automatic   \n",
       "3          Comprehensive    Petrol      5     18378.0          1       Manual   \n",
       "4          Comprehensive    Petrol      5     44900.0          1    Automatic   \n",
       "5  Third Party insurance    Petrol      5     42000.0          1       Manual   \n",
       "6          Comprehensive    Petrol      5     36739.0          1       Manual   \n",
       "7          Comprehensive    Petrol      5     76000.0          1       Manual   \n",
       "8          Comprehensive    Diesel      5     68000.0          2    Automatic   \n",
       "9          Comprehensive    Petrol      5     28783.0          1       Manual   \n",
       "\n",
       "  manufacturing_year  mileage  engine  max_power        torque  price  \n",
       "0               2017     7.81  2996.0     2996.0    333.000000  63.75  \n",
       "1               2020    17.40   999.0      999.0   9863.000000   8.99  \n",
       "2               2018    20.68  1995.0     1995.0    188.000000  23.75  \n",
       "3               2019    16.50  1353.0     1353.0  13808.000000  13.56  \n",
       "4               2019    14.67  1798.0     1798.0  17746.000000  24.00  \n",
       "5               2017    18.70  1199.0     1199.0    887.000000   5.45  \n",
       "6               2018    18.90  1197.0     1197.0   8186.000000   5.12  \n",
       "7               2018    15.80  1591.0     1591.0   1213.000000   9.30  \n",
       "8               2015    13.50  2987.0     2987.0  12755.072144  42.00  \n",
       "9               2019    17.00  1198.0     1198.0   1085.000000   8.02  "
      ]
     },
     "execution_count": 593,
     "metadata": {},
     "output_type": "execute_result"
    }
   ],
   "source": [
    "Ucarsdataf=Ucarsdata.drop(['Unnamed: 0','car_name','registration_year'],axis=1)\n",
    "Ucarsdataf.head(10)"
   ]
  },
  {
   "cell_type": "code",
   "execution_count": 594,
   "id": "fa73f4db",
   "metadata": {},
   "outputs": [
    {
     "data": {
      "text/html": [
       "<div>\n",
       "<style scoped>\n",
       "    .dataframe tbody tr th:only-of-type {\n",
       "        vertical-align: middle;\n",
       "    }\n",
       "\n",
       "    .dataframe tbody tr th {\n",
       "        vertical-align: top;\n",
       "    }\n",
       "\n",
       "    .dataframe thead th {\n",
       "        text-align: right;\n",
       "    }\n",
       "</style>\n",
       "<table border=\"1\" class=\"dataframe\">\n",
       "  <thead>\n",
       "    <tr style=\"text-align: right;\">\n",
       "      <th></th>\n",
       "      <th>seats</th>\n",
       "      <th>kms_driven</th>\n",
       "      <th>ownsership</th>\n",
       "      <th>manufacturing_year</th>\n",
       "      <th>mileage</th>\n",
       "      <th>engine</th>\n",
       "      <th>max_power</th>\n",
       "      <th>torque</th>\n",
       "      <th>price</th>\n",
       "      <th>Automatic</th>\n",
       "      <th>Manual</th>\n",
       "      <th>CNG</th>\n",
       "      <th>Diesel</th>\n",
       "      <th>Petrol</th>\n",
       "      <th>Comprehensive insurance</th>\n",
       "      <th>Third Party insurance</th>\n",
       "      <th>Zero Dep insurance</th>\n",
       "    </tr>\n",
       "  </thead>\n",
       "  <tbody>\n",
       "    <tr>\n",
       "      <th>0</th>\n",
       "      <td>5</td>\n",
       "      <td>56000.0</td>\n",
       "      <td>1</td>\n",
       "      <td>2017</td>\n",
       "      <td>7.81</td>\n",
       "      <td>2996.0</td>\n",
       "      <td>2996.0</td>\n",
       "      <td>333.000000</td>\n",
       "      <td>63.75</td>\n",
       "      <td>1</td>\n",
       "      <td>0</td>\n",
       "      <td>0</td>\n",
       "      <td>0</td>\n",
       "      <td>1</td>\n",
       "      <td>1</td>\n",
       "      <td>0</td>\n",
       "      <td>0</td>\n",
       "    </tr>\n",
       "    <tr>\n",
       "      <th>1</th>\n",
       "      <td>5</td>\n",
       "      <td>30615.0</td>\n",
       "      <td>1</td>\n",
       "      <td>2020</td>\n",
       "      <td>17.40</td>\n",
       "      <td>999.0</td>\n",
       "      <td>999.0</td>\n",
       "      <td>9863.000000</td>\n",
       "      <td>8.99</td>\n",
       "      <td>1</td>\n",
       "      <td>0</td>\n",
       "      <td>0</td>\n",
       "      <td>0</td>\n",
       "      <td>1</td>\n",
       "      <td>1</td>\n",
       "      <td>0</td>\n",
       "      <td>0</td>\n",
       "    </tr>\n",
       "    <tr>\n",
       "      <th>2</th>\n",
       "      <td>5</td>\n",
       "      <td>24000.0</td>\n",
       "      <td>1</td>\n",
       "      <td>2018</td>\n",
       "      <td>20.68</td>\n",
       "      <td>1995.0</td>\n",
       "      <td>1995.0</td>\n",
       "      <td>188.000000</td>\n",
       "      <td>23.75</td>\n",
       "      <td>1</td>\n",
       "      <td>0</td>\n",
       "      <td>0</td>\n",
       "      <td>1</td>\n",
       "      <td>0</td>\n",
       "      <td>1</td>\n",
       "      <td>0</td>\n",
       "      <td>0</td>\n",
       "    </tr>\n",
       "    <tr>\n",
       "      <th>3</th>\n",
       "      <td>5</td>\n",
       "      <td>18378.0</td>\n",
       "      <td>1</td>\n",
       "      <td>2019</td>\n",
       "      <td>16.50</td>\n",
       "      <td>1353.0</td>\n",
       "      <td>1353.0</td>\n",
       "      <td>13808.000000</td>\n",
       "      <td>13.56</td>\n",
       "      <td>0</td>\n",
       "      <td>1</td>\n",
       "      <td>0</td>\n",
       "      <td>0</td>\n",
       "      <td>1</td>\n",
       "      <td>1</td>\n",
       "      <td>0</td>\n",
       "      <td>0</td>\n",
       "    </tr>\n",
       "    <tr>\n",
       "      <th>4</th>\n",
       "      <td>5</td>\n",
       "      <td>44900.0</td>\n",
       "      <td>1</td>\n",
       "      <td>2019</td>\n",
       "      <td>14.67</td>\n",
       "      <td>1798.0</td>\n",
       "      <td>1798.0</td>\n",
       "      <td>17746.000000</td>\n",
       "      <td>24.00</td>\n",
       "      <td>1</td>\n",
       "      <td>0</td>\n",
       "      <td>0</td>\n",
       "      <td>0</td>\n",
       "      <td>1</td>\n",
       "      <td>1</td>\n",
       "      <td>0</td>\n",
       "      <td>0</td>\n",
       "    </tr>\n",
       "    <tr>\n",
       "      <th>5</th>\n",
       "      <td>5</td>\n",
       "      <td>42000.0</td>\n",
       "      <td>1</td>\n",
       "      <td>2017</td>\n",
       "      <td>18.70</td>\n",
       "      <td>1199.0</td>\n",
       "      <td>1199.0</td>\n",
       "      <td>887.000000</td>\n",
       "      <td>5.45</td>\n",
       "      <td>0</td>\n",
       "      <td>1</td>\n",
       "      <td>0</td>\n",
       "      <td>0</td>\n",
       "      <td>1</td>\n",
       "      <td>0</td>\n",
       "      <td>1</td>\n",
       "      <td>0</td>\n",
       "    </tr>\n",
       "    <tr>\n",
       "      <th>6</th>\n",
       "      <td>5</td>\n",
       "      <td>36739.0</td>\n",
       "      <td>1</td>\n",
       "      <td>2018</td>\n",
       "      <td>18.90</td>\n",
       "      <td>1197.0</td>\n",
       "      <td>1197.0</td>\n",
       "      <td>8186.000000</td>\n",
       "      <td>5.12</td>\n",
       "      <td>0</td>\n",
       "      <td>1</td>\n",
       "      <td>0</td>\n",
       "      <td>0</td>\n",
       "      <td>1</td>\n",
       "      <td>1</td>\n",
       "      <td>0</td>\n",
       "      <td>0</td>\n",
       "    </tr>\n",
       "    <tr>\n",
       "      <th>7</th>\n",
       "      <td>5</td>\n",
       "      <td>76000.0</td>\n",
       "      <td>1</td>\n",
       "      <td>2018</td>\n",
       "      <td>15.80</td>\n",
       "      <td>1591.0</td>\n",
       "      <td>1591.0</td>\n",
       "      <td>1213.000000</td>\n",
       "      <td>9.30</td>\n",
       "      <td>0</td>\n",
       "      <td>1</td>\n",
       "      <td>0</td>\n",
       "      <td>0</td>\n",
       "      <td>1</td>\n",
       "      <td>1</td>\n",
       "      <td>0</td>\n",
       "      <td>0</td>\n",
       "    </tr>\n",
       "    <tr>\n",
       "      <th>8</th>\n",
       "      <td>5</td>\n",
       "      <td>68000.0</td>\n",
       "      <td>2</td>\n",
       "      <td>2015</td>\n",
       "      <td>13.50</td>\n",
       "      <td>2987.0</td>\n",
       "      <td>2987.0</td>\n",
       "      <td>12755.072144</td>\n",
       "      <td>42.00</td>\n",
       "      <td>1</td>\n",
       "      <td>0</td>\n",
       "      <td>0</td>\n",
       "      <td>1</td>\n",
       "      <td>0</td>\n",
       "      <td>1</td>\n",
       "      <td>0</td>\n",
       "      <td>0</td>\n",
       "    </tr>\n",
       "    <tr>\n",
       "      <th>9</th>\n",
       "      <td>5</td>\n",
       "      <td>28783.0</td>\n",
       "      <td>1</td>\n",
       "      <td>2019</td>\n",
       "      <td>17.00</td>\n",
       "      <td>1198.0</td>\n",
       "      <td>1198.0</td>\n",
       "      <td>1085.000000</td>\n",
       "      <td>8.02</td>\n",
       "      <td>0</td>\n",
       "      <td>1</td>\n",
       "      <td>0</td>\n",
       "      <td>0</td>\n",
       "      <td>1</td>\n",
       "      <td>1</td>\n",
       "      <td>0</td>\n",
       "      <td>0</td>\n",
       "    </tr>\n",
       "  </tbody>\n",
       "</table>\n",
       "</div>"
      ],
      "text/plain": [
       "   seats  kms_driven ownsership manufacturing_year  mileage  engine  \\\n",
       "0      5     56000.0          1               2017     7.81  2996.0   \n",
       "1      5     30615.0          1               2020    17.40   999.0   \n",
       "2      5     24000.0          1               2018    20.68  1995.0   \n",
       "3      5     18378.0          1               2019    16.50  1353.0   \n",
       "4      5     44900.0          1               2019    14.67  1798.0   \n",
       "5      5     42000.0          1               2017    18.70  1199.0   \n",
       "6      5     36739.0          1               2018    18.90  1197.0   \n",
       "7      5     76000.0          1               2018    15.80  1591.0   \n",
       "8      5     68000.0          2               2015    13.50  2987.0   \n",
       "9      5     28783.0          1               2019    17.00  1198.0   \n",
       "\n",
       "   max_power        torque  price  Automatic  Manual  CNG  Diesel  Petrol  \\\n",
       "0     2996.0    333.000000  63.75          1       0    0       0       1   \n",
       "1      999.0   9863.000000   8.99          1       0    0       0       1   \n",
       "2     1995.0    188.000000  23.75          1       0    0       1       0   \n",
       "3     1353.0  13808.000000  13.56          0       1    0       0       1   \n",
       "4     1798.0  17746.000000  24.00          1       0    0       0       1   \n",
       "5     1199.0    887.000000   5.45          0       1    0       0       1   \n",
       "6     1197.0   8186.000000   5.12          0       1    0       0       1   \n",
       "7     1591.0   1213.000000   9.30          0       1    0       0       1   \n",
       "8     2987.0  12755.072144  42.00          1       0    0       1       0   \n",
       "9     1198.0   1085.000000   8.02          0       1    0       0       1   \n",
       "\n",
       "   Comprehensive insurance  Third Party insurance  Zero Dep insurance  \n",
       "0                        1                      0                   0  \n",
       "1                        1                      0                   0  \n",
       "2                        1                      0                   0  \n",
       "3                        1                      0                   0  \n",
       "4                        1                      0                   0  \n",
       "5                        0                      1                   0  \n",
       "6                        1                      0                   0  \n",
       "7                        1                      0                   0  \n",
       "8                        1                      0                   0  \n",
       "9                        1                      0                   0  "
      ]
     },
     "execution_count": 594,
     "metadata": {},
     "output_type": "execute_result"
    }
   ],
   "source": [
    "one_hot_encoded_data_0 = pd.get_dummies(Ucarsdataf ['transmission'])\n",
    "one_hot_encoded_data_1 = pd.get_dummies(Ucarsdataf ['fuel_type'])\n",
    "one_hot_encoded_data_2 = pd.get_dummies(Ucarsdataf ['insurance_validity'])\n",
    "Ucarsdataf=Ucarsdataf.drop('transmission',axis=1)\n",
    "Ucarsdataf=Ucarsdataf.drop('fuel_type',axis=1)\n",
    "Ucarsdataf=Ucarsdataf.drop('insurance_validity',axis=1)\n",
    "Ucarsdataf=Ucarsdataf.join(one_hot_encoded_data_0)\n",
    "Ucarsdataf=Ucarsdataf.join(one_hot_encoded_data_1)\n",
    "Ucarsdataf=Ucarsdataf.join(one_hot_encoded_data_2)\n",
    "Ucarsdataf.rename(columns = {'Comprehensive' : 'Comprehensive insurance','Zero Dep' : 'Zero Dep insurance'}, inplace = True)\n",
    "Ucarsdataf.head(10)"
   ]
  },
  {
   "cell_type": "code",
   "execution_count": 595,
   "id": "c3b1c5c2",
   "metadata": {},
   "outputs": [
    {
     "name": "stdout",
     "output_type": "stream",
     "text": [
      "<class 'pandas.core.frame.DataFrame'>\n",
      "Int64Index: 1497 entries, 0 to 1552\n",
      "Data columns (total 17 columns):\n",
      " #   Column                   Non-Null Count  Dtype  \n",
      "---  ------                   --------------  -----  \n",
      " 0   seats                    1497 non-null   int64  \n",
      " 1   kms_driven               1497 non-null   float64\n",
      " 2   ownsership               1497 non-null   object \n",
      " 3   manufacturing_year       1497 non-null   object \n",
      " 4   mileage                  1497 non-null   float64\n",
      " 5   engine                   1497 non-null   float64\n",
      " 6   max_power                1497 non-null   float64\n",
      " 7   torque                   1497 non-null   float64\n",
      " 8   price                    1497 non-null   float64\n",
      " 9   Automatic                1497 non-null   uint8  \n",
      " 10  Manual                   1497 non-null   uint8  \n",
      " 11  CNG                      1497 non-null   uint8  \n",
      " 12  Diesel                   1497 non-null   uint8  \n",
      " 13  Petrol                   1497 non-null   uint8  \n",
      " 14  Comprehensive insurance  1497 non-null   uint8  \n",
      " 15  Third Party insurance    1497 non-null   uint8  \n",
      " 16  Zero Dep insurance       1497 non-null   uint8  \n",
      "dtypes: float64(6), int64(1), object(2), uint8(8)\n",
      "memory usage: 160.9+ KB\n"
     ]
    }
   ],
   "source": [
    "Ucarsdataf.info()"
   ]
  },
  {
   "cell_type": "code",
   "execution_count": 596,
   "id": "e349d84a",
   "metadata": {},
   "outputs": [
    {
     "name": "stdout",
     "output_type": "stream",
     "text": [
      "<class 'pandas.core.frame.DataFrame'>\n",
      "Int64Index: 1497 entries, 0 to 1552\n",
      "Data columns (total 17 columns):\n",
      " #   Column                   Non-Null Count  Dtype  \n",
      "---  ------                   --------------  -----  \n",
      " 0   seats                    1497 non-null   int64  \n",
      " 1   kms_driven               1497 non-null   float64\n",
      " 2   ownsership               1497 non-null   int32  \n",
      " 3   manufacturing_year       1497 non-null   int32  \n",
      " 4   mileage                  1497 non-null   float64\n",
      " 5   engine                   1497 non-null   float64\n",
      " 6   max_power                1497 non-null   float64\n",
      " 7   torque                   1497 non-null   float64\n",
      " 8   price                    1497 non-null   float64\n",
      " 9   Automatic                1497 non-null   uint8  \n",
      " 10  Manual                   1497 non-null   uint8  \n",
      " 11  CNG                      1497 non-null   uint8  \n",
      " 12  Diesel                   1497 non-null   uint8  \n",
      " 13  Petrol                   1497 non-null   uint8  \n",
      " 14  Comprehensive insurance  1497 non-null   uint8  \n",
      " 15  Third Party insurance    1497 non-null   uint8  \n",
      " 16  Zero Dep insurance       1497 non-null   uint8  \n",
      "dtypes: float64(6), int32(2), int64(1), uint8(8)\n",
      "memory usage: 149.2 KB\n"
     ]
    }
   ],
   "source": [
    "Ucarsdataf[\"ownsership\"] = Ucarsdataf[\"ownsership\"].astype(int)\n",
    "Ucarsdataf[\"manufacturing_year\"] = Ucarsdataf[\"manufacturing_year\"].astype(int)\n",
    "Ucarsdataf.info()"
   ]
  },
  {
   "cell_type": "code",
   "execution_count": 597,
   "id": "d4debda8",
   "metadata": {},
   "outputs": [
    {
     "data": {
      "text/plain": [
       "Unnamed: 0            0\n",
       "car_name              0\n",
       "registration_year     0\n",
       "insurance_validity    0\n",
       "fuel_type             0\n",
       "seats                 0\n",
       "kms_driven            0\n",
       "ownsership            0\n",
       "transmission          0\n",
       "manufacturing_year    0\n",
       "mileage               0\n",
       "engine                0\n",
       "max_power             0\n",
       "torque                0\n",
       "price                 0\n",
       "dtype: int64"
      ]
     },
     "execution_count": 597,
     "metadata": {},
     "output_type": "execute_result"
    }
   ],
   "source": [
    "Ucarsdata.isnull().sum()"
   ]
  },
  {
   "cell_type": "code",
   "execution_count": 598,
   "id": "26d55a7c",
   "metadata": {},
   "outputs": [
    {
     "data": {
      "text/plain": [
       "seats                      0\n",
       "kms_driven                 0\n",
       "ownsership                 0\n",
       "manufacturing_year         0\n",
       "mileage                    0\n",
       "engine                     0\n",
       "max_power                  0\n",
       "torque                     0\n",
       "price                      0\n",
       "Automatic                  0\n",
       "Manual                     0\n",
       "CNG                        0\n",
       "Diesel                     0\n",
       "Petrol                     0\n",
       "Comprehensive insurance    0\n",
       "Third Party insurance      0\n",
       "Zero Dep insurance         0\n",
       "dtype: int64"
      ]
     },
     "execution_count": 598,
     "metadata": {},
     "output_type": "execute_result"
    }
   ],
   "source": [
    "Ucarsdataf.isnull().sum()"
   ]
  },
  {
   "cell_type": "code",
   "execution_count": 599,
   "id": "81415322",
   "metadata": {
    "scrolled": true
   },
   "outputs": [
    {
     "data": {
      "text/html": [
       "<div>\n",
       "<style scoped>\n",
       "    .dataframe tbody tr th:only-of-type {\n",
       "        vertical-align: middle;\n",
       "    }\n",
       "\n",
       "    .dataframe tbody tr th {\n",
       "        vertical-align: top;\n",
       "    }\n",
       "\n",
       "    .dataframe thead th {\n",
       "        text-align: right;\n",
       "    }\n",
       "</style>\n",
       "<table border=\"1\" class=\"dataframe\">\n",
       "  <thead>\n",
       "    <tr style=\"text-align: right;\">\n",
       "      <th></th>\n",
       "      <th>seats</th>\n",
       "      <th>kms_driven</th>\n",
       "      <th>ownsership</th>\n",
       "      <th>manufacturing_year</th>\n",
       "      <th>mileage</th>\n",
       "      <th>engine</th>\n",
       "      <th>max_power</th>\n",
       "      <th>torque</th>\n",
       "      <th>price</th>\n",
       "      <th>Automatic</th>\n",
       "      <th>Manual</th>\n",
       "      <th>CNG</th>\n",
       "      <th>Diesel</th>\n",
       "      <th>Petrol</th>\n",
       "      <th>Comprehensive insurance</th>\n",
       "      <th>Third Party insurance</th>\n",
       "      <th>Zero Dep insurance</th>\n",
       "    </tr>\n",
       "  </thead>\n",
       "  <tbody>\n",
       "    <tr>\n",
       "      <th>0</th>\n",
       "      <td>5</td>\n",
       "      <td>56000.0</td>\n",
       "      <td>1</td>\n",
       "      <td>2017</td>\n",
       "      <td>7.81</td>\n",
       "      <td>2996.0</td>\n",
       "      <td>2996.0</td>\n",
       "      <td>333.000000</td>\n",
       "      <td>63.75</td>\n",
       "      <td>1</td>\n",
       "      <td>0</td>\n",
       "      <td>0</td>\n",
       "      <td>0</td>\n",
       "      <td>1</td>\n",
       "      <td>1</td>\n",
       "      <td>0</td>\n",
       "      <td>0</td>\n",
       "    </tr>\n",
       "    <tr>\n",
       "      <th>1</th>\n",
       "      <td>5</td>\n",
       "      <td>30615.0</td>\n",
       "      <td>1</td>\n",
       "      <td>2020</td>\n",
       "      <td>17.40</td>\n",
       "      <td>999.0</td>\n",
       "      <td>999.0</td>\n",
       "      <td>9863.000000</td>\n",
       "      <td>8.99</td>\n",
       "      <td>1</td>\n",
       "      <td>0</td>\n",
       "      <td>0</td>\n",
       "      <td>0</td>\n",
       "      <td>1</td>\n",
       "      <td>1</td>\n",
       "      <td>0</td>\n",
       "      <td>0</td>\n",
       "    </tr>\n",
       "    <tr>\n",
       "      <th>2</th>\n",
       "      <td>5</td>\n",
       "      <td>24000.0</td>\n",
       "      <td>1</td>\n",
       "      <td>2018</td>\n",
       "      <td>20.68</td>\n",
       "      <td>1995.0</td>\n",
       "      <td>1995.0</td>\n",
       "      <td>188.000000</td>\n",
       "      <td>23.75</td>\n",
       "      <td>1</td>\n",
       "      <td>0</td>\n",
       "      <td>0</td>\n",
       "      <td>1</td>\n",
       "      <td>0</td>\n",
       "      <td>1</td>\n",
       "      <td>0</td>\n",
       "      <td>0</td>\n",
       "    </tr>\n",
       "    <tr>\n",
       "      <th>3</th>\n",
       "      <td>5</td>\n",
       "      <td>18378.0</td>\n",
       "      <td>1</td>\n",
       "      <td>2019</td>\n",
       "      <td>16.50</td>\n",
       "      <td>1353.0</td>\n",
       "      <td>1353.0</td>\n",
       "      <td>13808.000000</td>\n",
       "      <td>13.56</td>\n",
       "      <td>0</td>\n",
       "      <td>1</td>\n",
       "      <td>0</td>\n",
       "      <td>0</td>\n",
       "      <td>1</td>\n",
       "      <td>1</td>\n",
       "      <td>0</td>\n",
       "      <td>0</td>\n",
       "    </tr>\n",
       "    <tr>\n",
       "      <th>4</th>\n",
       "      <td>5</td>\n",
       "      <td>44900.0</td>\n",
       "      <td>1</td>\n",
       "      <td>2019</td>\n",
       "      <td>14.67</td>\n",
       "      <td>1798.0</td>\n",
       "      <td>1798.0</td>\n",
       "      <td>17746.000000</td>\n",
       "      <td>24.00</td>\n",
       "      <td>1</td>\n",
       "      <td>0</td>\n",
       "      <td>0</td>\n",
       "      <td>0</td>\n",
       "      <td>1</td>\n",
       "      <td>1</td>\n",
       "      <td>0</td>\n",
       "      <td>0</td>\n",
       "    </tr>\n",
       "    <tr>\n",
       "      <th>5</th>\n",
       "      <td>5</td>\n",
       "      <td>42000.0</td>\n",
       "      <td>1</td>\n",
       "      <td>2017</td>\n",
       "      <td>18.70</td>\n",
       "      <td>1199.0</td>\n",
       "      <td>1199.0</td>\n",
       "      <td>887.000000</td>\n",
       "      <td>5.45</td>\n",
       "      <td>0</td>\n",
       "      <td>1</td>\n",
       "      <td>0</td>\n",
       "      <td>0</td>\n",
       "      <td>1</td>\n",
       "      <td>0</td>\n",
       "      <td>1</td>\n",
       "      <td>0</td>\n",
       "    </tr>\n",
       "    <tr>\n",
       "      <th>6</th>\n",
       "      <td>5</td>\n",
       "      <td>36739.0</td>\n",
       "      <td>1</td>\n",
       "      <td>2018</td>\n",
       "      <td>18.90</td>\n",
       "      <td>1197.0</td>\n",
       "      <td>1197.0</td>\n",
       "      <td>8186.000000</td>\n",
       "      <td>5.12</td>\n",
       "      <td>0</td>\n",
       "      <td>1</td>\n",
       "      <td>0</td>\n",
       "      <td>0</td>\n",
       "      <td>1</td>\n",
       "      <td>1</td>\n",
       "      <td>0</td>\n",
       "      <td>0</td>\n",
       "    </tr>\n",
       "    <tr>\n",
       "      <th>7</th>\n",
       "      <td>5</td>\n",
       "      <td>76000.0</td>\n",
       "      <td>1</td>\n",
       "      <td>2018</td>\n",
       "      <td>15.80</td>\n",
       "      <td>1591.0</td>\n",
       "      <td>1591.0</td>\n",
       "      <td>1213.000000</td>\n",
       "      <td>9.30</td>\n",
       "      <td>0</td>\n",
       "      <td>1</td>\n",
       "      <td>0</td>\n",
       "      <td>0</td>\n",
       "      <td>1</td>\n",
       "      <td>1</td>\n",
       "      <td>0</td>\n",
       "      <td>0</td>\n",
       "    </tr>\n",
       "    <tr>\n",
       "      <th>8</th>\n",
       "      <td>5</td>\n",
       "      <td>68000.0</td>\n",
       "      <td>2</td>\n",
       "      <td>2015</td>\n",
       "      <td>13.50</td>\n",
       "      <td>2987.0</td>\n",
       "      <td>2987.0</td>\n",
       "      <td>12755.072144</td>\n",
       "      <td>42.00</td>\n",
       "      <td>1</td>\n",
       "      <td>0</td>\n",
       "      <td>0</td>\n",
       "      <td>1</td>\n",
       "      <td>0</td>\n",
       "      <td>1</td>\n",
       "      <td>0</td>\n",
       "      <td>0</td>\n",
       "    </tr>\n",
       "    <tr>\n",
       "      <th>9</th>\n",
       "      <td>5</td>\n",
       "      <td>28783.0</td>\n",
       "      <td>1</td>\n",
       "      <td>2019</td>\n",
       "      <td>17.00</td>\n",
       "      <td>1198.0</td>\n",
       "      <td>1198.0</td>\n",
       "      <td>1085.000000</td>\n",
       "      <td>8.02</td>\n",
       "      <td>0</td>\n",
       "      <td>1</td>\n",
       "      <td>0</td>\n",
       "      <td>0</td>\n",
       "      <td>1</td>\n",
       "      <td>1</td>\n",
       "      <td>0</td>\n",
       "      <td>0</td>\n",
       "    </tr>\n",
       "  </tbody>\n",
       "</table>\n",
       "</div>"
      ],
      "text/plain": [
       "   seats  kms_driven  ownsership  manufacturing_year  mileage  engine  \\\n",
       "0      5     56000.0           1                2017     7.81  2996.0   \n",
       "1      5     30615.0           1                2020    17.40   999.0   \n",
       "2      5     24000.0           1                2018    20.68  1995.0   \n",
       "3      5     18378.0           1                2019    16.50  1353.0   \n",
       "4      5     44900.0           1                2019    14.67  1798.0   \n",
       "5      5     42000.0           1                2017    18.70  1199.0   \n",
       "6      5     36739.0           1                2018    18.90  1197.0   \n",
       "7      5     76000.0           1                2018    15.80  1591.0   \n",
       "8      5     68000.0           2                2015    13.50  2987.0   \n",
       "9      5     28783.0           1                2019    17.00  1198.0   \n",
       "\n",
       "   max_power        torque  price  Automatic  Manual  CNG  Diesel  Petrol  \\\n",
       "0     2996.0    333.000000  63.75          1       0    0       0       1   \n",
       "1      999.0   9863.000000   8.99          1       0    0       0       1   \n",
       "2     1995.0    188.000000  23.75          1       0    0       1       0   \n",
       "3     1353.0  13808.000000  13.56          0       1    0       0       1   \n",
       "4     1798.0  17746.000000  24.00          1       0    0       0       1   \n",
       "5     1199.0    887.000000   5.45          0       1    0       0       1   \n",
       "6     1197.0   8186.000000   5.12          0       1    0       0       1   \n",
       "7     1591.0   1213.000000   9.30          0       1    0       0       1   \n",
       "8     2987.0  12755.072144  42.00          1       0    0       1       0   \n",
       "9     1198.0   1085.000000   8.02          0       1    0       0       1   \n",
       "\n",
       "   Comprehensive insurance  Third Party insurance  Zero Dep insurance  \n",
       "0                        1                      0                   0  \n",
       "1                        1                      0                   0  \n",
       "2                        1                      0                   0  \n",
       "3                        1                      0                   0  \n",
       "4                        1                      0                   0  \n",
       "5                        0                      1                   0  \n",
       "6                        1                      0                   0  \n",
       "7                        1                      0                   0  \n",
       "8                        1                      0                   0  \n",
       "9                        1                      0                   0  "
      ]
     },
     "execution_count": 599,
     "metadata": {},
     "output_type": "execute_result"
    }
   ],
   "source": [
    "Ucarsdataf.head(10)"
   ]
  },
  {
   "cell_type": "code",
   "execution_count": 600,
   "id": "1ca925b8",
   "metadata": {},
   "outputs": [
    {
     "data": {
      "text/html": [
       "<div>\n",
       "<style scoped>\n",
       "    .dataframe tbody tr th:only-of-type {\n",
       "        vertical-align: middle;\n",
       "    }\n",
       "\n",
       "    .dataframe tbody tr th {\n",
       "        vertical-align: top;\n",
       "    }\n",
       "\n",
       "    .dataframe thead th {\n",
       "        text-align: right;\n",
       "    }\n",
       "</style>\n",
       "<table border=\"1\" class=\"dataframe\">\n",
       "  <thead>\n",
       "    <tr style=\"text-align: right;\">\n",
       "      <th></th>\n",
       "      <th>seats</th>\n",
       "      <th>kms_driven</th>\n",
       "      <th>ownsership</th>\n",
       "      <th>manufacturing_year</th>\n",
       "      <th>mileage</th>\n",
       "      <th>engine</th>\n",
       "      <th>max_power</th>\n",
       "      <th>torque</th>\n",
       "      <th>price</th>\n",
       "      <th>Automatic</th>\n",
       "      <th>Manual</th>\n",
       "      <th>CNG</th>\n",
       "      <th>Diesel</th>\n",
       "      <th>Petrol</th>\n",
       "      <th>Comprehensive insurance</th>\n",
       "      <th>Third Party insurance</th>\n",
       "      <th>Zero Dep insurance</th>\n",
       "    </tr>\n",
       "  </thead>\n",
       "  <tbody>\n",
       "    <tr>\n",
       "      <th>seats</th>\n",
       "      <td>1.000000</td>\n",
       "      <td>0.063460</td>\n",
       "      <td>0.056197</td>\n",
       "      <td>0.089292</td>\n",
       "      <td>0.002163</td>\n",
       "      <td>0.045562</td>\n",
       "      <td>0.045562</td>\n",
       "      <td>0.015650</td>\n",
       "      <td>0.146533</td>\n",
       "      <td>0.132428</td>\n",
       "      <td>-0.132428</td>\n",
       "      <td>0.012716</td>\n",
       "      <td>0.327927</td>\n",
       "      <td>-0.327428</td>\n",
       "      <td>-0.058845</td>\n",
       "      <td>0.065151</td>\n",
       "      <td>-0.006276</td>\n",
       "    </tr>\n",
       "    <tr>\n",
       "      <th>kms_driven</th>\n",
       "      <td>0.063460</td>\n",
       "      <td>1.000000</td>\n",
       "      <td>0.150713</td>\n",
       "      <td>-0.553216</td>\n",
       "      <td>-0.076609</td>\n",
       "      <td>-0.093649</td>\n",
       "      <td>-0.093649</td>\n",
       "      <td>-0.177192</td>\n",
       "      <td>-0.286714</td>\n",
       "      <td>-0.165956</td>\n",
       "      <td>0.165956</td>\n",
       "      <td>-0.030863</td>\n",
       "      <td>0.202271</td>\n",
       "      <td>-0.192097</td>\n",
       "      <td>-0.044821</td>\n",
       "      <td>0.083160</td>\n",
       "      <td>-0.075081</td>\n",
       "    </tr>\n",
       "    <tr>\n",
       "      <th>ownsership</th>\n",
       "      <td>0.056197</td>\n",
       "      <td>0.150713</td>\n",
       "      <td>1.000000</td>\n",
       "      <td>-0.236255</td>\n",
       "      <td>-0.007672</td>\n",
       "      <td>-0.032497</td>\n",
       "      <td>-0.032497</td>\n",
       "      <td>-0.048880</td>\n",
       "      <td>0.006517</td>\n",
       "      <td>0.049712</td>\n",
       "      <td>-0.049712</td>\n",
       "      <td>0.011167</td>\n",
       "      <td>0.096160</td>\n",
       "      <td>-0.097909</td>\n",
       "      <td>-0.103890</td>\n",
       "      <td>0.124758</td>\n",
       "      <td>-0.031486</td>\n",
       "    </tr>\n",
       "    <tr>\n",
       "      <th>manufacturing_year</th>\n",
       "      <td>0.089292</td>\n",
       "      <td>-0.553216</td>\n",
       "      <td>-0.236255</td>\n",
       "      <td>1.000000</td>\n",
       "      <td>-0.039520</td>\n",
       "      <td>0.077356</td>\n",
       "      <td>0.077356</td>\n",
       "      <td>0.286989</td>\n",
       "      <td>0.350499</td>\n",
       "      <td>0.289128</td>\n",
       "      <td>-0.289128</td>\n",
       "      <td>0.015590</td>\n",
       "      <td>0.035418</td>\n",
       "      <td>-0.038987</td>\n",
       "      <td>0.024067</td>\n",
       "      <td>-0.091935</td>\n",
       "      <td>0.139434</td>\n",
       "    </tr>\n",
       "    <tr>\n",
       "      <th>mileage</th>\n",
       "      <td>0.002163</td>\n",
       "      <td>-0.076609</td>\n",
       "      <td>-0.007672</td>\n",
       "      <td>-0.039520</td>\n",
       "      <td>1.000000</td>\n",
       "      <td>0.700282</td>\n",
       "      <td>0.700282</td>\n",
       "      <td>-0.266087</td>\n",
       "      <td>-0.072956</td>\n",
       "      <td>-0.140909</td>\n",
       "      <td>0.140909</td>\n",
       "      <td>0.151984</td>\n",
       "      <td>-0.090100</td>\n",
       "      <td>0.050334</td>\n",
       "      <td>-0.017042</td>\n",
       "      <td>0.020337</td>\n",
       "      <td>-0.004895</td>\n",
       "    </tr>\n",
       "    <tr>\n",
       "      <th>engine</th>\n",
       "      <td>0.045562</td>\n",
       "      <td>-0.093649</td>\n",
       "      <td>-0.032497</td>\n",
       "      <td>0.077356</td>\n",
       "      <td>0.700282</td>\n",
       "      <td>1.000000</td>\n",
       "      <td>1.000000</td>\n",
       "      <td>-0.180342</td>\n",
       "      <td>0.063666</td>\n",
       "      <td>-0.006993</td>\n",
       "      <td>0.006993</td>\n",
       "      <td>0.143221</td>\n",
       "      <td>-0.026727</td>\n",
       "      <td>-0.010083</td>\n",
       "      <td>0.031630</td>\n",
       "      <td>-0.049909</td>\n",
       "      <td>0.034587</td>\n",
       "    </tr>\n",
       "    <tr>\n",
       "      <th>max_power</th>\n",
       "      <td>0.045562</td>\n",
       "      <td>-0.093649</td>\n",
       "      <td>-0.032497</td>\n",
       "      <td>0.077356</td>\n",
       "      <td>0.700282</td>\n",
       "      <td>1.000000</td>\n",
       "      <td>1.000000</td>\n",
       "      <td>-0.180342</td>\n",
       "      <td>0.063666</td>\n",
       "      <td>-0.006993</td>\n",
       "      <td>0.006993</td>\n",
       "      <td>0.143221</td>\n",
       "      <td>-0.026727</td>\n",
       "      <td>-0.010083</td>\n",
       "      <td>0.031630</td>\n",
       "      <td>-0.049909</td>\n",
       "      <td>0.034587</td>\n",
       "    </tr>\n",
       "    <tr>\n",
       "      <th>torque</th>\n",
       "      <td>0.015650</td>\n",
       "      <td>-0.177192</td>\n",
       "      <td>-0.048880</td>\n",
       "      <td>0.286989</td>\n",
       "      <td>-0.266087</td>\n",
       "      <td>-0.180342</td>\n",
       "      <td>-0.180342</td>\n",
       "      <td>1.000000</td>\n",
       "      <td>0.185114</td>\n",
       "      <td>0.165289</td>\n",
       "      <td>-0.165289</td>\n",
       "      <td>-0.060672</td>\n",
       "      <td>0.041671</td>\n",
       "      <td>-0.025732</td>\n",
       "      <td>0.022421</td>\n",
       "      <td>-0.048927</td>\n",
       "      <td>0.052920</td>\n",
       "    </tr>\n",
       "    <tr>\n",
       "      <th>price</th>\n",
       "      <td>0.146533</td>\n",
       "      <td>-0.286714</td>\n",
       "      <td>0.006517</td>\n",
       "      <td>0.350499</td>\n",
       "      <td>-0.072956</td>\n",
       "      <td>0.063666</td>\n",
       "      <td>0.063666</td>\n",
       "      <td>0.185114</td>\n",
       "      <td>1.000000</td>\n",
       "      <td>0.548669</td>\n",
       "      <td>-0.548669</td>\n",
       "      <td>-0.064336</td>\n",
       "      <td>0.207047</td>\n",
       "      <td>-0.188287</td>\n",
       "      <td>-0.058141</td>\n",
       "      <td>0.002069</td>\n",
       "      <td>0.124407</td>\n",
       "    </tr>\n",
       "    <tr>\n",
       "      <th>Automatic</th>\n",
       "      <td>0.132428</td>\n",
       "      <td>-0.165956</td>\n",
       "      <td>0.049712</td>\n",
       "      <td>0.289128</td>\n",
       "      <td>-0.140909</td>\n",
       "      <td>-0.006993</td>\n",
       "      <td>-0.006993</td>\n",
       "      <td>0.165289</td>\n",
       "      <td>0.548669</td>\n",
       "      <td>1.000000</td>\n",
       "      <td>-1.000000</td>\n",
       "      <td>-0.109185</td>\n",
       "      <td>0.218266</td>\n",
       "      <td>-0.187947</td>\n",
       "      <td>-0.063636</td>\n",
       "      <td>0.024200</td>\n",
       "      <td>0.090180</td>\n",
       "    </tr>\n",
       "    <tr>\n",
       "      <th>Manual</th>\n",
       "      <td>-0.132428</td>\n",
       "      <td>0.165956</td>\n",
       "      <td>-0.049712</td>\n",
       "      <td>-0.289128</td>\n",
       "      <td>0.140909</td>\n",
       "      <td>0.006993</td>\n",
       "      <td>0.006993</td>\n",
       "      <td>-0.165289</td>\n",
       "      <td>-0.548669</td>\n",
       "      <td>-1.000000</td>\n",
       "      <td>1.000000</td>\n",
       "      <td>0.109185</td>\n",
       "      <td>-0.218266</td>\n",
       "      <td>0.187947</td>\n",
       "      <td>0.063636</td>\n",
       "      <td>-0.024200</td>\n",
       "      <td>-0.090180</td>\n",
       "    </tr>\n",
       "    <tr>\n",
       "      <th>CNG</th>\n",
       "      <td>0.012716</td>\n",
       "      <td>-0.030863</td>\n",
       "      <td>0.011167</td>\n",
       "      <td>0.015590</td>\n",
       "      <td>0.151984</td>\n",
       "      <td>0.143221</td>\n",
       "      <td>0.143221</td>\n",
       "      <td>-0.060672</td>\n",
       "      <td>-0.064336</td>\n",
       "      <td>-0.109185</td>\n",
       "      <td>0.109185</td>\n",
       "      <td>1.000000</td>\n",
       "      <td>-0.083903</td>\n",
       "      <td>-0.171939</td>\n",
       "      <td>0.013800</td>\n",
       "      <td>-0.002265</td>\n",
       "      <td>-0.025810</td>\n",
       "    </tr>\n",
       "    <tr>\n",
       "      <th>Diesel</th>\n",
       "      <td>0.327927</td>\n",
       "      <td>0.202271</td>\n",
       "      <td>0.096160</td>\n",
       "      <td>0.035418</td>\n",
       "      <td>-0.090100</td>\n",
       "      <td>-0.026727</td>\n",
       "      <td>-0.026727</td>\n",
       "      <td>0.041671</td>\n",
       "      <td>0.207047</td>\n",
       "      <td>0.218266</td>\n",
       "      <td>-0.218266</td>\n",
       "      <td>-0.083903</td>\n",
       "      <td>1.000000</td>\n",
       "      <td>-0.967208</td>\n",
       "      <td>-0.059471</td>\n",
       "      <td>0.051077</td>\n",
       "      <td>0.024614</td>\n",
       "    </tr>\n",
       "    <tr>\n",
       "      <th>Petrol</th>\n",
       "      <td>-0.327428</td>\n",
       "      <td>-0.192097</td>\n",
       "      <td>-0.097909</td>\n",
       "      <td>-0.038987</td>\n",
       "      <td>0.050334</td>\n",
       "      <td>-0.010083</td>\n",
       "      <td>-0.010083</td>\n",
       "      <td>-0.025732</td>\n",
       "      <td>-0.188287</td>\n",
       "      <td>-0.187947</td>\n",
       "      <td>0.187947</td>\n",
       "      <td>-0.171939</td>\n",
       "      <td>-0.967208</td>\n",
       "      <td>1.000000</td>\n",
       "      <td>0.055275</td>\n",
       "      <td>-0.049917</td>\n",
       "      <td>-0.017754</td>\n",
       "    </tr>\n",
       "    <tr>\n",
       "      <th>Comprehensive insurance</th>\n",
       "      <td>-0.058845</td>\n",
       "      <td>-0.044821</td>\n",
       "      <td>-0.103890</td>\n",
       "      <td>0.024067</td>\n",
       "      <td>-0.017042</td>\n",
       "      <td>0.031630</td>\n",
       "      <td>0.031630</td>\n",
       "      <td>0.022421</td>\n",
       "      <td>-0.058141</td>\n",
       "      <td>-0.063636</td>\n",
       "      <td>0.063636</td>\n",
       "      <td>0.013800</td>\n",
       "      <td>-0.059471</td>\n",
       "      <td>0.055275</td>\n",
       "      <td>1.000000</td>\n",
       "      <td>-0.893789</td>\n",
       "      <td>-0.340669</td>\n",
       "    </tr>\n",
       "    <tr>\n",
       "      <th>Third Party insurance</th>\n",
       "      <td>0.065151</td>\n",
       "      <td>0.083160</td>\n",
       "      <td>0.124758</td>\n",
       "      <td>-0.091935</td>\n",
       "      <td>0.020337</td>\n",
       "      <td>-0.049909</td>\n",
       "      <td>-0.049909</td>\n",
       "      <td>-0.048927</td>\n",
       "      <td>0.002069</td>\n",
       "      <td>0.024200</td>\n",
       "      <td>-0.024200</td>\n",
       "      <td>-0.002265</td>\n",
       "      <td>0.051077</td>\n",
       "      <td>-0.049917</td>\n",
       "      <td>-0.893789</td>\n",
       "      <td>1.000000</td>\n",
       "      <td>-0.117175</td>\n",
       "    </tr>\n",
       "    <tr>\n",
       "      <th>Zero Dep insurance</th>\n",
       "      <td>-0.006276</td>\n",
       "      <td>-0.075081</td>\n",
       "      <td>-0.031486</td>\n",
       "      <td>0.139434</td>\n",
       "      <td>-0.004895</td>\n",
       "      <td>0.034587</td>\n",
       "      <td>0.034587</td>\n",
       "      <td>0.052920</td>\n",
       "      <td>0.124407</td>\n",
       "      <td>0.090180</td>\n",
       "      <td>-0.090180</td>\n",
       "      <td>-0.025810</td>\n",
       "      <td>0.024614</td>\n",
       "      <td>-0.017754</td>\n",
       "      <td>-0.340669</td>\n",
       "      <td>-0.117175</td>\n",
       "      <td>1.000000</td>\n",
       "    </tr>\n",
       "  </tbody>\n",
       "</table>\n",
       "</div>"
      ],
      "text/plain": [
       "                            seats  kms_driven  ownsership  manufacturing_year  \\\n",
       "seats                    1.000000    0.063460    0.056197            0.089292   \n",
       "kms_driven               0.063460    1.000000    0.150713           -0.553216   \n",
       "ownsership               0.056197    0.150713    1.000000           -0.236255   \n",
       "manufacturing_year       0.089292   -0.553216   -0.236255            1.000000   \n",
       "mileage                  0.002163   -0.076609   -0.007672           -0.039520   \n",
       "engine                   0.045562   -0.093649   -0.032497            0.077356   \n",
       "max_power                0.045562   -0.093649   -0.032497            0.077356   \n",
       "torque                   0.015650   -0.177192   -0.048880            0.286989   \n",
       "price                    0.146533   -0.286714    0.006517            0.350499   \n",
       "Automatic                0.132428   -0.165956    0.049712            0.289128   \n",
       "Manual                  -0.132428    0.165956   -0.049712           -0.289128   \n",
       "CNG                      0.012716   -0.030863    0.011167            0.015590   \n",
       "Diesel                   0.327927    0.202271    0.096160            0.035418   \n",
       "Petrol                  -0.327428   -0.192097   -0.097909           -0.038987   \n",
       "Comprehensive insurance -0.058845   -0.044821   -0.103890            0.024067   \n",
       "Third Party insurance    0.065151    0.083160    0.124758           -0.091935   \n",
       "Zero Dep insurance      -0.006276   -0.075081   -0.031486            0.139434   \n",
       "\n",
       "                          mileage    engine  max_power    torque     price  \\\n",
       "seats                    0.002163  0.045562   0.045562  0.015650  0.146533   \n",
       "kms_driven              -0.076609 -0.093649  -0.093649 -0.177192 -0.286714   \n",
       "ownsership              -0.007672 -0.032497  -0.032497 -0.048880  0.006517   \n",
       "manufacturing_year      -0.039520  0.077356   0.077356  0.286989  0.350499   \n",
       "mileage                  1.000000  0.700282   0.700282 -0.266087 -0.072956   \n",
       "engine                   0.700282  1.000000   1.000000 -0.180342  0.063666   \n",
       "max_power                0.700282  1.000000   1.000000 -0.180342  0.063666   \n",
       "torque                  -0.266087 -0.180342  -0.180342  1.000000  0.185114   \n",
       "price                   -0.072956  0.063666   0.063666  0.185114  1.000000   \n",
       "Automatic               -0.140909 -0.006993  -0.006993  0.165289  0.548669   \n",
       "Manual                   0.140909  0.006993   0.006993 -0.165289 -0.548669   \n",
       "CNG                      0.151984  0.143221   0.143221 -0.060672 -0.064336   \n",
       "Diesel                  -0.090100 -0.026727  -0.026727  0.041671  0.207047   \n",
       "Petrol                   0.050334 -0.010083  -0.010083 -0.025732 -0.188287   \n",
       "Comprehensive insurance -0.017042  0.031630   0.031630  0.022421 -0.058141   \n",
       "Third Party insurance    0.020337 -0.049909  -0.049909 -0.048927  0.002069   \n",
       "Zero Dep insurance      -0.004895  0.034587   0.034587  0.052920  0.124407   \n",
       "\n",
       "                         Automatic    Manual       CNG    Diesel    Petrol  \\\n",
       "seats                     0.132428 -0.132428  0.012716  0.327927 -0.327428   \n",
       "kms_driven               -0.165956  0.165956 -0.030863  0.202271 -0.192097   \n",
       "ownsership                0.049712 -0.049712  0.011167  0.096160 -0.097909   \n",
       "manufacturing_year        0.289128 -0.289128  0.015590  0.035418 -0.038987   \n",
       "mileage                  -0.140909  0.140909  0.151984 -0.090100  0.050334   \n",
       "engine                   -0.006993  0.006993  0.143221 -0.026727 -0.010083   \n",
       "max_power                -0.006993  0.006993  0.143221 -0.026727 -0.010083   \n",
       "torque                    0.165289 -0.165289 -0.060672  0.041671 -0.025732   \n",
       "price                     0.548669 -0.548669 -0.064336  0.207047 -0.188287   \n",
       "Automatic                 1.000000 -1.000000 -0.109185  0.218266 -0.187947   \n",
       "Manual                   -1.000000  1.000000  0.109185 -0.218266  0.187947   \n",
       "CNG                      -0.109185  0.109185  1.000000 -0.083903 -0.171939   \n",
       "Diesel                    0.218266 -0.218266 -0.083903  1.000000 -0.967208   \n",
       "Petrol                   -0.187947  0.187947 -0.171939 -0.967208  1.000000   \n",
       "Comprehensive insurance  -0.063636  0.063636  0.013800 -0.059471  0.055275   \n",
       "Third Party insurance     0.024200 -0.024200 -0.002265  0.051077 -0.049917   \n",
       "Zero Dep insurance        0.090180 -0.090180 -0.025810  0.024614 -0.017754   \n",
       "\n",
       "                         Comprehensive insurance  Third Party insurance  \\\n",
       "seats                                  -0.058845               0.065151   \n",
       "kms_driven                             -0.044821               0.083160   \n",
       "ownsership                             -0.103890               0.124758   \n",
       "manufacturing_year                      0.024067              -0.091935   \n",
       "mileage                                -0.017042               0.020337   \n",
       "engine                                  0.031630              -0.049909   \n",
       "max_power                               0.031630              -0.049909   \n",
       "torque                                  0.022421              -0.048927   \n",
       "price                                  -0.058141               0.002069   \n",
       "Automatic                              -0.063636               0.024200   \n",
       "Manual                                  0.063636              -0.024200   \n",
       "CNG                                     0.013800              -0.002265   \n",
       "Diesel                                 -0.059471               0.051077   \n",
       "Petrol                                  0.055275              -0.049917   \n",
       "Comprehensive insurance                 1.000000              -0.893789   \n",
       "Third Party insurance                  -0.893789               1.000000   \n",
       "Zero Dep insurance                     -0.340669              -0.117175   \n",
       "\n",
       "                         Zero Dep insurance  \n",
       "seats                             -0.006276  \n",
       "kms_driven                        -0.075081  \n",
       "ownsership                        -0.031486  \n",
       "manufacturing_year                 0.139434  \n",
       "mileage                           -0.004895  \n",
       "engine                             0.034587  \n",
       "max_power                          0.034587  \n",
       "torque                             0.052920  \n",
       "price                              0.124407  \n",
       "Automatic                          0.090180  \n",
       "Manual                            -0.090180  \n",
       "CNG                               -0.025810  \n",
       "Diesel                             0.024614  \n",
       "Petrol                            -0.017754  \n",
       "Comprehensive insurance           -0.340669  \n",
       "Third Party insurance             -0.117175  \n",
       "Zero Dep insurance                 1.000000  "
      ]
     },
     "execution_count": 600,
     "metadata": {},
     "output_type": "execute_result"
    }
   ],
   "source": [
    "#data visualisation (lab phase step 2)\n",
    "Ucarsdataf.corr()"
   ]
  },
  {
   "cell_type": "code",
   "execution_count": 601,
   "id": "a8808c7b",
   "metadata": {},
   "outputs": [
    {
     "data": {
      "text/plain": [
       "<function matplotlib.pyplot.show(close=None, block=None)>"
      ]
     },
     "execution_count": 601,
     "metadata": {},
     "output_type": "execute_result"
    },
    {
     "data": {
      "image/png": "[encoded data removed]",
      "text/plain": [
       "<Figure size 640x480 with 2 Axes>"
      ]
     },
     "metadata": {},
     "output_type": "display_data"
    }
   ],
   "source": [
    "sns.heatmap(Ucarsdataf.corr(),annot=False,cmap='plasma')\n",
    "plt.show"
   ]
  },
  {
   "cell_type": "code",
   "execution_count": 602,
   "id": "c569ad58",
   "metadata": {},
   "outputs": [
    {
     "data": {
      "text/plain": [
       "<function matplotlib.pyplot.show(close=None, block=None)>"
      ]
     },
     "execution_count": 602,
     "metadata": {},
     "output_type": "execute_result"
    },
    {
     "data": {
      "image/png": "[encoded data removed]",
      "text/plain": [
       "<Figure size 640x480 with 1 Axes>"
      ]
     },
     "metadata": {},
     "output_type": "display_data"
    }
   ],
   "source": [
    "plt.plot(Ucarsdataf[\"ownsership\"],Ucarsdataf[\"price\"],'ro')\n",
    "plt.show"
   ]
  },
  {
   "cell_type": "code",
   "execution_count": 603,
   "id": "dc12b274",
   "metadata": {},
   "outputs": [
    {
     "data": {
      "text/plain": [
       "<function matplotlib.pyplot.show(close=None, block=None)>"
      ]
     },
     "execution_count": 603,
     "metadata": {},
     "output_type": "execute_result"
    },
    {
     "data": {
      "image/png": "[encoded data removed]",
      "text/plain": [
       "<Figure size 640x480 with 1 Axes>"
      ]
     },
     "metadata": {},
     "output_type": "display_data"
    }
   ],
   "source": [
    "plt.plot(Ucarsdataf[\"seats\"],Ucarsdataf[\"price\"],'ro')\n",
    "plt.show"
   ]
  },
  {
   "cell_type": "code",
   "execution_count": 604,
   "id": "b719782a",
   "metadata": {},
   "outputs": [
    {
     "data": {
      "text/plain": [
       "<function matplotlib.pyplot.show(close=None, block=None)>"
      ]
     },
     "execution_count": 604,
     "metadata": {},
     "output_type": "execute_result"
    },
    {
     "data": {
      "image/png": "[encoded data removed]",
      "text/plain": [
       "<Figure size 640x480 with 1 Axes>"
      ]
     },
     "metadata": {},
     "output_type": "display_data"
    }
   ],
   "source": [
    "plt.plot(Ucarsdataf[\"kms_driven\"],Ucarsdataf[\"price\"],'ro')\n",
    "plt.show"
   ]
  },
  {
   "cell_type": "code",
   "execution_count": 605,
   "id": "8eb6a189",
   "metadata": {},
   "outputs": [
    {
     "data": {
      "text/plain": [
       "<function matplotlib.pyplot.show(close=None, block=None)>"
      ]
     },
     "execution_count": 605,
     "metadata": {},
     "output_type": "execute_result"
    },
    {
     "data": {
      "image/png": "[encoded data removed]",
      "text/plain": [
       "<Figure size 640x480 with 1 Axes>"
      ]
     },
     "metadata": {},
     "output_type": "display_data"
    }
   ],
   "source": [
    "plt.plot(Ucarsdataf[\"manufacturing_year\"],Ucarsdataf[\"price\"],'ro')\n",
    "plt.show"
   ]
  },
  {
   "cell_type": "code",
   "execution_count": 606,
   "id": "d6d7398c",
   "metadata": {},
   "outputs": [
    {
     "data": {
      "text/plain": [
       "<function matplotlib.pyplot.show(close=None, block=None)>"
      ]
     },
     "execution_count": 606,
     "metadata": {},
     "output_type": "execute_result"
    },
    {
     "data": {
      "image/png": "[encoded data removed]",
      "text/plain": [
       "<Figure size 640x480 with 1 Axes>"
      ]
     },
     "metadata": {},
     "output_type": "display_data"
    }
   ],
   "source": [
    "plt.plot(Ucarsdataf[\"mileage\"],Ucarsdataf[\"price\"],'ro')\n",
    "plt.show"
   ]
  },
  {
   "cell_type": "code",
   "execution_count": 607,
   "id": "f1b35b52",
   "metadata": {},
   "outputs": [
    {
     "data": {
      "text/plain": [
       "<function matplotlib.pyplot.show(close=None, block=None)>"
      ]
     },
     "execution_count": 607,
     "metadata": {},
     "output_type": "execute_result"
    },
    {
     "data": {
      "image/png": "[encoded data removed]",
      "text/plain": [
       "<Figure size 640x480 with 1 Axes>"
      ]
     },
     "metadata": {},
     "output_type": "display_data"
    }
   ],
   "source": [
    "plt.plot(Ucarsdataf[\"engine\"],Ucarsdataf[\"price\"],'ro')\n",
    "plt.show"
   ]
  },
  {
   "cell_type": "code",
   "execution_count": 608,
   "id": "9f3b62e8",
   "metadata": {},
   "outputs": [
    {
     "data": {
      "text/plain": [
       "<function matplotlib.pyplot.show(close=None, block=None)>"
      ]
     },
     "execution_count": 608,
     "metadata": {},
     "output_type": "execute_result"
    },
    {
     "data": {
      "image/png": "[encoded data removed]",
      "text/plain": [
       "<Figure size 640x480 with 1 Axes>"
      ]
     },
     "metadata": {},
     "output_type": "display_data"
    }
   ],
   "source": [
    "plt.plot(Ucarsdataf[\"max_power\"],Ucarsdataf[\"price\"],'ro')\n",
    "plt.show"
   ]
  },
  {
   "cell_type": "code",
   "execution_count": 609,
   "id": "973425b8",
   "metadata": {},
   "outputs": [
    {
     "data": {
      "text/plain": [
       "<function matplotlib.pyplot.show(close=None, block=None)>"
      ]
     },
     "execution_count": 609,
     "metadata": {},
     "output_type": "execute_result"
    },
    {
     "data": {
      "image/png": "[encoded data removed]",
      "text/plain": [
       "<Figure size 640x480 with 1 Axes>"
      ]
     },
     "metadata": {},
     "output_type": "display_data"
    }
   ],
   "source": [
    "plt.plot(Ucarsdataf[\"torque\"],Ucarsdataf[\"price\"],'ro')\n",
    "plt.show"
   ]
  },
  {
   "cell_type": "code",
   "execution_count": 610,
   "id": "1cac21c4",
   "metadata": {},
   "outputs": [
    {
     "data": {
      "text/plain": [
       "<function matplotlib.pyplot.show(close=None, block=None)>"
      ]
     },
     "execution_count": 610,
     "metadata": {},
     "output_type": "execute_result"
    },
    {
     "data": {
      "image/png": "[encoded data removed]",
      "text/plain": [
       "<Figure size 640x480 with 1 Axes>"
      ]
     },
     "metadata": {},
     "output_type": "display_data"
    }
   ],
   "source": [
    "plt.plot(Ucarsdataf[\"Automatic\"],Ucarsdataf[\"price\"],'ro')\n",
    "plt.show"
   ]
  },
  {
   "cell_type": "code",
   "execution_count": 611,
   "id": "dde7795c",
   "metadata": {},
   "outputs": [
    {
     "data": {
      "text/plain": [
       "<function matplotlib.pyplot.show(close=None, block=None)>"
      ]
     },
     "execution_count": 611,
     "metadata": {},
     "output_type": "execute_result"
    },
    {
     "data": {
      "image/png": "[encoded data removed]",
      "text/plain": [
       "<Figure size 640x480 with 1 Axes>"
      ]
     },
     "metadata": {},
     "output_type": "display_data"
    }
   ],
   "source": [
    "plt.plot(Ucarsdataf[\"Manual\"],Ucarsdataf[\"price\"],'ro')\n",
    "plt.show"
   ]
  },
  {
   "cell_type": "code",
   "execution_count": 612,
   "id": "871ba611",
   "metadata": {},
   "outputs": [
    {
     "data": {
      "text/plain": [
       "<function matplotlib.pyplot.show(close=None, block=None)>"
      ]
     },
     "execution_count": 612,
     "metadata": {},
     "output_type": "execute_result"
    },
    {
     "data": {
      "image/png": "[encoded data removed]",
      "text/plain": [
       "<Figure size 640x480 with 1 Axes>"
      ]
     },
     "metadata": {},
     "output_type": "display_data"
    }
   ],
   "source": [
    "plt.plot(Ucarsdataf[\"CNG\"],Ucarsdataf[\"price\"],'ro')\n",
    "plt.show"
   ]
  },
  {
   "cell_type": "code",
   "execution_count": 613,
   "id": "d0ab3721",
   "metadata": {},
   "outputs": [
    {
     "data": {
      "text/plain": [
       "<function matplotlib.pyplot.show(close=None, block=None)>"
      ]
     },
     "execution_count": 613,
     "metadata": {},
     "output_type": "execute_result"
    },
    {
     "data": {
      "image/png": "[encoded data removed]",
      "text/plain": [
       "<Figure size 640x480 with 1 Axes>"
      ]
     },
     "metadata": {},
     "output_type": "display_data"
    }
   ],
   "source": [
    "plt.plot(Ucarsdataf[\"Diesel\"],Ucarsdataf[\"price\"],'ro')\n",
    "plt.show"
   ]
  },
  {
   "cell_type": "code",
   "execution_count": 614,
   "id": "76d5abff",
   "metadata": {},
   "outputs": [
    {
     "data": {
      "text/plain": [
       "<function matplotlib.pyplot.show(close=None, block=None)>"
      ]
     },
     "execution_count": 614,
     "metadata": {},
     "output_type": "execute_result"
    },
    {
     "data": {
      "image/png": "[encoded data removed]",
      "text/plain": [
       "<Figure size 640x480 with 1 Axes>"
      ]
     },
     "metadata": {},
     "output_type": "display_data"
    }
   ],
   "source": [
    "plt.plot(Ucarsdataf[\"Petrol\"],Ucarsdataf[\"price\"],'ro')\n",
    "plt.show"
   ]
  },
  {
   "cell_type": "code",
   "execution_count": 615,
   "id": "c544640a",
   "metadata": {},
   "outputs": [
    {
     "data": {
      "text/plain": [
       "<function matplotlib.pyplot.show(close=None, block=None)>"
      ]
     },
     "execution_count": 615,
     "metadata": {},
     "output_type": "execute_result"
    },
    {
     "data": {
      "image/png": "[encoded data removed]",
      "text/plain": [
       "<Figure size 640x480 with 1 Axes>"
      ]
     },
     "metadata": {},
     "output_type": "display_data"
    }
   ],
   "source": [
    "plt.plot(Ucarsdataf[\"Comprehensive insurance\"],Ucarsdataf[\"price\"],'ro')\n",
    "plt.show"
   ]
  },
  {
   "cell_type": "code",
   "execution_count": 616,
   "id": "9529524b",
   "metadata": {},
   "outputs": [
    {
     "data": {
      "text/plain": [
       "<function matplotlib.pyplot.show(close=None, block=None)>"
      ]
     },
     "execution_count": 616,
     "metadata": {},
     "output_type": "execute_result"
    },
    {
     "data": {
      "image/png": "[encoded data removed]",
      "text/plain": [
       "<Figure size 640x480 with 1 Axes>"
      ]
     },
     "metadata": {},
     "output_type": "display_data"
    }
   ],
   "source": [
    "plt.plot(Ucarsdataf[\"Third Party insurance\"],Ucarsdataf[\"price\"],'ro')\n",
    "plt.show"
   ]
  },
  {
   "cell_type": "code",
   "execution_count": 617,
   "id": "14cfccc8",
   "metadata": {},
   "outputs": [
    {
     "data": {
      "text/plain": [
       "<function matplotlib.pyplot.show(close=None, block=None)>"
      ]
     },
     "execution_count": 617,
     "metadata": {},
     "output_type": "execute_result"
    },
    {
     "data": {
      "image/png": "[encoded data removed]",
      "text/plain": [
       "<Figure size 640x480 with 1 Axes>"
      ]
     },
     "metadata": {},
     "output_type": "display_data"
    }
   ],
   "source": [
    "plt.plot(Ucarsdataf[\"Zero Dep insurance\"],Ucarsdataf[\"price\"],'ro')\n",
    "plt.show"
   ]
  },
  {
   "cell_type": "code",
   "execution_count": null,
   "id": "7521c481",
   "metadata": {},
   "outputs": [],
   "source": []
  }
 ],
 "metadata": {
  "kernelspec": {
   "display_name": "Python 3 (ipykernel)",
   "language": "python",
   "name": "python3"
  },
  "language_info": {
   "codemirror_mode": {
    "name": "ipython",
    "version": 3
   },
   "file_extension": ".py",
   "mimetype": "text/x-python",
   "name": "python",
   "nbconvert_exporter": "python",
   "pygments_lexer": "ipython3",
   "version": "3.10.9"
  }
 },
 "nbformat": 4,
 "nbformat_minor": 5
}
