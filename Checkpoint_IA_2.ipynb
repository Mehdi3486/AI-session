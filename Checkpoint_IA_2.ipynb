{
 "cells": [
  {
   "cell_type": "code",
   "execution_count": 6,
   "id": "9752de6f",
   "metadata": {
    "scrolled": true
   },
   "outputs": [
    {
     "name": "stdout",
     "output_type": "stream",
     "text": [
      "Welcome to guess game ! please enter the range lower value : 3\n",
      "Welcome to guess game ! please enter the range Higher value : 6\n",
      "Enter the number of attempts : 3\n",
      "whil\n",
      "Can you guess the right number? let s give it a try enter a number between 3 and 6 : 5\n",
      "Your guess is too low\n",
      "Can you guess the right number? let s give it a try enter a number between 3 and 6 : 5\n",
      "Your guess is too low\n",
      "Can you guess the right number? let s give it a try enter a number between 3 and 6 : 5\n",
      "Your guess is too low\n",
      "Give it up already? Do you want to continue? tape yes to continue or no to exit : yes\n",
      "whil\n",
      "Can you guess the right number? let s give it a try enter a number between 3 and 6 : 5\n",
      "Your guess is too low\n",
      "Can you guess the right number? let s give it a try enter a number between 3 and 6 : 5\n",
      "Your guess is too low\n",
      "Can you guess the right number? let s give it a try enter a number between 3 and 6 : 5\n",
      "Your guess is too low\n",
      "Give it up already? Do you want to continue? tape yes to continue or no to exit : yes\n",
      "whil\n",
      "Can you guess the right number? let s give it a try enter a number between 3 and 6 : 5\n",
      "Your guess is too low\n",
      "Can you guess the right number? let s give it a try enter a number between 3 and 6 : 5\n",
      "Your guess is too low\n",
      "Can you guess the right number? let s give it a try enter a number between 3 and 6 : 5\n",
      "Your guess is too low\n",
      "Give it up already? Do you want to continue? tape yes to continue or no to exit : k\n",
      "Give it up already? Do you want to continue? tape yes to continue or no to exit : m\n",
      "Give it up already? Do you want to continue? tape yes to continue or no to exit : yes\n",
      "whil\n",
      "Can you guess the right number? let s give it a try enter a number between 3 and 6 : 6\n",
      "Congratulations! You guessed the number correctly!\n"
     ]
    }
   ],
   "source": [
    "import random\n",
    "a=int(input('Welcome to guess game ! please enter the range lower value : '))\n",
    "b=int(input('Welcome to guess game ! please enter the range Higher value : '))\n",
    "o=int(input('Enter the number of attempts : '))\n",
    "c=str(a)\n",
    "d=str(b)\n",
    "rdt=random.randint(a,b)\n",
    "j=0\n",
    "g=0\n",
    "m=0\n",
    "e=0\n",
    "lis=[]\n",
    "def rand(ran,e):\n",
    "    global j\n",
    "    global g\n",
    "    global m\n",
    "    for j in range (e):\n",
    "        g=int(input('Can you guess the right number? let s give it a try enter a number between '+c+' and '+d+' : '))\n",
    "        if g<ran:\n",
    "            print('Your guess is too low')\n",
    "        elif g>ran:\n",
    "            print('Your guess is too hight')\n",
    "        elif g==ran:\n",
    "            print('Congratulations! You guessed the number correctly!')\n",
    "            m=1\n",
    "            break\n",
    "    return m,ran\n",
    "lis=rand(rdt,o)\n",
    "while lis[0]==0:\n",
    "    h=input('Give it up already? Do you want to continue? tape yes to continue or no to exit : ')\n",
    "    while h!=\"yes\" and h!=\"no\":\n",
    "        h=input(\"Give it up already? Do you want to continue? tape yes to continue or no to exit : \")\n",
    "    if h=='yes':\n",
    "        j=0\n",
    "        g=0\n",
    "        m=0\n",
    "        e=0\n",
    "        lis=[]\n",
    "        lis=rand(rdt,o)\n",
    "    else:\n",
    "        break\n"
   ]
  },
  {
   "cell_type": "code",
   "execution_count": 17,
   "id": "fea4f6a1",
   "metadata": {},
   "outputs": [
    {
     "name": "stdout",
     "output_type": "stream",
     "text": [
      "[2002, 2009, 2016, 2023, 2037, 2044, 2051, 2058, 2072, 2079, 2086, 2093, 2107, 2114, 2121, 2128, 2142, 2149, 2156, 2163, 2177, 2184, 2191, 2198, 2212, 2219, 2226, 2233, 2247, 2254, 2261, 2268, 2282, 2289, 2296, 2303, 2317, 2324, 2331, 2338, 2352, 2359, 2366, 2373, 2387, 2394, 2401, 2408, 2422, 2429, 2436, 2443, 2457, 2464, 2471, 2478, 2492, 2499, 2506, 2513, 2527, 2534, 2541, 2548, 2562, 2569, 2576, 2583, 2597, 2604, 2611, 2618, 2632, 2639, 2646, 2653, 2667, 2674, 2681, 2688, 2702, 2709, 2716, 2723, 2737, 2744, 2751, 2758, 2772, 2779, 2786, 2793, 2807, 2814, 2821, 2828, 2842, 2849, 2856, 2863, 2877, 2884, 2891, 2898, 2912, 2919, 2926, 2933, 2947, 2954, 2961, 2968, 2982, 2989, 2996, 3003, 3017, 3024, 3031, 3038, 3052, 3059, 3066, 3073, 3087, 3094, 3101, 3108, 3122, 3129, 3136, 3143, 3157, 3164, 3171, 3178, 3192, 3199]\n"
     ]
    }
   ],
   "source": [
    "lis=[]\n",
    "for i in range (2000,3201):\n",
    "    if i%5!=0 and i%7==0:\n",
    "        lis.append(i)\n",
    "    else:\n",
    "        pass\n",
    "print(lis)"
   ]
  },
  {
   "cell_type": "code",
   "execution_count": 25,
   "id": "d967270a",
   "metadata": {},
   "outputs": [
    {
     "name": "stdout",
     "output_type": "stream",
     "text": [
      "Enter the value you want calculate :3\n",
      "6\n"
     ]
    }
   ],
   "source": [
    "fa=int(input('Enter the value you want calculate :'))\n",
    "ct=fa\n",
    "for j in range (fa-1):\n",
    "    ct=ct*(j+1)\n",
    "print(ct)"
   ]
  },
  {
   "cell_type": "code",
   "execution_count": 28,
   "id": "68f21c06",
   "metadata": {},
   "outputs": [
    {
     "name": "stdout",
     "output_type": "stream",
     "text": [
      "Please enter the number of values :8\n",
      "{1: 1, 2: 4, 3: 9, 4: 16, 5: 25, 6: 36, 7: 49, 8: 64}\n"
     ]
    }
   ],
   "source": [
    "dict2={}\n",
    "entr=int(input('Please enter the number of values :'))\n",
    "for h in range (1,entr+1):\n",
    "    key=h\n",
    "    val=h*h\n",
    "    dict2[key]=val\n",
    "print(dict2)"
   ]
  },
  {
   "cell_type": "code",
   "execution_count": 37,
   "id": "03a56f27",
   "metadata": {},
   "outputs": [
    {
     "name": "stdout",
     "output_type": "stream",
     "text": [
      "Please enter a string value :mehdi\n",
      "please enter the index of character you want to remove :2\n",
      "medi\n"
     ]
    }
   ],
   "source": [
    "stri=input(\"Please enter a string value :\")\n",
    "ind=int(input(\"please enter the index of character you want to remove :\"))\n",
    "str2=\"\"\n",
    "str3=\"\"\n",
    "for i in range(ind):\n",
    "    str2=str2+stri[i]\n",
    "for j in range(ind+1,len(stri)):\n",
    "    str3=str3+stri[j]\n",
    "print(str2+str3)\n",
    "    "
   ]
  },
  {
   "cell_type": "code",
   "execution_count": 43,
   "id": "961e5772",
   "metadata": {},
   "outputs": [
    {
     "name": "stdout",
     "output_type": "stream",
     "text": [
      "[[0 1]\n",
      " [2 3]\n",
      " [4 5]]\n",
      "[[0, 1], [2, 3], [4, 5]]\n"
     ]
    }
   ],
   "source": [
    "import numpy as np\n",
    "lis1=[]\n",
    "array1=np.array([[0,1],[2,3],[4,5]]) \n",
    "print(array1)\n",
    "lis1=array1.tolist()\n",
    "print(lis1)"
   ]
  },
  {
   "cell_type": "code",
   "execution_count": 3,
   "id": "072d2f4d",
   "metadata": {},
   "outputs": [
    {
     "name": "stdout",
     "output_type": "stream",
     "text": [
      "[[ 1. -1.]\n",
      " [-1.  1.]]\n"
     ]
    }
   ],
   "source": [
    "import numpy as np\n",
    "array1=np.array([0,1,2]) \n",
    "array2=np.array([2,1,0])\n",
    "cova=np.cov(array1,array2)\n",
    "print(cova)"
   ]
  },
  {
   "cell_type": "code",
   "execution_count": 52,
   "id": "c43d64af",
   "metadata": {},
   "outputs": [
    {
     "name": "stdout",
     "output_type": "stream",
     "text": [
      "please enter the number of values :3\n",
      "please enter the value :100\n",
      "please enter the value :150\n",
      "please enter the value :180\n",
      "[18, 22, 24]\n"
     ]
    }
   ],
   "source": [
    "import math\n",
    "lis3=[]\n",
    "t=int(input(\"Please enter the number of values you want to calculate :\"))\n",
    "C=50\n",
    "H=30\n",
    "for i in range (t):\n",
    "    val=int(input(\"Please enter the value :\"))\n",
    "    k=round(math.sqrt((2 * C * val)/H))\n",
    "    lis3.append(k)\n",
    "print(lis3)"
   ]
  },
  {
   "cell_type": "code",
   "execution_count": null,
   "id": "96343279",
   "metadata": {},
   "outputs": [],
   "source": []
  }
 ],
 "metadata": {
  "kernelspec": {
   "display_name": "Python 3 (ipykernel)",
   "language": "python",
   "name": "python3"
  },
  "language_info": {
   "codemirror_mode": {
    "name": "ipython",
    "version": 3
   },
   "file_extension": ".py",
   "mimetype": "text/x-python",
   "name": "python",
   "nbconvert_exporter": "python",
   "pygments_lexer": "ipython3",
   "version": "3.10.9"
  }
 },
 "nbformat": 4,
 "nbformat_minor": 5
}
