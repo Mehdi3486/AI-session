{
 "cells": [
  {
   "cell_type": "code",
   "execution_count": 1,
   "id": "44d020cb",
   "metadata": {},
   "outputs": [
    {
     "data": {
      "text/html": [
       "<div>\n",
       "<style scoped>\n",
       "    .dataframe tbody tr th:only-of-type {\n",
       "        vertical-align: middle;\n",
       "    }\n",
       "\n",
       "    .dataframe tbody tr th {\n",
       "        vertical-align: top;\n",
       "    }\n",
       "\n",
       "    .dataframe thead th {\n",
       "        text-align: right;\n",
       "    }\n",
       "</style>\n",
       "<table border=\"1\" class=\"dataframe\">\n",
       "  <thead>\n",
       "    <tr style=\"text-align: right;\">\n",
       "      <th></th>\n",
       "      <th>Unnamed: 0</th>\n",
       "      <th>car_name</th>\n",
       "      <th>registration_year</th>\n",
       "      <th>insurance_validity</th>\n",
       "      <th>fuel_type</th>\n",
       "      <th>seats</th>\n",
       "      <th>kms_driven</th>\n",
       "      <th>ownsership</th>\n",
       "      <th>transmission</th>\n",
       "      <th>manufacturing_year</th>\n",
       "      <th>mileage(kmpl)</th>\n",
       "      <th>engine(cc)</th>\n",
       "      <th>max_power(bhp)</th>\n",
       "      <th>torque(Nm)</th>\n",
       "      <th>price(in lakhs)</th>\n",
       "    </tr>\n",
       "  </thead>\n",
       "  <tbody>\n",
       "    <tr>\n",
       "      <th>0</th>\n",
       "      <td>0</td>\n",
       "      <td>2017 Mercedes-Benz S-Class S400</td>\n",
       "      <td>Jul-17</td>\n",
       "      <td>Comprehensive</td>\n",
       "      <td>Petrol</td>\n",
       "      <td>5</td>\n",
       "      <td>56000</td>\n",
       "      <td>First Owner</td>\n",
       "      <td>Automatic</td>\n",
       "      <td>2017</td>\n",
       "      <td>7.81</td>\n",
       "      <td>2996.0</td>\n",
       "      <td>2996.0</td>\n",
       "      <td>333.0</td>\n",
       "      <td>63.75</td>\n",
       "    </tr>\n",
       "    <tr>\n",
       "      <th>1</th>\n",
       "      <td>1</td>\n",
       "      <td>2020 Nissan Magnite Turbo CVT XV Premium Opt BSVI</td>\n",
       "      <td>Jan-21</td>\n",
       "      <td>Comprehensive</td>\n",
       "      <td>Petrol</td>\n",
       "      <td>5</td>\n",
       "      <td>30615</td>\n",
       "      <td>First Owner</td>\n",
       "      <td>Automatic</td>\n",
       "      <td>2020</td>\n",
       "      <td>17.40</td>\n",
       "      <td>999.0</td>\n",
       "      <td>999.0</td>\n",
       "      <td>9863.0</td>\n",
       "      <td>8.99</td>\n",
       "    </tr>\n",
       "    <tr>\n",
       "      <th>2</th>\n",
       "      <td>2</td>\n",
       "      <td>2018 BMW X1 sDrive 20d xLine</td>\n",
       "      <td>Sep-18</td>\n",
       "      <td>Comprehensive</td>\n",
       "      <td>Diesel</td>\n",
       "      <td>5</td>\n",
       "      <td>24000</td>\n",
       "      <td>First Owner</td>\n",
       "      <td>Automatic</td>\n",
       "      <td>2018</td>\n",
       "      <td>20.68</td>\n",
       "      <td>1995.0</td>\n",
       "      <td>1995.0</td>\n",
       "      <td>188.0</td>\n",
       "      <td>23.75</td>\n",
       "    </tr>\n",
       "    <tr>\n",
       "      <th>3</th>\n",
       "      <td>3</td>\n",
       "      <td>2019 Kia Seltos GTX Plus</td>\n",
       "      <td>Dec-19</td>\n",
       "      <td>Comprehensive</td>\n",
       "      <td>Petrol</td>\n",
       "      <td>5</td>\n",
       "      <td>18378</td>\n",
       "      <td>First Owner</td>\n",
       "      <td>Manual</td>\n",
       "      <td>2019</td>\n",
       "      <td>16.50</td>\n",
       "      <td>1353.0</td>\n",
       "      <td>1353.0</td>\n",
       "      <td>13808.0</td>\n",
       "      <td>13.56</td>\n",
       "    </tr>\n",
       "    <tr>\n",
       "      <th>4</th>\n",
       "      <td>4</td>\n",
       "      <td>2019 Skoda Superb LK 1.8 TSI AT</td>\n",
       "      <td>Aug-19</td>\n",
       "      <td>Comprehensive</td>\n",
       "      <td>Petrol</td>\n",
       "      <td>5</td>\n",
       "      <td>44900</td>\n",
       "      <td>First Owner</td>\n",
       "      <td>Automatic</td>\n",
       "      <td>2019</td>\n",
       "      <td>14.67</td>\n",
       "      <td>1798.0</td>\n",
       "      <td>1798.0</td>\n",
       "      <td>17746.0</td>\n",
       "      <td>24.00</td>\n",
       "    </tr>\n",
       "    <tr>\n",
       "      <th>5</th>\n",
       "      <td>5</td>\n",
       "      <td>2017 Honda Jazz 1.2 S i VTEC</td>\n",
       "      <td>Jul-17</td>\n",
       "      <td>Third Party insurance</td>\n",
       "      <td>Petrol</td>\n",
       "      <td>5</td>\n",
       "      <td>42000</td>\n",
       "      <td>First Owner</td>\n",
       "      <td>Manual</td>\n",
       "      <td>2017</td>\n",
       "      <td>18.70</td>\n",
       "      <td>1199.0</td>\n",
       "      <td>1199.0</td>\n",
       "      <td>887.0</td>\n",
       "      <td>5.45</td>\n",
       "    </tr>\n",
       "    <tr>\n",
       "      <th>6</th>\n",
       "      <td>6</td>\n",
       "      <td>2018 Hyundai Grand i10 1.2 Kappa Sportz BSIV</td>\n",
       "      <td>Feb-19</td>\n",
       "      <td>Comprehensive</td>\n",
       "      <td>Petrol</td>\n",
       "      <td>5</td>\n",
       "      <td>36739</td>\n",
       "      <td>First Owner</td>\n",
       "      <td>Manual</td>\n",
       "      <td>2018</td>\n",
       "      <td>18.90</td>\n",
       "      <td>1197.0</td>\n",
       "      <td>1197.0</td>\n",
       "      <td>8186.0</td>\n",
       "      <td>5.12</td>\n",
       "    </tr>\n",
       "    <tr>\n",
       "      <th>7</th>\n",
       "      <td>7</td>\n",
       "      <td>2018 Hyundai Creta 1.6 SX</td>\n",
       "      <td>Jul-18</td>\n",
       "      <td>Comprehensive</td>\n",
       "      <td>Petrol</td>\n",
       "      <td>5</td>\n",
       "      <td>76000</td>\n",
       "      <td>First Owner</td>\n",
       "      <td>Manual</td>\n",
       "      <td>2018</td>\n",
       "      <td>15.80</td>\n",
       "      <td>1591.0</td>\n",
       "      <td>1591.0</td>\n",
       "      <td>1213.0</td>\n",
       "      <td>9.30</td>\n",
       "    </tr>\n",
       "    <tr>\n",
       "      <th>8</th>\n",
       "      <td>8</td>\n",
       "      <td>2015 Mercedes-Benz S-Class S 350 CDI</td>\n",
       "      <td>Apr-15</td>\n",
       "      <td>Comprehensive</td>\n",
       "      <td>Diesel</td>\n",
       "      <td>5</td>\n",
       "      <td>68000</td>\n",
       "      <td>Second Owner</td>\n",
       "      <td>Automatic</td>\n",
       "      <td>2015</td>\n",
       "      <td>13.50</td>\n",
       "      <td>2987.0</td>\n",
       "      <td>2987.0</td>\n",
       "      <td>25479.0</td>\n",
       "      <td>42.00</td>\n",
       "    </tr>\n",
       "    <tr>\n",
       "      <th>9</th>\n",
       "      <td>9</td>\n",
       "      <td>2019 Tata Nexon 1.2 Revotron XZ Plus</td>\n",
       "      <td>Mar-19</td>\n",
       "      <td>Comprehensive</td>\n",
       "      <td>Petrol</td>\n",
       "      <td>5</td>\n",
       "      <td>28783</td>\n",
       "      <td>First Owner</td>\n",
       "      <td>Manual</td>\n",
       "      <td>2019</td>\n",
       "      <td>17.00</td>\n",
       "      <td>1198.0</td>\n",
       "      <td>1198.0</td>\n",
       "      <td>1085.0</td>\n",
       "      <td>8.02</td>\n",
       "    </tr>\n",
       "  </tbody>\n",
       "</table>\n",
       "</div>"
      ],
      "text/plain": [
       "   Unnamed: 0                                           car_name  \\\n",
       "0           0                    2017 Mercedes-Benz S-Class S400   \n",
       "1           1  2020 Nissan Magnite Turbo CVT XV Premium Opt BSVI   \n",
       "2           2                       2018 BMW X1 sDrive 20d xLine   \n",
       "3           3                           2019 Kia Seltos GTX Plus   \n",
       "4           4                    2019 Skoda Superb LK 1.8 TSI AT   \n",
       "5           5                       2017 Honda Jazz 1.2 S i VTEC   \n",
       "6           6       2018 Hyundai Grand i10 1.2 Kappa Sportz BSIV   \n",
       "7           7                          2018 Hyundai Creta 1.6 SX   \n",
       "8           8               2015 Mercedes-Benz S-Class S 350 CDI   \n",
       "9           9               2019 Tata Nexon 1.2 Revotron XZ Plus   \n",
       "\n",
       "  registration_year     insurance_validity fuel_type  seats  kms_driven  \\\n",
       "0            Jul-17          Comprehensive    Petrol      5       56000   \n",
       "1            Jan-21          Comprehensive    Petrol      5       30615   \n",
       "2            Sep-18          Comprehensive    Diesel      5       24000   \n",
       "3            Dec-19          Comprehensive    Petrol      5       18378   \n",
       "4            Aug-19          Comprehensive    Petrol      5       44900   \n",
       "5            Jul-17  Third Party insurance    Petrol      5       42000   \n",
       "6            Feb-19          Comprehensive    Petrol      5       36739   \n",
       "7            Jul-18          Comprehensive    Petrol      5       76000   \n",
       "8            Apr-15          Comprehensive    Diesel      5       68000   \n",
       "9            Mar-19          Comprehensive    Petrol      5       28783   \n",
       "\n",
       "     ownsership transmission manufacturing_year  mileage(kmpl)  engine(cc)  \\\n",
       "0   First Owner    Automatic               2017           7.81      2996.0   \n",
       "1   First Owner    Automatic               2020          17.40       999.0   \n",
       "2   First Owner    Automatic               2018          20.68      1995.0   \n",
       "3   First Owner       Manual               2019          16.50      1353.0   \n",
       "4   First Owner    Automatic               2019          14.67      1798.0   \n",
       "5   First Owner       Manual               2017          18.70      1199.0   \n",
       "6   First Owner       Manual               2018          18.90      1197.0   \n",
       "7   First Owner       Manual               2018          15.80      1591.0   \n",
       "8  Second Owner    Automatic               2015          13.50      2987.0   \n",
       "9   First Owner       Manual               2019          17.00      1198.0   \n",
       "\n",
       "   max_power(bhp)  torque(Nm)  price(in lakhs)  \n",
       "0          2996.0       333.0            63.75  \n",
       "1           999.0      9863.0             8.99  \n",
       "2          1995.0       188.0            23.75  \n",
       "3          1353.0     13808.0            13.56  \n",
       "4          1798.0     17746.0            24.00  \n",
       "5          1199.0       887.0             5.45  \n",
       "6          1197.0      8186.0             5.12  \n",
       "7          1591.0      1213.0             9.30  \n",
       "8          2987.0     25479.0            42.00  \n",
       "9          1198.0      1085.0             8.02  "
      ]
     },
     "execution_count": 1,
     "metadata": {},
     "output_type": "execute_result"
    }
   ],
   "source": [
    "import pandas as pd\n",
    "import matplotlib.pyplot as plt\n",
    "import seaborn as sns\n",
    "from sklearn.preprocessing import StandardScaler \n",
    "Ucarsdata=pd.read_csv(\"UCar.csv\")\n",
    "Ucarsdata.head(10)\n"
   ]
  },
  {
   "cell_type": "code",
   "execution_count": 2,
   "id": "ee7ae3af",
   "metadata": {
    "scrolled": false
   },
   "outputs": [
    {
     "data": {
      "text/plain": [
       "Unnamed: 0            0\n",
       "car_name              0\n",
       "registration_year     0\n",
       "insurance_validity    0\n",
       "fuel_type             0\n",
       "seats                 0\n",
       "kms_driven            0\n",
       "ownsership            0\n",
       "transmission          0\n",
       "manufacturing_year    0\n",
       "mileage(kmpl)         3\n",
       "engine(cc)            3\n",
       "max_power(bhp)        3\n",
       "torque(Nm)            4\n",
       "price(in lakhs)       0\n",
       "dtype: int64"
      ]
     },
     "execution_count": 2,
     "metadata": {},
     "output_type": "execute_result"
    }
   ],
   "source": [
    "#checking for NaN values\n",
    "Ucarsdata.isnull().sum()"
   ]
  },
  {
   "cell_type": "code",
   "execution_count": 3,
   "id": "31be5361",
   "metadata": {
    "scrolled": false
   },
   "outputs": [
    {
     "data": {
      "text/html": [
       "<div>\n",
       "<style scoped>\n",
       "    .dataframe tbody tr th:only-of-type {\n",
       "        vertical-align: middle;\n",
       "    }\n",
       "\n",
       "    .dataframe tbody tr th {\n",
       "        vertical-align: top;\n",
       "    }\n",
       "\n",
       "    .dataframe thead th {\n",
       "        text-align: right;\n",
       "    }\n",
       "</style>\n",
       "<table border=\"1\" class=\"dataframe\">\n",
       "  <thead>\n",
       "    <tr style=\"text-align: right;\">\n",
       "      <th></th>\n",
       "      <th>Unnamed: 0</th>\n",
       "      <th>car_name</th>\n",
       "      <th>registration_year</th>\n",
       "      <th>insurance_validity</th>\n",
       "      <th>fuel_type</th>\n",
       "      <th>seats</th>\n",
       "      <th>kms_driven</th>\n",
       "      <th>ownsership</th>\n",
       "      <th>transmission</th>\n",
       "      <th>manufacturing_year</th>\n",
       "      <th>mileage(kmpl)</th>\n",
       "      <th>engine(cc)</th>\n",
       "      <th>max_power(bhp)</th>\n",
       "      <th>torque(Nm)</th>\n",
       "      <th>price(in lakhs)</th>\n",
       "    </tr>\n",
       "  </thead>\n",
       "  <tbody>\n",
       "    <tr>\n",
       "      <th>0</th>\n",
       "      <td>0</td>\n",
       "      <td>2017 Mercedes-Benz S-Class S400</td>\n",
       "      <td>Jul-17</td>\n",
       "      <td>Comprehensive</td>\n",
       "      <td>Petrol</td>\n",
       "      <td>5</td>\n",
       "      <td>56000</td>\n",
       "      <td>First Owner</td>\n",
       "      <td>Automatic</td>\n",
       "      <td>2017</td>\n",
       "      <td>7.81</td>\n",
       "      <td>2996.0</td>\n",
       "      <td>2996.0</td>\n",
       "      <td>333.0</td>\n",
       "      <td>63.75</td>\n",
       "    </tr>\n",
       "    <tr>\n",
       "      <th>1</th>\n",
       "      <td>1</td>\n",
       "      <td>2020 Nissan Magnite Turbo CVT XV Premium Opt BSVI</td>\n",
       "      <td>Jan-21</td>\n",
       "      <td>Comprehensive</td>\n",
       "      <td>Petrol</td>\n",
       "      <td>5</td>\n",
       "      <td>30615</td>\n",
       "      <td>First Owner</td>\n",
       "      <td>Automatic</td>\n",
       "      <td>2020</td>\n",
       "      <td>17.40</td>\n",
       "      <td>999.0</td>\n",
       "      <td>999.0</td>\n",
       "      <td>9863.0</td>\n",
       "      <td>8.99</td>\n",
       "    </tr>\n",
       "    <tr>\n",
       "      <th>2</th>\n",
       "      <td>2</td>\n",
       "      <td>2018 BMW X1 sDrive 20d xLine</td>\n",
       "      <td>Sep-18</td>\n",
       "      <td>Comprehensive</td>\n",
       "      <td>Diesel</td>\n",
       "      <td>5</td>\n",
       "      <td>24000</td>\n",
       "      <td>First Owner</td>\n",
       "      <td>Automatic</td>\n",
       "      <td>2018</td>\n",
       "      <td>20.68</td>\n",
       "      <td>1995.0</td>\n",
       "      <td>1995.0</td>\n",
       "      <td>188.0</td>\n",
       "      <td>23.75</td>\n",
       "    </tr>\n",
       "    <tr>\n",
       "      <th>3</th>\n",
       "      <td>3</td>\n",
       "      <td>2019 Kia Seltos GTX Plus</td>\n",
       "      <td>Dec-19</td>\n",
       "      <td>Comprehensive</td>\n",
       "      <td>Petrol</td>\n",
       "      <td>5</td>\n",
       "      <td>18378</td>\n",
       "      <td>First Owner</td>\n",
       "      <td>Manual</td>\n",
       "      <td>2019</td>\n",
       "      <td>16.50</td>\n",
       "      <td>1353.0</td>\n",
       "      <td>1353.0</td>\n",
       "      <td>13808.0</td>\n",
       "      <td>13.56</td>\n",
       "    </tr>\n",
       "    <tr>\n",
       "      <th>4</th>\n",
       "      <td>4</td>\n",
       "      <td>2019 Skoda Superb LK 1.8 TSI AT</td>\n",
       "      <td>Aug-19</td>\n",
       "      <td>Comprehensive</td>\n",
       "      <td>Petrol</td>\n",
       "      <td>5</td>\n",
       "      <td>44900</td>\n",
       "      <td>First Owner</td>\n",
       "      <td>Automatic</td>\n",
       "      <td>2019</td>\n",
       "      <td>14.67</td>\n",
       "      <td>1798.0</td>\n",
       "      <td>1798.0</td>\n",
       "      <td>17746.0</td>\n",
       "      <td>24.00</td>\n",
       "    </tr>\n",
       "    <tr>\n",
       "      <th>...</th>\n",
       "      <td>...</td>\n",
       "      <td>...</td>\n",
       "      <td>...</td>\n",
       "      <td>...</td>\n",
       "      <td>...</td>\n",
       "      <td>...</td>\n",
       "      <td>...</td>\n",
       "      <td>...</td>\n",
       "      <td>...</td>\n",
       "      <td>...</td>\n",
       "      <td>...</td>\n",
       "      <td>...</td>\n",
       "      <td>...</td>\n",
       "      <td>...</td>\n",
       "      <td>...</td>\n",
       "    </tr>\n",
       "    <tr>\n",
       "      <th>1548</th>\n",
       "      <td>1548</td>\n",
       "      <td>2020 Hyundai Creta SX Opt Diesel AT BSVI</td>\n",
       "      <td>Aug-20</td>\n",
       "      <td>Comprehensive</td>\n",
       "      <td>Diesel</td>\n",
       "      <td>5</td>\n",
       "      <td>35000</td>\n",
       "      <td>First Owner</td>\n",
       "      <td>Automatic</td>\n",
       "      <td>2020</td>\n",
       "      <td>1493.00</td>\n",
       "      <td>11345.0</td>\n",
       "      <td>11345.0</td>\n",
       "      <td>250.0</td>\n",
       "      <td>17.41</td>\n",
       "    </tr>\n",
       "    <tr>\n",
       "      <th>1549</th>\n",
       "      <td>1549</td>\n",
       "      <td>2022 Renault KWID 1.0 RXL Opt BSVI</td>\n",
       "      <td>2022</td>\n",
       "      <td>Third Party insurance</td>\n",
       "      <td>Petrol</td>\n",
       "      <td>5</td>\n",
       "      <td>10000</td>\n",
       "      <td>999 cc</td>\n",
       "      <td>2022</td>\n",
       "      <td>Power Steering</td>\n",
       "      <td>999.00</td>\n",
       "      <td>6706.0</td>\n",
       "      <td>6706.0</td>\n",
       "      <td>91.0</td>\n",
       "      <td>3.98</td>\n",
       "    </tr>\n",
       "    <tr>\n",
       "      <th>1550</th>\n",
       "      <td>1550</td>\n",
       "      <td>2017 Honda WR-V i-VTEC S</td>\n",
       "      <td>Jun-17</td>\n",
       "      <td>Comprehensive</td>\n",
       "      <td>Petrol</td>\n",
       "      <td>5</td>\n",
       "      <td>49000</td>\n",
       "      <td>First Owner</td>\n",
       "      <td>Manual</td>\n",
       "      <td>2017</td>\n",
       "      <td>17.50</td>\n",
       "      <td>1199.0</td>\n",
       "      <td>1199.0</td>\n",
       "      <td>887.0</td>\n",
       "      <td>5.85</td>\n",
       "    </tr>\n",
       "    <tr>\n",
       "      <th>1551</th>\n",
       "      <td>1551</td>\n",
       "      <td>2018 Volkswagen Polo 1.0 MPI Comfortline</td>\n",
       "      <td>May-18</td>\n",
       "      <td>Comprehensive</td>\n",
       "      <td>Petrol</td>\n",
       "      <td>5</td>\n",
       "      <td>40000</td>\n",
       "      <td>Second Owner</td>\n",
       "      <td>Manual</td>\n",
       "      <td>2018</td>\n",
       "      <td>18.78</td>\n",
       "      <td>999.0</td>\n",
       "      <td>999.0</td>\n",
       "      <td>75.0</td>\n",
       "      <td>4.75</td>\n",
       "    </tr>\n",
       "    <tr>\n",
       "      <th>1552</th>\n",
       "      <td>1552</td>\n",
       "      <td>2018 Maruti Swift Dzire VXI</td>\n",
       "      <td>May-18</td>\n",
       "      <td>Comprehensive</td>\n",
       "      <td>Petrol</td>\n",
       "      <td>5</td>\n",
       "      <td>34756</td>\n",
       "      <td>First Owner</td>\n",
       "      <td>Manual</td>\n",
       "      <td>2018</td>\n",
       "      <td>20.85</td>\n",
       "      <td>1197.0</td>\n",
       "      <td>1197.0</td>\n",
       "      <td>8314.0</td>\n",
       "      <td>6.10</td>\n",
       "    </tr>\n",
       "  </tbody>\n",
       "</table>\n",
       "<p>1549 rows × 15 columns</p>\n",
       "</div>"
      ],
      "text/plain": [
       "      Unnamed: 0                                           car_name  \\\n",
       "0              0                    2017 Mercedes-Benz S-Class S400   \n",
       "1              1  2020 Nissan Magnite Turbo CVT XV Premium Opt BSVI   \n",
       "2              2                       2018 BMW X1 sDrive 20d xLine   \n",
       "3              3                           2019 Kia Seltos GTX Plus   \n",
       "4              4                    2019 Skoda Superb LK 1.8 TSI AT   \n",
       "...          ...                                                ...   \n",
       "1548        1548           2020 Hyundai Creta SX Opt Diesel AT BSVI   \n",
       "1549        1549                 2022 Renault KWID 1.0 RXL Opt BSVI   \n",
       "1550        1550                           2017 Honda WR-V i-VTEC S   \n",
       "1551        1551           2018 Volkswagen Polo 1.0 MPI Comfortline   \n",
       "1552        1552                        2018 Maruti Swift Dzire VXI   \n",
       "\n",
       "     registration_year     insurance_validity fuel_type  seats  kms_driven  \\\n",
       "0               Jul-17          Comprehensive    Petrol      5       56000   \n",
       "1               Jan-21          Comprehensive    Petrol      5       30615   \n",
       "2               Sep-18          Comprehensive    Diesel      5       24000   \n",
       "3               Dec-19          Comprehensive    Petrol      5       18378   \n",
       "4               Aug-19          Comprehensive    Petrol      5       44900   \n",
       "...                ...                    ...       ...    ...         ...   \n",
       "1548            Aug-20          Comprehensive    Diesel      5       35000   \n",
       "1549              2022  Third Party insurance    Petrol      5       10000   \n",
       "1550            Jun-17          Comprehensive    Petrol      5       49000   \n",
       "1551            May-18          Comprehensive    Petrol      5       40000   \n",
       "1552            May-18          Comprehensive    Petrol      5       34756   \n",
       "\n",
       "        ownsership transmission manufacturing_year  mileage(kmpl)  engine(cc)  \\\n",
       "0      First Owner    Automatic               2017           7.81      2996.0   \n",
       "1      First Owner    Automatic               2020          17.40       999.0   \n",
       "2      First Owner    Automatic               2018          20.68      1995.0   \n",
       "3      First Owner       Manual               2019          16.50      1353.0   \n",
       "4      First Owner    Automatic               2019          14.67      1798.0   \n",
       "...            ...          ...                ...            ...         ...   \n",
       "1548   First Owner    Automatic               2020        1493.00     11345.0   \n",
       "1549        999 cc         2022     Power Steering         999.00      6706.0   \n",
       "1550   First Owner       Manual               2017          17.50      1199.0   \n",
       "1551  Second Owner       Manual               2018          18.78       999.0   \n",
       "1552   First Owner       Manual               2018          20.85      1197.0   \n",
       "\n",
       "      max_power(bhp)  torque(Nm)  price(in lakhs)  \n",
       "0             2996.0       333.0            63.75  \n",
       "1              999.0      9863.0             8.99  \n",
       "2             1995.0       188.0            23.75  \n",
       "3             1353.0     13808.0            13.56  \n",
       "4             1798.0     17746.0            24.00  \n",
       "...              ...         ...              ...  \n",
       "1548         11345.0       250.0            17.41  \n",
       "1549          6706.0        91.0             3.98  \n",
       "1550          1199.0       887.0             5.85  \n",
       "1551           999.0        75.0             4.75  \n",
       "1552          1197.0      8314.0             6.10  \n",
       "\n",
       "[1549 rows x 15 columns]"
      ]
     },
     "execution_count": 3,
     "metadata": {},
     "output_type": "execute_result"
    }
   ],
   "source": [
    "#deleting rows with NaN values since they are just 13\n",
    "Ucarsdata.dropna(axis=0,how='any',inplace=True)\n",
    "Ucarsdata"
   ]
  },
  {
   "cell_type": "code",
   "execution_count": 4,
   "id": "f2d19a0a",
   "metadata": {
    "scrolled": true
   },
   "outputs": [
    {
     "data": {
      "text/plain": [
       "Unnamed: 0            0\n",
       "car_name              0\n",
       "registration_year     0\n",
       "insurance_validity    0\n",
       "fuel_type             0\n",
       "seats                 0\n",
       "kms_driven            0\n",
       "ownsership            0\n",
       "transmission          0\n",
       "manufacturing_year    0\n",
       "mileage(kmpl)         0\n",
       "engine(cc)            0\n",
       "max_power(bhp)        0\n",
       "torque(Nm)            0\n",
       "price(in lakhs)       0\n",
       "dtype: int64"
      ]
     },
     "execution_count": 4,
     "metadata": {},
     "output_type": "execute_result"
    }
   ],
   "source": [
    "#checking for NaN values\n",
    "Ucarsdata.isnull().sum()"
   ]
  },
  {
   "cell_type": "code",
   "execution_count": 5,
   "id": "cd07ea08",
   "metadata": {
    "scrolled": false
   },
   "outputs": [
    {
     "name": "stdout",
     "output_type": "stream",
     "text": [
      "<class 'pandas.core.frame.DataFrame'>\n",
      "Int64Index: 1549 entries, 0 to 1552\n",
      "Data columns (total 15 columns):\n",
      " #   Column              Non-Null Count  Dtype  \n",
      "---  ------              --------------  -----  \n",
      " 0   Unnamed: 0          1549 non-null   int64  \n",
      " 1   car_name            1549 non-null   object \n",
      " 2   registration_year   1549 non-null   object \n",
      " 3   insurance_validity  1549 non-null   object \n",
      " 4   fuel_type           1549 non-null   object \n",
      " 5   seats               1549 non-null   int64  \n",
      " 6   kms_driven          1549 non-null   int64  \n",
      " 7   ownsership          1549 non-null   object \n",
      " 8   transmission        1549 non-null   object \n",
      " 9   manufacturing_year  1549 non-null   object \n",
      " 10  mileage(kmpl)       1549 non-null   float64\n",
      " 11  engine(cc)          1549 non-null   float64\n",
      " 12  max_power(bhp)      1549 non-null   float64\n",
      " 13  torque(Nm)          1549 non-null   float64\n",
      " 14  price(in lakhs)     1549 non-null   float64\n",
      "dtypes: float64(5), int64(3), object(7)\n",
      "memory usage: 193.6+ KB\n"
     ]
    }
   ],
   "source": [
    "#checking data type\n",
    "Ucarsdata.info()"
   ]
  },
  {
   "cell_type": "code",
   "execution_count": 6,
   "id": "1366e95d",
   "metadata": {},
   "outputs": [
    {
     "data": {
      "text/html": [
       "<div>\n",
       "<style scoped>\n",
       "    .dataframe tbody tr th:only-of-type {\n",
       "        vertical-align: middle;\n",
       "    }\n",
       "\n",
       "    .dataframe tbody tr th {\n",
       "        vertical-align: top;\n",
       "    }\n",
       "\n",
       "    .dataframe thead th {\n",
       "        text-align: right;\n",
       "    }\n",
       "</style>\n",
       "<table border=\"1\" class=\"dataframe\">\n",
       "  <thead>\n",
       "    <tr style=\"text-align: right;\">\n",
       "      <th></th>\n",
       "      <th>Unnamed: 0</th>\n",
       "      <th>seats</th>\n",
       "      <th>kms_driven</th>\n",
       "      <th>mileage(kmpl)</th>\n",
       "      <th>engine(cc)</th>\n",
       "      <th>max_power(bhp)</th>\n",
       "      <th>torque(Nm)</th>\n",
       "      <th>price(in lakhs)</th>\n",
       "    </tr>\n",
       "  </thead>\n",
       "  <tbody>\n",
       "    <tr>\n",
       "      <th>count</th>\n",
       "      <td>1549.000000</td>\n",
       "      <td>1549.00000</td>\n",
       "      <td>1549.000000</td>\n",
       "      <td>1549.000000</td>\n",
       "      <td>1.549000e+03</td>\n",
       "      <td>1.549000e+03</td>\n",
       "      <td>1.549000e+03</td>\n",
       "      <td>1549.000000</td>\n",
       "    </tr>\n",
       "    <tr>\n",
       "      <th>mean</th>\n",
       "      <td>776.650097</td>\n",
       "      <td>91.70368</td>\n",
       "      <td>52871.165268</td>\n",
       "      <td>237.067966</td>\n",
       "      <td>1.472808e+10</td>\n",
       "      <td>1.472808e+10</td>\n",
       "      <td>1.423989e+04</td>\n",
       "      <td>166.519258</td>\n",
       "    </tr>\n",
       "    <tr>\n",
       "      <th>std</th>\n",
       "      <td>448.847012</td>\n",
       "      <td>2406.52323</td>\n",
       "      <td>40103.619123</td>\n",
       "      <td>586.127342</td>\n",
       "      <td>2.186332e+11</td>\n",
       "      <td>2.186332e+11</td>\n",
       "      <td>9.666241e+04</td>\n",
       "      <td>3483.338542</td>\n",
       "    </tr>\n",
       "    <tr>\n",
       "      <th>min</th>\n",
       "      <td>0.000000</td>\n",
       "      <td>4.00000</td>\n",
       "      <td>620.000000</td>\n",
       "      <td>7.810000</td>\n",
       "      <td>1.700000e+01</td>\n",
       "      <td>1.700000e+01</td>\n",
       "      <td>5.000000e+00</td>\n",
       "      <td>1.000000</td>\n",
       "    </tr>\n",
       "    <tr>\n",
       "      <th>25%</th>\n",
       "      <td>387.000000</td>\n",
       "      <td>5.00000</td>\n",
       "      <td>30000.000000</td>\n",
       "      <td>16.340000</td>\n",
       "      <td>1.197000e+03</td>\n",
       "      <td>1.197000e+03</td>\n",
       "      <td>4.000000e+02</td>\n",
       "      <td>4.700000</td>\n",
       "    </tr>\n",
       "    <tr>\n",
       "      <th>50%</th>\n",
       "      <td>778.000000</td>\n",
       "      <td>5.00000</td>\n",
       "      <td>49000.000000</td>\n",
       "      <td>18.900000</td>\n",
       "      <td>1.462000e+03</td>\n",
       "      <td>1.462000e+03</td>\n",
       "      <td>1.173000e+03</td>\n",
       "      <td>7.140000</td>\n",
       "    </tr>\n",
       "    <tr>\n",
       "      <th>75%</th>\n",
       "      <td>1165.000000</td>\n",
       "      <td>5.00000</td>\n",
       "      <td>70000.000000</td>\n",
       "      <td>22.000000</td>\n",
       "      <td>1.995000e+03</td>\n",
       "      <td>1.995000e+03</td>\n",
       "      <td>8.850000e+03</td>\n",
       "      <td>17.000000</td>\n",
       "    </tr>\n",
       "    <tr>\n",
       "      <th>max</th>\n",
       "      <td>1552.000000</td>\n",
       "      <td>67000.00000</td>\n",
       "      <td>810000.000000</td>\n",
       "      <td>3996.000000</td>\n",
       "      <td>3.258640e+12</td>\n",
       "      <td>3.258640e+12</td>\n",
       "      <td>1.464800e+06</td>\n",
       "      <td>95000.000000</td>\n",
       "    </tr>\n",
       "  </tbody>\n",
       "</table>\n",
       "</div>"
      ],
      "text/plain": [
       "        Unnamed: 0        seats     kms_driven  mileage(kmpl)    engine(cc)  \\\n",
       "count  1549.000000   1549.00000    1549.000000    1549.000000  1.549000e+03   \n",
       "mean    776.650097     91.70368   52871.165268     237.067966  1.472808e+10   \n",
       "std     448.847012   2406.52323   40103.619123     586.127342  2.186332e+11   \n",
       "min       0.000000      4.00000     620.000000       7.810000  1.700000e+01   \n",
       "25%     387.000000      5.00000   30000.000000      16.340000  1.197000e+03   \n",
       "50%     778.000000      5.00000   49000.000000      18.900000  1.462000e+03   \n",
       "75%    1165.000000      5.00000   70000.000000      22.000000  1.995000e+03   \n",
       "max    1552.000000  67000.00000  810000.000000    3996.000000  3.258640e+12   \n",
       "\n",
       "       max_power(bhp)    torque(Nm)  price(in lakhs)  \n",
       "count    1.549000e+03  1.549000e+03      1549.000000  \n",
       "mean     1.472808e+10  1.423989e+04       166.519258  \n",
       "std      2.186332e+11  9.666241e+04      3483.338542  \n",
       "min      1.700000e+01  5.000000e+00         1.000000  \n",
       "25%      1.197000e+03  4.000000e+02         4.700000  \n",
       "50%      1.462000e+03  1.173000e+03         7.140000  \n",
       "75%      1.995000e+03  8.850000e+03        17.000000  \n",
       "max      3.258640e+12  1.464800e+06     95000.000000  "
      ]
     },
     "execution_count": 6,
     "metadata": {},
     "output_type": "execute_result"
    }
   ],
   "source": [
    "#loocking for outliers\n",
    "Ucarsdata.describe()"
   ]
  },
  {
   "cell_type": "code",
   "execution_count": 7,
   "id": "08d889c8",
   "metadata": {},
   "outputs": [
    {
     "data": {
      "text/html": [
       "<div>\n",
       "<style scoped>\n",
       "    .dataframe tbody tr th:only-of-type {\n",
       "        vertical-align: middle;\n",
       "    }\n",
       "\n",
       "    .dataframe tbody tr th {\n",
       "        vertical-align: top;\n",
       "    }\n",
       "\n",
       "    .dataframe thead th {\n",
       "        text-align: right;\n",
       "    }\n",
       "</style>\n",
       "<table border=\"1\" class=\"dataframe\">\n",
       "  <thead>\n",
       "    <tr style=\"text-align: right;\">\n",
       "      <th></th>\n",
       "      <th>Unnamed: 0</th>\n",
       "      <th>car_name</th>\n",
       "      <th>registration_year</th>\n",
       "      <th>insurance_validity</th>\n",
       "      <th>fuel_type</th>\n",
       "      <th>seats</th>\n",
       "      <th>kms_driven</th>\n",
       "      <th>ownsership</th>\n",
       "      <th>transmission</th>\n",
       "      <th>manufacturing_year</th>\n",
       "      <th>mileage</th>\n",
       "      <th>engine</th>\n",
       "      <th>max_power</th>\n",
       "      <th>torque</th>\n",
       "      <th>price</th>\n",
       "    </tr>\n",
       "  </thead>\n",
       "  <tbody>\n",
       "    <tr>\n",
       "      <th>0</th>\n",
       "      <td>0</td>\n",
       "      <td>2017 Mercedes-Benz S-Class S400</td>\n",
       "      <td>Jul-17</td>\n",
       "      <td>Comprehensive</td>\n",
       "      <td>Petrol</td>\n",
       "      <td>5</td>\n",
       "      <td>56000</td>\n",
       "      <td>First Owner</td>\n",
       "      <td>Automatic</td>\n",
       "      <td>2017</td>\n",
       "      <td>7.81</td>\n",
       "      <td>2996.0</td>\n",
       "      <td>2996.0</td>\n",
       "      <td>333.0</td>\n",
       "      <td>63.75</td>\n",
       "    </tr>\n",
       "    <tr>\n",
       "      <th>1</th>\n",
       "      <td>1</td>\n",
       "      <td>2020 Nissan Magnite Turbo CVT XV Premium Opt BSVI</td>\n",
       "      <td>Jan-21</td>\n",
       "      <td>Comprehensive</td>\n",
       "      <td>Petrol</td>\n",
       "      <td>5</td>\n",
       "      <td>30615</td>\n",
       "      <td>First Owner</td>\n",
       "      <td>Automatic</td>\n",
       "      <td>2020</td>\n",
       "      <td>17.40</td>\n",
       "      <td>999.0</td>\n",
       "      <td>999.0</td>\n",
       "      <td>9863.0</td>\n",
       "      <td>8.99</td>\n",
       "    </tr>\n",
       "    <tr>\n",
       "      <th>2</th>\n",
       "      <td>2</td>\n",
       "      <td>2018 BMW X1 sDrive 20d xLine</td>\n",
       "      <td>Sep-18</td>\n",
       "      <td>Comprehensive</td>\n",
       "      <td>Diesel</td>\n",
       "      <td>5</td>\n",
       "      <td>24000</td>\n",
       "      <td>First Owner</td>\n",
       "      <td>Automatic</td>\n",
       "      <td>2018</td>\n",
       "      <td>20.68</td>\n",
       "      <td>1995.0</td>\n",
       "      <td>1995.0</td>\n",
       "      <td>188.0</td>\n",
       "      <td>23.75</td>\n",
       "    </tr>\n",
       "    <tr>\n",
       "      <th>3</th>\n",
       "      <td>3</td>\n",
       "      <td>2019 Kia Seltos GTX Plus</td>\n",
       "      <td>Dec-19</td>\n",
       "      <td>Comprehensive</td>\n",
       "      <td>Petrol</td>\n",
       "      <td>5</td>\n",
       "      <td>18378</td>\n",
       "      <td>First Owner</td>\n",
       "      <td>Manual</td>\n",
       "      <td>2019</td>\n",
       "      <td>16.50</td>\n",
       "      <td>1353.0</td>\n",
       "      <td>1353.0</td>\n",
       "      <td>13808.0</td>\n",
       "      <td>13.56</td>\n",
       "    </tr>\n",
       "    <tr>\n",
       "      <th>4</th>\n",
       "      <td>4</td>\n",
       "      <td>2019 Skoda Superb LK 1.8 TSI AT</td>\n",
       "      <td>Aug-19</td>\n",
       "      <td>Comprehensive</td>\n",
       "      <td>Petrol</td>\n",
       "      <td>5</td>\n",
       "      <td>44900</td>\n",
       "      <td>First Owner</td>\n",
       "      <td>Automatic</td>\n",
       "      <td>2019</td>\n",
       "      <td>14.67</td>\n",
       "      <td>1798.0</td>\n",
       "      <td>1798.0</td>\n",
       "      <td>17746.0</td>\n",
       "      <td>24.00</td>\n",
       "    </tr>\n",
       "    <tr>\n",
       "      <th>5</th>\n",
       "      <td>5</td>\n",
       "      <td>2017 Honda Jazz 1.2 S i VTEC</td>\n",
       "      <td>Jul-17</td>\n",
       "      <td>Third Party insurance</td>\n",
       "      <td>Petrol</td>\n",
       "      <td>5</td>\n",
       "      <td>42000</td>\n",
       "      <td>First Owner</td>\n",
       "      <td>Manual</td>\n",
       "      <td>2017</td>\n",
       "      <td>18.70</td>\n",
       "      <td>1199.0</td>\n",
       "      <td>1199.0</td>\n",
       "      <td>887.0</td>\n",
       "      <td>5.45</td>\n",
       "    </tr>\n",
       "    <tr>\n",
       "      <th>6</th>\n",
       "      <td>6</td>\n",
       "      <td>2018 Hyundai Grand i10 1.2 Kappa Sportz BSIV</td>\n",
       "      <td>Feb-19</td>\n",
       "      <td>Comprehensive</td>\n",
       "      <td>Petrol</td>\n",
       "      <td>5</td>\n",
       "      <td>36739</td>\n",
       "      <td>First Owner</td>\n",
       "      <td>Manual</td>\n",
       "      <td>2018</td>\n",
       "      <td>18.90</td>\n",
       "      <td>1197.0</td>\n",
       "      <td>1197.0</td>\n",
       "      <td>8186.0</td>\n",
       "      <td>5.12</td>\n",
       "    </tr>\n",
       "    <tr>\n",
       "      <th>7</th>\n",
       "      <td>7</td>\n",
       "      <td>2018 Hyundai Creta 1.6 SX</td>\n",
       "      <td>Jul-18</td>\n",
       "      <td>Comprehensive</td>\n",
       "      <td>Petrol</td>\n",
       "      <td>5</td>\n",
       "      <td>76000</td>\n",
       "      <td>First Owner</td>\n",
       "      <td>Manual</td>\n",
       "      <td>2018</td>\n",
       "      <td>15.80</td>\n",
       "      <td>1591.0</td>\n",
       "      <td>1591.0</td>\n",
       "      <td>1213.0</td>\n",
       "      <td>9.30</td>\n",
       "    </tr>\n",
       "    <tr>\n",
       "      <th>8</th>\n",
       "      <td>8</td>\n",
       "      <td>2015 Mercedes-Benz S-Class S 350 CDI</td>\n",
       "      <td>Apr-15</td>\n",
       "      <td>Comprehensive</td>\n",
       "      <td>Diesel</td>\n",
       "      <td>5</td>\n",
       "      <td>68000</td>\n",
       "      <td>Second Owner</td>\n",
       "      <td>Automatic</td>\n",
       "      <td>2015</td>\n",
       "      <td>13.50</td>\n",
       "      <td>2987.0</td>\n",
       "      <td>2987.0</td>\n",
       "      <td>25479.0</td>\n",
       "      <td>42.00</td>\n",
       "    </tr>\n",
       "    <tr>\n",
       "      <th>9</th>\n",
       "      <td>9</td>\n",
       "      <td>2019 Tata Nexon 1.2 Revotron XZ Plus</td>\n",
       "      <td>Mar-19</td>\n",
       "      <td>Comprehensive</td>\n",
       "      <td>Petrol</td>\n",
       "      <td>5</td>\n",
       "      <td>28783</td>\n",
       "      <td>First Owner</td>\n",
       "      <td>Manual</td>\n",
       "      <td>2019</td>\n",
       "      <td>17.00</td>\n",
       "      <td>1198.0</td>\n",
       "      <td>1198.0</td>\n",
       "      <td>1085.0</td>\n",
       "      <td>8.02</td>\n",
       "    </tr>\n",
       "  </tbody>\n",
       "</table>\n",
       "</div>"
      ],
      "text/plain": [
       "   Unnamed: 0                                           car_name  \\\n",
       "0           0                    2017 Mercedes-Benz S-Class S400   \n",
       "1           1  2020 Nissan Magnite Turbo CVT XV Premium Opt BSVI   \n",
       "2           2                       2018 BMW X1 sDrive 20d xLine   \n",
       "3           3                           2019 Kia Seltos GTX Plus   \n",
       "4           4                    2019 Skoda Superb LK 1.8 TSI AT   \n",
       "5           5                       2017 Honda Jazz 1.2 S i VTEC   \n",
       "6           6       2018 Hyundai Grand i10 1.2 Kappa Sportz BSIV   \n",
       "7           7                          2018 Hyundai Creta 1.6 SX   \n",
       "8           8               2015 Mercedes-Benz S-Class S 350 CDI   \n",
       "9           9               2019 Tata Nexon 1.2 Revotron XZ Plus   \n",
       "\n",
       "  registration_year     insurance_validity fuel_type  seats  kms_driven  \\\n",
       "0            Jul-17          Comprehensive    Petrol      5       56000   \n",
       "1            Jan-21          Comprehensive    Petrol      5       30615   \n",
       "2            Sep-18          Comprehensive    Diesel      5       24000   \n",
       "3            Dec-19          Comprehensive    Petrol      5       18378   \n",
       "4            Aug-19          Comprehensive    Petrol      5       44900   \n",
       "5            Jul-17  Third Party insurance    Petrol      5       42000   \n",
       "6            Feb-19          Comprehensive    Petrol      5       36739   \n",
       "7            Jul-18          Comprehensive    Petrol      5       76000   \n",
       "8            Apr-15          Comprehensive    Diesel      5       68000   \n",
       "9            Mar-19          Comprehensive    Petrol      5       28783   \n",
       "\n",
       "     ownsership transmission manufacturing_year  mileage  engine  max_power  \\\n",
       "0   First Owner    Automatic               2017     7.81  2996.0     2996.0   \n",
       "1   First Owner    Automatic               2020    17.40   999.0      999.0   \n",
       "2   First Owner    Automatic               2018    20.68  1995.0     1995.0   \n",
       "3   First Owner       Manual               2019    16.50  1353.0     1353.0   \n",
       "4   First Owner    Automatic               2019    14.67  1798.0     1798.0   \n",
       "5   First Owner       Manual               2017    18.70  1199.0     1199.0   \n",
       "6   First Owner       Manual               2018    18.90  1197.0     1197.0   \n",
       "7   First Owner       Manual               2018    15.80  1591.0     1591.0   \n",
       "8  Second Owner    Automatic               2015    13.50  2987.0     2987.0   \n",
       "9   First Owner       Manual               2019    17.00  1198.0     1198.0   \n",
       "\n",
       "    torque  price  \n",
       "0    333.0  63.75  \n",
       "1   9863.0   8.99  \n",
       "2    188.0  23.75  \n",
       "3  13808.0  13.56  \n",
       "4  17746.0  24.00  \n",
       "5    887.0   5.45  \n",
       "6   8186.0   5.12  \n",
       "7   1213.0   9.30  \n",
       "8  25479.0  42.00  \n",
       "9   1085.0   8.02  "
      ]
     },
     "execution_count": 7,
     "metadata": {},
     "output_type": "execute_result"
    }
   ],
   "source": [
    "#replacing some column titles\n",
    "Ucarsdata.rename(columns = {'mileage(kmpl)' : 'mileage','engine(cc)' : 'engine','max_power(bhp)' : 'max_power',\n",
    "                            'torque(Nm)' : 'torque','price(in lakhs)' : 'price'}, inplace = True)\n",
    "Ucarsdata.head(10)"
   ]
  },
  {
   "cell_type": "code",
   "execution_count": 8,
   "id": "cdfa461b",
   "metadata": {},
   "outputs": [
    {
     "data": {
      "text/plain": [
       "array(['Comprehensive', 'Third Party insurance', 'Zero Dep',\n",
       "       'Third Party', 'Petrol', 'Not Available'], dtype=object)"
      ]
     },
     "metadata": {},
     "output_type": "display_data"
    },
    {
     "data": {
      "text/plain": [
       "array(['Petrol', 'Diesel', 'CNG', '5 Seats'], dtype=object)"
      ]
     },
     "metadata": {},
     "output_type": "display_data"
    },
    {
     "data": {
      "text/plain": [
       "array([    5,     6,     7,     4,     8, 67000], dtype=int64)"
      ]
     },
     "metadata": {},
     "output_type": "display_data"
    },
    {
     "data": {
      "text/plain": [
       "array(['First Owner', 'Second Owner', 'Third Owner', '2993 cc', '1461 cc',\n",
       "       '998 cc', '1995 cc', '1451 cc', '1998 cc', '1498 cc', '1497 cc',\n",
       "       '1996 cc', '1950 cc', '2013', 'Fifth Owner', '1199 cc', '1248 cc',\n",
       "       '999 cc', '1197 cc', '1984 cc', '2999 cc', '1968 cc'], dtype=object)"
      ]
     },
     "metadata": {},
     "output_type": "display_data"
    },
    {
     "data": {
      "text/plain": [
       "array(['Automatic', 'Manual', '2017', '2014', '2023', '2020', '2021',\n",
       "       '2011', '2022', 'Power Windows Front', '2018', '2015', '2016'],\n",
       "      dtype=object)"
      ]
     },
     "metadata": {},
     "output_type": "display_data"
    },
    {
     "data": {
      "text/plain": [
       "array(['2017', '2020', '2018', '2019', '2015', '2021', '2014', '2022',\n",
       "       '2010', '2011', '2023', '2016', '2009', '2013', 'Power Steering',\n",
       "       '2012', 'Power Windows Front', 'Air Conditioner', '2007'],\n",
       "      dtype=object)"
      ]
     },
     "metadata": {},
     "output_type": "display_data"
    }
   ],
   "source": [
    "#inspecting data for insignificant values\n",
    "display(Ucarsdata.insurance_validity.unique())\n",
    "display(Ucarsdata.fuel_type.unique())\n",
    "display(Ucarsdata.seats.unique())\n",
    "display(Ucarsdata.ownsership.unique())\n",
    "display(Ucarsdata.transmission.unique())\n",
    "display(Ucarsdata.manufacturing_year.unique()) "
   ]
  },
  {
   "cell_type": "code",
   "execution_count": 9,
   "id": "118e85f9",
   "metadata": {
    "scrolled": false
   },
   "outputs": [
    {
     "data": {
      "text/plain": [
       "Comprehensive            69.786959\n",
       "Third Party insurance    21.755972\n",
       "Zero Dep                  4.131698\n",
       "Third Party               4.067140\n",
       "Petrol                    0.129116\n",
       "Not Available             0.129116\n",
       "Name: insurance_validity, dtype: float64"
      ]
     },
     "execution_count": 9,
     "metadata": {},
     "output_type": "execute_result"
    }
   ],
   "source": [
    "#mesuring the impact of insignificant values by calculating there numbers for each column\n",
    "Ucarsdata['insurance_validity'].value_counts(normalize=True) * 100"
   ]
  },
  {
   "cell_type": "code",
   "execution_count": 10,
   "id": "24e59680",
   "metadata": {},
   "outputs": [
    {
     "data": {
      "text/plain": [
       "Comprehensive            69.967638\n",
       "Third Party insurance    25.889968\n",
       "Zero Dep                  4.142395\n",
       "Name: insurance_validity, dtype: float64"
      ]
     },
     "execution_count": 10,
     "metadata": {},
     "output_type": "execute_result"
    }
   ],
   "source": [
    "Ucarsdata.drop(Ucarsdata[Ucarsdata['insurance_validity']=='Petrol'].index, inplace = True)\n",
    "Ucarsdata.drop(Ucarsdata[Ucarsdata['insurance_validity']=='Not Available'].index, inplace = True)\n",
    "Ucarsdata['insurance_validity'] = Ucarsdata['insurance_validity'].replace(['Third Party'], 'Third Party insurance')\n",
    "Ucarsdata['insurance_validity'].value_counts(normalize=True) * 100"
   ]
  },
  {
   "cell_type": "code",
   "execution_count": 11,
   "id": "26891d59",
   "metadata": {
    "scrolled": false
   },
   "outputs": [
    {
     "data": {
      "text/plain": [
       "Petrol    65.177994\n",
       "Diesel    33.398058\n",
       "CNG        1.423948\n",
       "Name: fuel_type, dtype: float64"
      ]
     },
     "execution_count": 11,
     "metadata": {},
     "output_type": "execute_result"
    }
   ],
   "source": [
    "Ucarsdata['fuel_type'].value_counts(normalize=True) * 100"
   ]
  },
  {
   "cell_type": "code",
   "execution_count": 12,
   "id": "93831729",
   "metadata": {},
   "outputs": [
    {
     "data": {
      "text/plain": [
       "Petrol    65.177994\n",
       "Diesel    33.398058\n",
       "CNG        1.423948\n",
       "Name: fuel_type, dtype: float64"
      ]
     },
     "execution_count": 12,
     "metadata": {},
     "output_type": "execute_result"
    }
   ],
   "source": [
    "Ucarsdata.drop(Ucarsdata[Ucarsdata['fuel_type']=='5 Seats'].index, inplace = True)\n",
    "Ucarsdata['fuel_type'].value_counts(normalize=True) * 100"
   ]
  },
  {
   "cell_type": "code",
   "execution_count": 13,
   "id": "3188b299",
   "metadata": {
    "scrolled": false
   },
   "outputs": [
    {
     "data": {
      "text/plain": [
       "5    87.184466\n",
       "7    10.097087\n",
       "4     1.423948\n",
       "6     1.165049\n",
       "8     0.129450\n",
       "Name: seats, dtype: float64"
      ]
     },
     "execution_count": 13,
     "metadata": {},
     "output_type": "execute_result"
    }
   ],
   "source": [
    "Ucarsdata['seats'].value_counts(normalize=True) * 100"
   ]
  },
  {
   "cell_type": "code",
   "execution_count": 14,
   "id": "ac4f3e1d",
   "metadata": {},
   "outputs": [
    {
     "data": {
      "text/plain": [
       "5    87.184466\n",
       "7    10.097087\n",
       "4     1.423948\n",
       "6     1.165049\n",
       "8     0.129450\n",
       "Name: seats, dtype: float64"
      ]
     },
     "execution_count": 14,
     "metadata": {},
     "output_type": "execute_result"
    }
   ],
   "source": [
    "Ucarsdata.drop(Ucarsdata[Ucarsdata['seats']=='67000'].index, inplace = True)\n",
    "Ucarsdata['seats'].value_counts(normalize=True) * 100"
   ]
  },
  {
   "cell_type": "code",
   "execution_count": 15,
   "id": "05836fb9",
   "metadata": {},
   "outputs": [
    {
     "data": {
      "text/plain": [
       "First Owner     80.000000\n",
       "Second Owner    15.533981\n",
       "1995 cc          1.553398\n",
       "Third Owner      1.359223\n",
       "1498 cc          0.194175\n",
       "1451 cc          0.129450\n",
       "999 cc           0.129450\n",
       "1497 cc          0.129450\n",
       "998 cc           0.129450\n",
       "1461 cc          0.129450\n",
       "2993 cc          0.129450\n",
       "1998 cc          0.064725\n",
       "1996 cc          0.064725\n",
       "1950 cc          0.064725\n",
       "1199 cc          0.064725\n",
       "1248 cc          0.064725\n",
       "1197 cc          0.064725\n",
       "1984 cc          0.064725\n",
       "2999 cc          0.064725\n",
       "1968 cc          0.064725\n",
       "Name: ownsership, dtype: float64"
      ]
     },
     "execution_count": 15,
     "metadata": {},
     "output_type": "execute_result"
    }
   ],
   "source": [
    "Ucarsdata['ownsership'].value_counts(normalize=True) * 100"
   ]
  },
  {
   "cell_type": "code",
   "execution_count": 16,
   "id": "79dcf7db",
   "metadata": {},
   "outputs": [
    {
     "data": {
      "text/plain": [
       "1    82.565130\n",
       "2    16.032064\n",
       "3     1.402806\n",
       "Name: ownsership, dtype: float64"
      ]
     },
     "execution_count": 16,
     "metadata": {},
     "output_type": "execute_result"
    }
   ],
   "source": [
    "Ucarsdata.drop(Ucarsdata[Ucarsdata['ownsership']=='1995 cc'].index, inplace = True)\n",
    "Ucarsdata.drop(Ucarsdata[Ucarsdata['ownsership']=='1498 cc'].index, inplace = True)\n",
    "Ucarsdata.drop(Ucarsdata[Ucarsdata['ownsership']=='999 cc'].index, inplace = True)\n",
    "Ucarsdata.drop(Ucarsdata[Ucarsdata['ownsership']=='2993 cc'].index, inplace = True)\n",
    "Ucarsdata.drop(Ucarsdata[Ucarsdata['ownsership']=='1461 cc'].index, inplace = True)\n",
    "Ucarsdata.drop(Ucarsdata[Ucarsdata['ownsership']=='998 cc'].index, inplace = True)\n",
    "Ucarsdata.drop(Ucarsdata[Ucarsdata['ownsership']=='1451 cc'].index, inplace = True)\n",
    "Ucarsdata.drop(Ucarsdata[Ucarsdata['ownsership']=='1497 cc'].index, inplace = True)\n",
    "Ucarsdata.drop(Ucarsdata[Ucarsdata['ownsership']=='2013'].index, inplace = True)\n",
    "Ucarsdata.drop(Ucarsdata[Ucarsdata['ownsership']=='2999 cc'].index, inplace = True)\n",
    "Ucarsdata.drop(Ucarsdata[Ucarsdata['ownsership']=='1984 cc'].index, inplace = True)\n",
    "Ucarsdata.drop(Ucarsdata[Ucarsdata['ownsership']=='1197 cc'].index, inplace = True)\n",
    "Ucarsdata.drop(Ucarsdata[Ucarsdata['ownsership']=='1996 cc'].index, inplace = True)\n",
    "Ucarsdata.drop(Ucarsdata[Ucarsdata['ownsership']=='1248 cc'].index, inplace = True)\n",
    "Ucarsdata.drop(Ucarsdata[Ucarsdata['ownsership']=='1199 cc'].index, inplace = True)\n",
    "Ucarsdata.drop(Ucarsdata[Ucarsdata['ownsership']=='1950 cc'].index, inplace = True)\n",
    "Ucarsdata.drop(Ucarsdata[Ucarsdata['ownsership']=='1998 cc'].index, inplace = True)\n",
    "Ucarsdata.drop(Ucarsdata[Ucarsdata['ownsership']=='1968 cc'].index, inplace = True)\n",
    "Ucarsdata['ownsership'] = Ucarsdata['ownsership'].replace(['First Owner'], '1')\n",
    "Ucarsdata['ownsership'] = Ucarsdata['ownsership'].replace(['Second Owner'], '2')\n",
    "Ucarsdata['ownsership'] = Ucarsdata['ownsership'].replace(['Third Owner'], '3')\n",
    "Ucarsdata['ownsership'] = Ucarsdata['ownsership'].replace(['Fifth Owner'], '5')\n",
    "Ucarsdata['ownsership'].value_counts(normalize=True) * 100"
   ]
  },
  {
   "cell_type": "code",
   "execution_count": 17,
   "id": "e484017c",
   "metadata": {},
   "outputs": [
    {
     "data": {
      "text/plain": [
       "Manual       55.577822\n",
       "Automatic    44.422178\n",
       "Name: transmission, dtype: float64"
      ]
     },
     "execution_count": 17,
     "metadata": {},
     "output_type": "execute_result"
    }
   ],
   "source": [
    "Ucarsdata['transmission'].value_counts(normalize=True) * 100"
   ]
  },
  {
   "cell_type": "code",
   "execution_count": 18,
   "id": "bcfb86aa",
   "metadata": {},
   "outputs": [
    {
     "data": {
      "text/plain": [
       "Manual       55.577822\n",
       "Automatic    44.422178\n",
       "Name: transmission, dtype: float64"
      ]
     },
     "execution_count": 18,
     "metadata": {},
     "output_type": "execute_result"
    }
   ],
   "source": [
    "Ucarsdata.drop(Ucarsdata[Ucarsdata['transmission']=='2011'].index, inplace = True)\n",
    "Ucarsdata.drop(Ucarsdata[Ucarsdata['transmission']=='2014'].index, inplace = True)\n",
    "Ucarsdata.drop(Ucarsdata[Ucarsdata['transmission']=='2015'].index, inplace = True)\n",
    "Ucarsdata.drop(Ucarsdata[Ucarsdata['transmission']=='2016'].index, inplace = True)\n",
    "Ucarsdata.drop(Ucarsdata[Ucarsdata['transmission']=='2017'].index, inplace = True)\n",
    "Ucarsdata.drop(Ucarsdata[Ucarsdata['transmission']=='2018'].index, inplace = True)\n",
    "Ucarsdata.drop(Ucarsdata[Ucarsdata['transmission']=='2020'].index, inplace = True)\n",
    "Ucarsdata.drop(Ucarsdata[Ucarsdata['transmission']=='2021'].index, inplace = True)\n",
    "Ucarsdata.drop(Ucarsdata[Ucarsdata['transmission']=='2022'].index, inplace = True)\n",
    "Ucarsdata.drop(Ucarsdata[Ucarsdata['transmission']=='2023'].index, inplace = True)\n",
    "Ucarsdata.drop(Ucarsdata[Ucarsdata['transmission']=='Power Windows Front'].index, inplace = True)\n",
    "Ucarsdata['transmission'].value_counts(normalize=True) * 100"
   ]
  },
  {
   "cell_type": "code",
   "execution_count": 19,
   "id": "c1c2eec1",
   "metadata": {
    "scrolled": true
   },
   "outputs": [
    {
     "data": {
      "text/plain": [
       "2018    15.764863\n",
       "2017    12.692051\n",
       "2019    12.291249\n",
       "2015     8.884436\n",
       "2016     8.884436\n",
       "2020     8.149633\n",
       "2021     7.949232\n",
       "2014     6.880428\n",
       "2022     5.945224\n",
       "2013     3.406814\n",
       "2012     3.340013\n",
       "2023     2.338009\n",
       "2011     1.603206\n",
       "2010     1.202405\n",
       "2009     0.601202\n",
       "2007     0.066800\n",
       "Name: manufacturing_year, dtype: float64"
      ]
     },
     "execution_count": 19,
     "metadata": {},
     "output_type": "execute_result"
    }
   ],
   "source": [
    "Ucarsdata['manufacturing_year'].value_counts(normalize=True) * 100"
   ]
  },
  {
   "cell_type": "code",
   "execution_count": 20,
   "id": "996f2da9",
   "metadata": {
    "scrolled": true
   },
   "outputs": [
    {
     "data": {
      "text/plain": [
       "2018    15.764863\n",
       "2017    12.692051\n",
       "2019    12.291249\n",
       "2015     8.884436\n",
       "2016     8.884436\n",
       "2020     8.149633\n",
       "2021     7.949232\n",
       "2014     6.880428\n",
       "2022     5.945224\n",
       "2013     3.406814\n",
       "2012     3.340013\n",
       "2023     2.338009\n",
       "2011     1.603206\n",
       "2010     1.202405\n",
       "2009     0.601202\n",
       "2007     0.066800\n",
       "Name: manufacturing_year, dtype: float64"
      ]
     },
     "execution_count": 20,
     "metadata": {},
     "output_type": "execute_result"
    }
   ],
   "source": [
    "Ucarsdata.drop(Ucarsdata[Ucarsdata['manufacturing_year'] =='Power Windows Front'].index, inplace = True)\n",
    "Ucarsdata.drop(Ucarsdata[Ucarsdata['manufacturing_year'] =='Air Conditioner'].index, inplace = True)\n",
    "Ucarsdata.drop(Ucarsdata[Ucarsdata['manufacturing_year'] =='Power Steering'].index, inplace = True)\n",
    "Ucarsdata['manufacturing_year'].value_counts(normalize=True) * 100"
   ]
  },
  {
   "cell_type": "code",
   "execution_count": 21,
   "id": "8f29d18e",
   "metadata": {},
   "outputs": [
    {
     "data": {
      "text/plain": [
       "Unnamed: 0            0\n",
       "car_name              0\n",
       "registration_year     0\n",
       "insurance_validity    0\n",
       "fuel_type             0\n",
       "seats                 0\n",
       "kms_driven            0\n",
       "ownsership            0\n",
       "transmission          0\n",
       "manufacturing_year    0\n",
       "mileage               0\n",
       "engine                0\n",
       "max_power             0\n",
       "torque                0\n",
       "price                 0\n",
       "dtype: int64"
      ]
     },
     "execution_count": 21,
     "metadata": {},
     "output_type": "execute_result"
    }
   ],
   "source": [
    "Ucarsdata.isnull().sum()"
   ]
  },
  {
   "cell_type": "code",
   "execution_count": 22,
   "id": "14b190e6",
   "metadata": {},
   "outputs": [
    {
     "data": {
      "text/html": [
       "<div>\n",
       "<style scoped>\n",
       "    .dataframe tbody tr th:only-of-type {\n",
       "        vertical-align: middle;\n",
       "    }\n",
       "\n",
       "    .dataframe tbody tr th {\n",
       "        vertical-align: top;\n",
       "    }\n",
       "\n",
       "    .dataframe thead th {\n",
       "        text-align: right;\n",
       "    }\n",
       "</style>\n",
       "<table border=\"1\" class=\"dataframe\">\n",
       "  <thead>\n",
       "    <tr style=\"text-align: right;\">\n",
       "      <th></th>\n",
       "      <th>Unnamed: 0</th>\n",
       "      <th>car_name</th>\n",
       "      <th>registration_year</th>\n",
       "      <th>insurance_validity</th>\n",
       "      <th>fuel_type</th>\n",
       "      <th>seats</th>\n",
       "      <th>kms_driven</th>\n",
       "      <th>ownsership</th>\n",
       "      <th>transmission</th>\n",
       "      <th>manufacturing_year</th>\n",
       "      <th>mileage</th>\n",
       "      <th>engine</th>\n",
       "      <th>max_power</th>\n",
       "      <th>torque</th>\n",
       "      <th>price</th>\n",
       "    </tr>\n",
       "  </thead>\n",
       "  <tbody>\n",
       "    <tr>\n",
       "      <th>0</th>\n",
       "      <td>0</td>\n",
       "      <td>2017 Mercedes-Benz S-Class S400</td>\n",
       "      <td>Jul-17</td>\n",
       "      <td>Comprehensive</td>\n",
       "      <td>Petrol</td>\n",
       "      <td>5</td>\n",
       "      <td>56000</td>\n",
       "      <td>1</td>\n",
       "      <td>Automatic</td>\n",
       "      <td>2017</td>\n",
       "      <td>7.81</td>\n",
       "      <td>2996.0</td>\n",
       "      <td>2996.0</td>\n",
       "      <td>333.0</td>\n",
       "      <td>63.75</td>\n",
       "    </tr>\n",
       "    <tr>\n",
       "      <th>1</th>\n",
       "      <td>1</td>\n",
       "      <td>2020 Nissan Magnite Turbo CVT XV Premium Opt BSVI</td>\n",
       "      <td>Jan-21</td>\n",
       "      <td>Comprehensive</td>\n",
       "      <td>Petrol</td>\n",
       "      <td>5</td>\n",
       "      <td>30615</td>\n",
       "      <td>1</td>\n",
       "      <td>Automatic</td>\n",
       "      <td>2020</td>\n",
       "      <td>17.40</td>\n",
       "      <td>999.0</td>\n",
       "      <td>999.0</td>\n",
       "      <td>9863.0</td>\n",
       "      <td>8.99</td>\n",
       "    </tr>\n",
       "    <tr>\n",
       "      <th>2</th>\n",
       "      <td>2</td>\n",
       "      <td>2018 BMW X1 sDrive 20d xLine</td>\n",
       "      <td>Sep-18</td>\n",
       "      <td>Comprehensive</td>\n",
       "      <td>Diesel</td>\n",
       "      <td>5</td>\n",
       "      <td>24000</td>\n",
       "      <td>1</td>\n",
       "      <td>Automatic</td>\n",
       "      <td>2018</td>\n",
       "      <td>20.68</td>\n",
       "      <td>1995.0</td>\n",
       "      <td>1995.0</td>\n",
       "      <td>188.0</td>\n",
       "      <td>23.75</td>\n",
       "    </tr>\n",
       "    <tr>\n",
       "      <th>3</th>\n",
       "      <td>3</td>\n",
       "      <td>2019 Kia Seltos GTX Plus</td>\n",
       "      <td>Dec-19</td>\n",
       "      <td>Comprehensive</td>\n",
       "      <td>Petrol</td>\n",
       "      <td>5</td>\n",
       "      <td>18378</td>\n",
       "      <td>1</td>\n",
       "      <td>Manual</td>\n",
       "      <td>2019</td>\n",
       "      <td>16.50</td>\n",
       "      <td>1353.0</td>\n",
       "      <td>1353.0</td>\n",
       "      <td>13808.0</td>\n",
       "      <td>13.56</td>\n",
       "    </tr>\n",
       "    <tr>\n",
       "      <th>4</th>\n",
       "      <td>4</td>\n",
       "      <td>2019 Skoda Superb LK 1.8 TSI AT</td>\n",
       "      <td>Aug-19</td>\n",
       "      <td>Comprehensive</td>\n",
       "      <td>Petrol</td>\n",
       "      <td>5</td>\n",
       "      <td>44900</td>\n",
       "      <td>1</td>\n",
       "      <td>Automatic</td>\n",
       "      <td>2019</td>\n",
       "      <td>14.67</td>\n",
       "      <td>1798.0</td>\n",
       "      <td>1798.0</td>\n",
       "      <td>17746.0</td>\n",
       "      <td>24.00</td>\n",
       "    </tr>\n",
       "    <tr>\n",
       "      <th>5</th>\n",
       "      <td>5</td>\n",
       "      <td>2017 Honda Jazz 1.2 S i VTEC</td>\n",
       "      <td>Jul-17</td>\n",
       "      <td>Third Party insurance</td>\n",
       "      <td>Petrol</td>\n",
       "      <td>5</td>\n",
       "      <td>42000</td>\n",
       "      <td>1</td>\n",
       "      <td>Manual</td>\n",
       "      <td>2017</td>\n",
       "      <td>18.70</td>\n",
       "      <td>1199.0</td>\n",
       "      <td>1199.0</td>\n",
       "      <td>887.0</td>\n",
       "      <td>5.45</td>\n",
       "    </tr>\n",
       "    <tr>\n",
       "      <th>6</th>\n",
       "      <td>6</td>\n",
       "      <td>2018 Hyundai Grand i10 1.2 Kappa Sportz BSIV</td>\n",
       "      <td>Feb-19</td>\n",
       "      <td>Comprehensive</td>\n",
       "      <td>Petrol</td>\n",
       "      <td>5</td>\n",
       "      <td>36739</td>\n",
       "      <td>1</td>\n",
       "      <td>Manual</td>\n",
       "      <td>2018</td>\n",
       "      <td>18.90</td>\n",
       "      <td>1197.0</td>\n",
       "      <td>1197.0</td>\n",
       "      <td>8186.0</td>\n",
       "      <td>5.12</td>\n",
       "    </tr>\n",
       "    <tr>\n",
       "      <th>7</th>\n",
       "      <td>7</td>\n",
       "      <td>2018 Hyundai Creta 1.6 SX</td>\n",
       "      <td>Jul-18</td>\n",
       "      <td>Comprehensive</td>\n",
       "      <td>Petrol</td>\n",
       "      <td>5</td>\n",
       "      <td>76000</td>\n",
       "      <td>1</td>\n",
       "      <td>Manual</td>\n",
       "      <td>2018</td>\n",
       "      <td>15.80</td>\n",
       "      <td>1591.0</td>\n",
       "      <td>1591.0</td>\n",
       "      <td>1213.0</td>\n",
       "      <td>9.30</td>\n",
       "    </tr>\n",
       "    <tr>\n",
       "      <th>8</th>\n",
       "      <td>8</td>\n",
       "      <td>2015 Mercedes-Benz S-Class S 350 CDI</td>\n",
       "      <td>Apr-15</td>\n",
       "      <td>Comprehensive</td>\n",
       "      <td>Diesel</td>\n",
       "      <td>5</td>\n",
       "      <td>68000</td>\n",
       "      <td>2</td>\n",
       "      <td>Automatic</td>\n",
       "      <td>2015</td>\n",
       "      <td>13.50</td>\n",
       "      <td>2987.0</td>\n",
       "      <td>2987.0</td>\n",
       "      <td>25479.0</td>\n",
       "      <td>42.00</td>\n",
       "    </tr>\n",
       "    <tr>\n",
       "      <th>9</th>\n",
       "      <td>9</td>\n",
       "      <td>2019 Tata Nexon 1.2 Revotron XZ Plus</td>\n",
       "      <td>Mar-19</td>\n",
       "      <td>Comprehensive</td>\n",
       "      <td>Petrol</td>\n",
       "      <td>5</td>\n",
       "      <td>28783</td>\n",
       "      <td>1</td>\n",
       "      <td>Manual</td>\n",
       "      <td>2019</td>\n",
       "      <td>17.00</td>\n",
       "      <td>1198.0</td>\n",
       "      <td>1198.0</td>\n",
       "      <td>1085.0</td>\n",
       "      <td>8.02</td>\n",
       "    </tr>\n",
       "  </tbody>\n",
       "</table>\n",
       "</div>"
      ],
      "text/plain": [
       "   Unnamed: 0                                           car_name  \\\n",
       "0           0                    2017 Mercedes-Benz S-Class S400   \n",
       "1           1  2020 Nissan Magnite Turbo CVT XV Premium Opt BSVI   \n",
       "2           2                       2018 BMW X1 sDrive 20d xLine   \n",
       "3           3                           2019 Kia Seltos GTX Plus   \n",
       "4           4                    2019 Skoda Superb LK 1.8 TSI AT   \n",
       "5           5                       2017 Honda Jazz 1.2 S i VTEC   \n",
       "6           6       2018 Hyundai Grand i10 1.2 Kappa Sportz BSIV   \n",
       "7           7                          2018 Hyundai Creta 1.6 SX   \n",
       "8           8               2015 Mercedes-Benz S-Class S 350 CDI   \n",
       "9           9               2019 Tata Nexon 1.2 Revotron XZ Plus   \n",
       "\n",
       "  registration_year     insurance_validity fuel_type  seats  kms_driven  \\\n",
       "0            Jul-17          Comprehensive    Petrol      5       56000   \n",
       "1            Jan-21          Comprehensive    Petrol      5       30615   \n",
       "2            Sep-18          Comprehensive    Diesel      5       24000   \n",
       "3            Dec-19          Comprehensive    Petrol      5       18378   \n",
       "4            Aug-19          Comprehensive    Petrol      5       44900   \n",
       "5            Jul-17  Third Party insurance    Petrol      5       42000   \n",
       "6            Feb-19          Comprehensive    Petrol      5       36739   \n",
       "7            Jul-18          Comprehensive    Petrol      5       76000   \n",
       "8            Apr-15          Comprehensive    Diesel      5       68000   \n",
       "9            Mar-19          Comprehensive    Petrol      5       28783   \n",
       "\n",
       "  ownsership transmission manufacturing_year  mileage  engine  max_power  \\\n",
       "0          1    Automatic               2017     7.81  2996.0     2996.0   \n",
       "1          1    Automatic               2020    17.40   999.0      999.0   \n",
       "2          1    Automatic               2018    20.68  1995.0     1995.0   \n",
       "3          1       Manual               2019    16.50  1353.0     1353.0   \n",
       "4          1    Automatic               2019    14.67  1798.0     1798.0   \n",
       "5          1       Manual               2017    18.70  1199.0     1199.0   \n",
       "6          1       Manual               2018    18.90  1197.0     1197.0   \n",
       "7          1       Manual               2018    15.80  1591.0     1591.0   \n",
       "8          2    Automatic               2015    13.50  2987.0     2987.0   \n",
       "9          1       Manual               2019    17.00  1198.0     1198.0   \n",
       "\n",
       "    torque  price  \n",
       "0    333.0  63.75  \n",
       "1   9863.0   8.99  \n",
       "2    188.0  23.75  \n",
       "3  13808.0  13.56  \n",
       "4  17746.0  24.00  \n",
       "5    887.0   5.45  \n",
       "6   8186.0   5.12  \n",
       "7   1213.0   9.30  \n",
       "8  25479.0  42.00  \n",
       "9   1085.0   8.02  "
      ]
     },
     "execution_count": 22,
     "metadata": {},
     "output_type": "execute_result"
    }
   ],
   "source": [
    "Ucarsdata.head(10)"
   ]
  },
  {
   "cell_type": "code",
   "execution_count": 23,
   "id": "d0b5bf4f",
   "metadata": {
    "scrolled": true
   },
   "outputs": [
    {
     "data": {
      "text/plain": [
       "<Axes: ylabel='kms_driven'>"
      ]
     },
     "execution_count": 23,
     "metadata": {},
     "output_type": "execute_result"
    },
    {
     "data": {
      "image/png": "[encoded data removed]",
      "text/plain": [
       "<Figure size 640x480 with 1 Axes>"
      ]
     },
     "metadata": {},
     "output_type": "display_data"
    }
   ],
   "source": [
    "#outliers \n",
    "sns.boxplot( y=\"kms_driven\",data=Ucarsdata,width=0.5 )"
   ]
  },
  {
   "cell_type": "code",
   "execution_count": 24,
   "id": "fbaa7191",
   "metadata": {
    "scrolled": true
   },
   "outputs": [
    {
     "data": {
      "text/plain": [
       "<Axes: ylabel='kms_driven'>"
      ]
     },
     "execution_count": 24,
     "metadata": {},
     "output_type": "execute_result"
    },
    {
     "data": {
      "image/png": "[encoded data removed]",
      "text/plain": [
       "<Figure size 640x480 with 1 Axes>"
      ]
     },
     "metadata": {},
     "output_type": "display_data"
    }
   ],
   "source": [
    "#Ucarsdata.loc[ Ucarsdata['kms_driven'] > 200000, 'kms_driven'] = Ucarsdata['kms_driven'].mean()\n",
    "Ucarsdata.drop(Ucarsdata[Ucarsdata['kms_driven'] > 200000].index, inplace = True)\n",
    "sns.boxplot( y=\"kms_driven\",data=Ucarsdata,width=0.5 )"
   ]
  },
  {
   "cell_type": "code",
   "execution_count": 25,
   "id": "4eee394f",
   "metadata": {
    "scrolled": true
   },
   "outputs": [
    {
     "data": {
      "text/plain": [
       "<Axes: ylabel='mileage'>"
      ]
     },
     "execution_count": 25,
     "metadata": {},
     "output_type": "execute_result"
    },
    {
     "data": {
      "image/png": "[encoded data removed]",
      "text/plain": [
       "<Figure size 640x480 with 1 Axes>"
      ]
     },
     "metadata": {},
     "output_type": "display_data"
    }
   ],
   "source": [
    "sns.boxplot( y=\"mileage\",data=Ucarsdata,width=0.5 )"
   ]
  },
  {
   "cell_type": "code",
   "execution_count": 26,
   "id": "8d0e9721",
   "metadata": {},
   "outputs": [
    {
     "name": "stdout",
     "output_type": "stream",
     "text": [
      "174\n",
      "1494\n",
      "11.646586345381527\n"
     ]
    }
   ],
   "source": [
    "print(len(Ucarsdata[Ucarsdata['mileage'] > 35]))\n",
    "print(len(Ucarsdata['mileage']))\n",
    "print((len(Ucarsdata[Ucarsdata['mileage'] > 35])/len(Ucarsdata['mileage']))*100)"
   ]
  },
  {
   "cell_type": "code",
   "execution_count": 27,
   "id": "9ddcbd80",
   "metadata": {
    "scrolled": true
   },
   "outputs": [
    {
     "data": {
      "text/plain": [
       "<Axes: ylabel='mileage'>"
      ]
     },
     "execution_count": 27,
     "metadata": {},
     "output_type": "execute_result"
    },
    {
     "data": {
      "image/png": "[encoded data removed]",
      "text/plain": [
       "<Figure size 640x480 with 1 Axes>"
      ]
     },
     "metadata": {},
     "output_type": "display_data"
    }
   ],
   "source": [
    "#Ucarsdata.loc[ Ucarsdata['mileage'] > 35, 'mileage'] = Ucarsdata['mileage'].mean()\n",
    "Ucarsdata.drop(Ucarsdata[Ucarsdata['mileage'] > 35].index, inplace = True)\n",
    "sns.boxplot( y=\"mileage\",data=Ucarsdata,width=0.5 )"
   ]
  },
  {
   "cell_type": "code",
   "execution_count": 28,
   "id": "a37ec210",
   "metadata": {
    "scrolled": true
   },
   "outputs": [
    {
     "name": "stdout",
     "output_type": "stream",
     "text": [
      "5\n",
      "1320\n",
      "0.3787878787878788\n"
     ]
    },
    {
     "data": {
      "image/png": "[encoded data removed]",
      "text/plain": [
       "<Figure size 640x480 with 1 Axes>"
      ]
     },
     "metadata": {},
     "output_type": "display_data"
    }
   ],
   "source": [
    "sns.boxplot( y=\"engine\",data=Ucarsdata,width=0.5 )\n",
    "print(len(Ucarsdata[Ucarsdata['engine'] > 4000]))\n",
    "print(len(Ucarsdata['engine']))\n",
    "print((len(Ucarsdata[Ucarsdata['engine'] > 4000])/len(Ucarsdata['engine']))*100)"
   ]
  },
  {
   "cell_type": "code",
   "execution_count": 29,
   "id": "edc7a36a",
   "metadata": {},
   "outputs": [
    {
     "data": {
      "text/plain": [
       "<Axes: ylabel='engine'>"
      ]
     },
     "execution_count": 29,
     "metadata": {},
     "output_type": "execute_result"
    },
    {
     "data": {
      "image/png": "[encoded data removed]",
      "text/plain": [
       "<Figure size 640x480 with 1 Axes>"
      ]
     },
     "metadata": {},
     "output_type": "display_data"
    }
   ],
   "source": [
    "#Ucarsdata.loc[ Ucarsdata['engine'] > 4000, 'engine'] = Ucarsdata['engine'].mean()\n",
    "Ucarsdata.drop(Ucarsdata[Ucarsdata['engine'] > 4000].index, inplace = True)\n",
    "sns.boxplot( y=\"engine\",data=Ucarsdata,width=0.5 )"
   ]
  },
  {
   "cell_type": "code",
   "execution_count": 30,
   "id": "0bdc610d",
   "metadata": {
    "scrolled": true
   },
   "outputs": [
    {
     "name": "stdout",
     "output_type": "stream",
     "text": [
      "0\n",
      "1315\n",
      "0.0\n"
     ]
    },
    {
     "data": {
      "image/png": "[encoded data removed]",
      "text/plain": [
       "<Figure size 640x480 with 1 Axes>"
      ]
     },
     "metadata": {},
     "output_type": "display_data"
    }
   ],
   "source": [
    "sns.boxplot( y=\"max_power\",data=Ucarsdata,width=0.5 )\n",
    "print(len(Ucarsdata[Ucarsdata['max_power'] > 4000]))\n",
    "print(len(Ucarsdata['max_power']))\n",
    "print((len(Ucarsdata[Ucarsdata['max_power'] > 4000])/len(Ucarsdata['max_power']))*100)"
   ]
  },
  {
   "cell_type": "code",
   "execution_count": 31,
   "id": "9edbacfb",
   "metadata": {
    "scrolled": true
   },
   "outputs": [
    {
     "data": {
      "text/plain": [
       "<Axes: ylabel='max_power'>"
      ]
     },
     "execution_count": 31,
     "metadata": {},
     "output_type": "execute_result"
    },
    {
     "data": {
      "image/png": "[encoded data removed]",
      "text/plain": [
       "<Figure size 640x480 with 1 Axes>"
      ]
     },
     "metadata": {},
     "output_type": "display_data"
    }
   ],
   "source": [
    "#Ucarsdata.loc[ Ucarsdata['max_power'] > 4000, 'max_power'] = Ucarsdata['max_power'].mean()\n",
    "Ucarsdata.drop(Ucarsdata[Ucarsdata['max_power'] > 4000].index, inplace = True)\n",
    "sns.boxplot( y=\"max_power\",data=Ucarsdata,width=0.5 )"
   ]
  },
  {
   "cell_type": "code",
   "execution_count": 32,
   "id": "e865d47f",
   "metadata": {},
   "outputs": [
    {
     "name": "stdout",
     "output_type": "stream",
     "text": [
      "96\n",
      "1315\n",
      "7.300380228136882\n"
     ]
    },
    {
     "data": {
      "image/png": "[encoded data removed]",
      "text/plain": [
       "<Figure size 640x480 with 1 Axes>"
      ]
     },
     "metadata": {},
     "output_type": "display_data"
    }
   ],
   "source": [
    "sns.boxplot( y=\"torque\",data=Ucarsdata,width=0.5 )\n",
    "print(len(Ucarsdata[Ucarsdata['torque'] > 20000]))\n",
    "print(len(Ucarsdata['torque']))\n",
    "print((len(Ucarsdata[Ucarsdata['torque'] > 20000])/len(Ucarsdata['torque']))*100)"
   ]
  },
  {
   "cell_type": "code",
   "execution_count": 33,
   "id": "6b51b326",
   "metadata": {
    "scrolled": true
   },
   "outputs": [
    {
     "data": {
      "text/plain": [
       "<Axes: ylabel='torque'>"
      ]
     },
     "execution_count": 33,
     "metadata": {},
     "output_type": "execute_result"
    },
    {
     "data": {
      "image/png": "[encoded data removed]",
      "text/plain": [
       "<Figure size 640x480 with 1 Axes>"
      ]
     },
     "metadata": {},
     "output_type": "display_data"
    }
   ],
   "source": [
    "#Ucarsdata.loc[ Ucarsdata['torque'] > 20000, 'torque'] = Ucarsdata['torque'].mean()\n",
    "Ucarsdata.drop(Ucarsdata[Ucarsdata['torque'] > 20000].index, inplace = True)\n",
    "sns.boxplot( y=\"torque\",data=Ucarsdata,width=0.5 )"
   ]
  },
  {
   "cell_type": "code",
   "execution_count": 34,
   "id": "c072d72f",
   "metadata": {
    "scrolled": true
   },
   "outputs": [
    {
     "name": "stdout",
     "output_type": "stream",
     "text": [
      "1\n",
      "1219\n",
      "0.08203445447087777\n"
     ]
    },
    {
     "data": {
      "image/png": "[encoded data removed]",
      "text/plain": [
       "<Figure size 640x480 with 1 Axes>"
      ]
     },
     "metadata": {},
     "output_type": "display_data"
    }
   ],
   "source": [
    "sns.boxplot( y=\"price\",data=Ucarsdata,width=0.5 )\n",
    "print(len(Ucarsdata[Ucarsdata['price'] > 20000]))\n",
    "print(len(Ucarsdata['price']))\n",
    "print((len(Ucarsdata[Ucarsdata['price'] > 20000])/len(Ucarsdata['price']))*100)"
   ]
  },
  {
   "cell_type": "code",
   "execution_count": 35,
   "id": "8d839612",
   "metadata": {},
   "outputs": [
    {
     "data": {
      "text/plain": [
       "<Axes: ylabel='price'>"
      ]
     },
     "execution_count": 35,
     "metadata": {},
     "output_type": "execute_result"
    },
    {
     "data": {
      "image/png": "[encoded data removed]",
      "text/plain": [
       "<Figure size 640x480 with 1 Axes>"
      ]
     },
     "metadata": {},
     "output_type": "display_data"
    }
   ],
   "source": [
    "#Ucarsdata.loc[ Ucarsdata['price'] > 150, 'price'] = Ucarsdata['price'].mean()\n",
    "Ucarsdata.drop(Ucarsdata[Ucarsdata['price'] > 150].index, inplace = True)\n",
    "sns.boxplot( y=\"price\",data=Ucarsdata,width=0.5 )"
   ]
  },
  {
   "cell_type": "code",
   "execution_count": 36,
   "id": "54cd9a0b",
   "metadata": {
    "scrolled": true
   },
   "outputs": [
    {
     "data": {
      "text/html": [
       "<div>\n",
       "<style scoped>\n",
       "    .dataframe tbody tr th:only-of-type {\n",
       "        vertical-align: middle;\n",
       "    }\n",
       "\n",
       "    .dataframe tbody tr th {\n",
       "        vertical-align: top;\n",
       "    }\n",
       "\n",
       "    .dataframe thead th {\n",
       "        text-align: right;\n",
       "    }\n",
       "</style>\n",
       "<table border=\"1\" class=\"dataframe\">\n",
       "  <thead>\n",
       "    <tr style=\"text-align: right;\">\n",
       "      <th></th>\n",
       "      <th>insurance_validity</th>\n",
       "      <th>fuel_type</th>\n",
       "      <th>seats</th>\n",
       "      <th>kms_driven</th>\n",
       "      <th>ownsership</th>\n",
       "      <th>transmission</th>\n",
       "      <th>manufacturing_year</th>\n",
       "      <th>mileage</th>\n",
       "      <th>engine</th>\n",
       "      <th>max_power</th>\n",
       "      <th>torque</th>\n",
       "      <th>price</th>\n",
       "    </tr>\n",
       "  </thead>\n",
       "  <tbody>\n",
       "    <tr>\n",
       "      <th>0</th>\n",
       "      <td>Comprehensive</td>\n",
       "      <td>Petrol</td>\n",
       "      <td>5</td>\n",
       "      <td>56000</td>\n",
       "      <td>1</td>\n",
       "      <td>Automatic</td>\n",
       "      <td>2017</td>\n",
       "      <td>7.81</td>\n",
       "      <td>2996.0</td>\n",
       "      <td>2996.0</td>\n",
       "      <td>333.0</td>\n",
       "      <td>63.75</td>\n",
       "    </tr>\n",
       "    <tr>\n",
       "      <th>1</th>\n",
       "      <td>Comprehensive</td>\n",
       "      <td>Petrol</td>\n",
       "      <td>5</td>\n",
       "      <td>30615</td>\n",
       "      <td>1</td>\n",
       "      <td>Automatic</td>\n",
       "      <td>2020</td>\n",
       "      <td>17.40</td>\n",
       "      <td>999.0</td>\n",
       "      <td>999.0</td>\n",
       "      <td>9863.0</td>\n",
       "      <td>8.99</td>\n",
       "    </tr>\n",
       "    <tr>\n",
       "      <th>2</th>\n",
       "      <td>Comprehensive</td>\n",
       "      <td>Diesel</td>\n",
       "      <td>5</td>\n",
       "      <td>24000</td>\n",
       "      <td>1</td>\n",
       "      <td>Automatic</td>\n",
       "      <td>2018</td>\n",
       "      <td>20.68</td>\n",
       "      <td>1995.0</td>\n",
       "      <td>1995.0</td>\n",
       "      <td>188.0</td>\n",
       "      <td>23.75</td>\n",
       "    </tr>\n",
       "    <tr>\n",
       "      <th>3</th>\n",
       "      <td>Comprehensive</td>\n",
       "      <td>Petrol</td>\n",
       "      <td>5</td>\n",
       "      <td>18378</td>\n",
       "      <td>1</td>\n",
       "      <td>Manual</td>\n",
       "      <td>2019</td>\n",
       "      <td>16.50</td>\n",
       "      <td>1353.0</td>\n",
       "      <td>1353.0</td>\n",
       "      <td>13808.0</td>\n",
       "      <td>13.56</td>\n",
       "    </tr>\n",
       "    <tr>\n",
       "      <th>4</th>\n",
       "      <td>Comprehensive</td>\n",
       "      <td>Petrol</td>\n",
       "      <td>5</td>\n",
       "      <td>44900</td>\n",
       "      <td>1</td>\n",
       "      <td>Automatic</td>\n",
       "      <td>2019</td>\n",
       "      <td>14.67</td>\n",
       "      <td>1798.0</td>\n",
       "      <td>1798.0</td>\n",
       "      <td>17746.0</td>\n",
       "      <td>24.00</td>\n",
       "    </tr>\n",
       "    <tr>\n",
       "      <th>5</th>\n",
       "      <td>Third Party insurance</td>\n",
       "      <td>Petrol</td>\n",
       "      <td>5</td>\n",
       "      <td>42000</td>\n",
       "      <td>1</td>\n",
       "      <td>Manual</td>\n",
       "      <td>2017</td>\n",
       "      <td>18.70</td>\n",
       "      <td>1199.0</td>\n",
       "      <td>1199.0</td>\n",
       "      <td>887.0</td>\n",
       "      <td>5.45</td>\n",
       "    </tr>\n",
       "    <tr>\n",
       "      <th>6</th>\n",
       "      <td>Comprehensive</td>\n",
       "      <td>Petrol</td>\n",
       "      <td>5</td>\n",
       "      <td>36739</td>\n",
       "      <td>1</td>\n",
       "      <td>Manual</td>\n",
       "      <td>2018</td>\n",
       "      <td>18.90</td>\n",
       "      <td>1197.0</td>\n",
       "      <td>1197.0</td>\n",
       "      <td>8186.0</td>\n",
       "      <td>5.12</td>\n",
       "    </tr>\n",
       "    <tr>\n",
       "      <th>7</th>\n",
       "      <td>Comprehensive</td>\n",
       "      <td>Petrol</td>\n",
       "      <td>5</td>\n",
       "      <td>76000</td>\n",
       "      <td>1</td>\n",
       "      <td>Manual</td>\n",
       "      <td>2018</td>\n",
       "      <td>15.80</td>\n",
       "      <td>1591.0</td>\n",
       "      <td>1591.0</td>\n",
       "      <td>1213.0</td>\n",
       "      <td>9.30</td>\n",
       "    </tr>\n",
       "    <tr>\n",
       "      <th>9</th>\n",
       "      <td>Comprehensive</td>\n",
       "      <td>Petrol</td>\n",
       "      <td>5</td>\n",
       "      <td>28783</td>\n",
       "      <td>1</td>\n",
       "      <td>Manual</td>\n",
       "      <td>2019</td>\n",
       "      <td>17.00</td>\n",
       "      <td>1198.0</td>\n",
       "      <td>1198.0</td>\n",
       "      <td>1085.0</td>\n",
       "      <td>8.02</td>\n",
       "    </tr>\n",
       "    <tr>\n",
       "      <th>10</th>\n",
       "      <td>Comprehensive</td>\n",
       "      <td>Petrol</td>\n",
       "      <td>5</td>\n",
       "      <td>40000</td>\n",
       "      <td>1</td>\n",
       "      <td>Automatic</td>\n",
       "      <td>2020</td>\n",
       "      <td>17.40</td>\n",
       "      <td>1497.0</td>\n",
       "      <td>1497.0</td>\n",
       "      <td>1176.0</td>\n",
       "      <td>10.95</td>\n",
       "    </tr>\n",
       "  </tbody>\n",
       "</table>\n",
       "</div>"
      ],
      "text/plain": [
       "       insurance_validity fuel_type  seats  kms_driven ownsership  \\\n",
       "0           Comprehensive    Petrol      5       56000          1   \n",
       "1           Comprehensive    Petrol      5       30615          1   \n",
       "2           Comprehensive    Diesel      5       24000          1   \n",
       "3           Comprehensive    Petrol      5       18378          1   \n",
       "4           Comprehensive    Petrol      5       44900          1   \n",
       "5   Third Party insurance    Petrol      5       42000          1   \n",
       "6           Comprehensive    Petrol      5       36739          1   \n",
       "7           Comprehensive    Petrol      5       76000          1   \n",
       "9           Comprehensive    Petrol      5       28783          1   \n",
       "10          Comprehensive    Petrol      5       40000          1   \n",
       "\n",
       "   transmission manufacturing_year  mileage  engine  max_power   torque  price  \n",
       "0     Automatic               2017     7.81  2996.0     2996.0    333.0  63.75  \n",
       "1     Automatic               2020    17.40   999.0      999.0   9863.0   8.99  \n",
       "2     Automatic               2018    20.68  1995.0     1995.0    188.0  23.75  \n",
       "3        Manual               2019    16.50  1353.0     1353.0  13808.0  13.56  \n",
       "4     Automatic               2019    14.67  1798.0     1798.0  17746.0  24.00  \n",
       "5        Manual               2017    18.70  1199.0     1199.0    887.0   5.45  \n",
       "6        Manual               2018    18.90  1197.0     1197.0   8186.0   5.12  \n",
       "7        Manual               2018    15.80  1591.0     1591.0   1213.0   9.30  \n",
       "9        Manual               2019    17.00  1198.0     1198.0   1085.0   8.02  \n",
       "10    Automatic               2020    17.40  1497.0     1497.0   1176.0  10.95  "
      ]
     },
     "execution_count": 36,
     "metadata": {},
     "output_type": "execute_result"
    }
   ],
   "source": [
    "Ucarsdataf=Ucarsdata.drop(['Unnamed: 0','car_name','registration_year'],axis=1)\n",
    "Ucarsdataf.head(10)"
   ]
  },
  {
   "cell_type": "code",
   "execution_count": 37,
   "id": "a9d54852",
   "metadata": {},
   "outputs": [
    {
     "data": {
      "text/html": [
       "<div>\n",
       "<style scoped>\n",
       "    .dataframe tbody tr th:only-of-type {\n",
       "        vertical-align: middle;\n",
       "    }\n",
       "\n",
       "    .dataframe tbody tr th {\n",
       "        vertical-align: top;\n",
       "    }\n",
       "\n",
       "    .dataframe thead th {\n",
       "        text-align: right;\n",
       "    }\n",
       "</style>\n",
       "<table border=\"1\" class=\"dataframe\">\n",
       "  <thead>\n",
       "    <tr style=\"text-align: right;\">\n",
       "      <th></th>\n",
       "      <th>seats</th>\n",
       "      <th>kms_driven</th>\n",
       "      <th>ownsership</th>\n",
       "      <th>manufacturing_year</th>\n",
       "      <th>mileage</th>\n",
       "      <th>engine</th>\n",
       "      <th>max_power</th>\n",
       "      <th>torque</th>\n",
       "      <th>price</th>\n",
       "      <th>Automatic</th>\n",
       "      <th>Manual</th>\n",
       "      <th>CNG</th>\n",
       "      <th>Diesel</th>\n",
       "      <th>Petrol</th>\n",
       "      <th>Comprehensive insurance</th>\n",
       "      <th>Third Party insurance</th>\n",
       "      <th>Zero Dep insurance</th>\n",
       "    </tr>\n",
       "  </thead>\n",
       "  <tbody>\n",
       "    <tr>\n",
       "      <th>0</th>\n",
       "      <td>5</td>\n",
       "      <td>56000</td>\n",
       "      <td>1</td>\n",
       "      <td>2017</td>\n",
       "      <td>7.81</td>\n",
       "      <td>2996.0</td>\n",
       "      <td>2996.0</td>\n",
       "      <td>333.0</td>\n",
       "      <td>63.75</td>\n",
       "      <td>1</td>\n",
       "      <td>0</td>\n",
       "      <td>0</td>\n",
       "      <td>0</td>\n",
       "      <td>1</td>\n",
       "      <td>1</td>\n",
       "      <td>0</td>\n",
       "      <td>0</td>\n",
       "    </tr>\n",
       "    <tr>\n",
       "      <th>1</th>\n",
       "      <td>5</td>\n",
       "      <td>30615</td>\n",
       "      <td>1</td>\n",
       "      <td>2020</td>\n",
       "      <td>17.40</td>\n",
       "      <td>999.0</td>\n",
       "      <td>999.0</td>\n",
       "      <td>9863.0</td>\n",
       "      <td>8.99</td>\n",
       "      <td>1</td>\n",
       "      <td>0</td>\n",
       "      <td>0</td>\n",
       "      <td>0</td>\n",
       "      <td>1</td>\n",
       "      <td>1</td>\n",
       "      <td>0</td>\n",
       "      <td>0</td>\n",
       "    </tr>\n",
       "    <tr>\n",
       "      <th>2</th>\n",
       "      <td>5</td>\n",
       "      <td>24000</td>\n",
       "      <td>1</td>\n",
       "      <td>2018</td>\n",
       "      <td>20.68</td>\n",
       "      <td>1995.0</td>\n",
       "      <td>1995.0</td>\n",
       "      <td>188.0</td>\n",
       "      <td>23.75</td>\n",
       "      <td>1</td>\n",
       "      <td>0</td>\n",
       "      <td>0</td>\n",
       "      <td>1</td>\n",
       "      <td>0</td>\n",
       "      <td>1</td>\n",
       "      <td>0</td>\n",
       "      <td>0</td>\n",
       "    </tr>\n",
       "    <tr>\n",
       "      <th>3</th>\n",
       "      <td>5</td>\n",
       "      <td>18378</td>\n",
       "      <td>1</td>\n",
       "      <td>2019</td>\n",
       "      <td>16.50</td>\n",
       "      <td>1353.0</td>\n",
       "      <td>1353.0</td>\n",
       "      <td>13808.0</td>\n",
       "      <td>13.56</td>\n",
       "      <td>0</td>\n",
       "      <td>1</td>\n",
       "      <td>0</td>\n",
       "      <td>0</td>\n",
       "      <td>1</td>\n",
       "      <td>1</td>\n",
       "      <td>0</td>\n",
       "      <td>0</td>\n",
       "    </tr>\n",
       "    <tr>\n",
       "      <th>4</th>\n",
       "      <td>5</td>\n",
       "      <td>44900</td>\n",
       "      <td>1</td>\n",
       "      <td>2019</td>\n",
       "      <td>14.67</td>\n",
       "      <td>1798.0</td>\n",
       "      <td>1798.0</td>\n",
       "      <td>17746.0</td>\n",
       "      <td>24.00</td>\n",
       "      <td>1</td>\n",
       "      <td>0</td>\n",
       "      <td>0</td>\n",
       "      <td>0</td>\n",
       "      <td>1</td>\n",
       "      <td>1</td>\n",
       "      <td>0</td>\n",
       "      <td>0</td>\n",
       "    </tr>\n",
       "    <tr>\n",
       "      <th>5</th>\n",
       "      <td>5</td>\n",
       "      <td>42000</td>\n",
       "      <td>1</td>\n",
       "      <td>2017</td>\n",
       "      <td>18.70</td>\n",
       "      <td>1199.0</td>\n",
       "      <td>1199.0</td>\n",
       "      <td>887.0</td>\n",
       "      <td>5.45</td>\n",
       "      <td>0</td>\n",
       "      <td>1</td>\n",
       "      <td>0</td>\n",
       "      <td>0</td>\n",
       "      <td>1</td>\n",
       "      <td>0</td>\n",
       "      <td>1</td>\n",
       "      <td>0</td>\n",
       "    </tr>\n",
       "    <tr>\n",
       "      <th>6</th>\n",
       "      <td>5</td>\n",
       "      <td>36739</td>\n",
       "      <td>1</td>\n",
       "      <td>2018</td>\n",
       "      <td>18.90</td>\n",
       "      <td>1197.0</td>\n",
       "      <td>1197.0</td>\n",
       "      <td>8186.0</td>\n",
       "      <td>5.12</td>\n",
       "      <td>0</td>\n",
       "      <td>1</td>\n",
       "      <td>0</td>\n",
       "      <td>0</td>\n",
       "      <td>1</td>\n",
       "      <td>1</td>\n",
       "      <td>0</td>\n",
       "      <td>0</td>\n",
       "    </tr>\n",
       "    <tr>\n",
       "      <th>7</th>\n",
       "      <td>5</td>\n",
       "      <td>76000</td>\n",
       "      <td>1</td>\n",
       "      <td>2018</td>\n",
       "      <td>15.80</td>\n",
       "      <td>1591.0</td>\n",
       "      <td>1591.0</td>\n",
       "      <td>1213.0</td>\n",
       "      <td>9.30</td>\n",
       "      <td>0</td>\n",
       "      <td>1</td>\n",
       "      <td>0</td>\n",
       "      <td>0</td>\n",
       "      <td>1</td>\n",
       "      <td>1</td>\n",
       "      <td>0</td>\n",
       "      <td>0</td>\n",
       "    </tr>\n",
       "    <tr>\n",
       "      <th>9</th>\n",
       "      <td>5</td>\n",
       "      <td>28783</td>\n",
       "      <td>1</td>\n",
       "      <td>2019</td>\n",
       "      <td>17.00</td>\n",
       "      <td>1198.0</td>\n",
       "      <td>1198.0</td>\n",
       "      <td>1085.0</td>\n",
       "      <td>8.02</td>\n",
       "      <td>0</td>\n",
       "      <td>1</td>\n",
       "      <td>0</td>\n",
       "      <td>0</td>\n",
       "      <td>1</td>\n",
       "      <td>1</td>\n",
       "      <td>0</td>\n",
       "      <td>0</td>\n",
       "    </tr>\n",
       "    <tr>\n",
       "      <th>10</th>\n",
       "      <td>5</td>\n",
       "      <td>40000</td>\n",
       "      <td>1</td>\n",
       "      <td>2020</td>\n",
       "      <td>17.40</td>\n",
       "      <td>1497.0</td>\n",
       "      <td>1497.0</td>\n",
       "      <td>1176.0</td>\n",
       "      <td>10.95</td>\n",
       "      <td>1</td>\n",
       "      <td>0</td>\n",
       "      <td>0</td>\n",
       "      <td>0</td>\n",
       "      <td>1</td>\n",
       "      <td>1</td>\n",
       "      <td>0</td>\n",
       "      <td>0</td>\n",
       "    </tr>\n",
       "  </tbody>\n",
       "</table>\n",
       "</div>"
      ],
      "text/plain": [
       "    seats  kms_driven ownsership manufacturing_year  mileage  engine  \\\n",
       "0       5       56000          1               2017     7.81  2996.0   \n",
       "1       5       30615          1               2020    17.40   999.0   \n",
       "2       5       24000          1               2018    20.68  1995.0   \n",
       "3       5       18378          1               2019    16.50  1353.0   \n",
       "4       5       44900          1               2019    14.67  1798.0   \n",
       "5       5       42000          1               2017    18.70  1199.0   \n",
       "6       5       36739          1               2018    18.90  1197.0   \n",
       "7       5       76000          1               2018    15.80  1591.0   \n",
       "9       5       28783          1               2019    17.00  1198.0   \n",
       "10      5       40000          1               2020    17.40  1497.0   \n",
       "\n",
       "    max_power   torque  price  Automatic  Manual  CNG  Diesel  Petrol  \\\n",
       "0      2996.0    333.0  63.75          1       0    0       0       1   \n",
       "1       999.0   9863.0   8.99          1       0    0       0       1   \n",
       "2      1995.0    188.0  23.75          1       0    0       1       0   \n",
       "3      1353.0  13808.0  13.56          0       1    0       0       1   \n",
       "4      1798.0  17746.0  24.00          1       0    0       0       1   \n",
       "5      1199.0    887.0   5.45          0       1    0       0       1   \n",
       "6      1197.0   8186.0   5.12          0       1    0       0       1   \n",
       "7      1591.0   1213.0   9.30          0       1    0       0       1   \n",
       "9      1198.0   1085.0   8.02          0       1    0       0       1   \n",
       "10     1497.0   1176.0  10.95          1       0    0       0       1   \n",
       "\n",
       "    Comprehensive insurance  Third Party insurance  Zero Dep insurance  \n",
       "0                         1                      0                   0  \n",
       "1                         1                      0                   0  \n",
       "2                         1                      0                   0  \n",
       "3                         1                      0                   0  \n",
       "4                         1                      0                   0  \n",
       "5                         0                      1                   0  \n",
       "6                         1                      0                   0  \n",
       "7                         1                      0                   0  \n",
       "9                         1                      0                   0  \n",
       "10                        1                      0                   0  "
      ]
     },
     "execution_count": 37,
     "metadata": {},
     "output_type": "execute_result"
    }
   ],
   "source": [
    "one_hot_encoded_data_0 = pd.get_dummies(Ucarsdataf ['transmission'])\n",
    "one_hot_encoded_data_1 = pd.get_dummies(Ucarsdataf ['fuel_type'])\n",
    "one_hot_encoded_data_2 = pd.get_dummies(Ucarsdataf ['insurance_validity'])\n",
    "Ucarsdataf=Ucarsdataf.drop('transmission',axis=1)\n",
    "Ucarsdataf=Ucarsdataf.drop('fuel_type',axis=1)\n",
    "Ucarsdataf=Ucarsdataf.drop('insurance_validity',axis=1)\n",
    "Ucarsdataf=Ucarsdataf.join(one_hot_encoded_data_0)\n",
    "Ucarsdataf=Ucarsdataf.join(one_hot_encoded_data_1)\n",
    "Ucarsdataf=Ucarsdataf.join(one_hot_encoded_data_2)\n",
    "Ucarsdataf.rename(columns = {'Comprehensive' : 'Comprehensive insurance','Zero Dep' : 'Zero Dep insurance'}, inplace = True)\n",
    "Ucarsdataf.head(10)"
   ]
  },
  {
   "cell_type": "code",
   "execution_count": 38,
   "id": "d1ef33e9",
   "metadata": {},
   "outputs": [
    {
     "name": "stdout",
     "output_type": "stream",
     "text": [
      "<class 'pandas.core.frame.DataFrame'>\n",
      "Int64Index: 1218 entries, 0 to 1552\n",
      "Data columns (total 17 columns):\n",
      " #   Column                   Non-Null Count  Dtype  \n",
      "---  ------                   --------------  -----  \n",
      " 0   seats                    1218 non-null   int64  \n",
      " 1   kms_driven               1218 non-null   int64  \n",
      " 2   ownsership               1218 non-null   object \n",
      " 3   manufacturing_year       1218 non-null   object \n",
      " 4   mileage                  1218 non-null   float64\n",
      " 5   engine                   1218 non-null   float64\n",
      " 6   max_power                1218 non-null   float64\n",
      " 7   torque                   1218 non-null   float64\n",
      " 8   price                    1218 non-null   float64\n",
      " 9   Automatic                1218 non-null   uint8  \n",
      " 10  Manual                   1218 non-null   uint8  \n",
      " 11  CNG                      1218 non-null   uint8  \n",
      " 12  Diesel                   1218 non-null   uint8  \n",
      " 13  Petrol                   1218 non-null   uint8  \n",
      " 14  Comprehensive insurance  1218 non-null   uint8  \n",
      " 15  Third Party insurance    1218 non-null   uint8  \n",
      " 16  Zero Dep insurance       1218 non-null   uint8  \n",
      "dtypes: float64(5), int64(2), object(2), uint8(8)\n",
      "memory usage: 137.0+ KB\n"
     ]
    }
   ],
   "source": [
    "Ucarsdataf.info()"
   ]
  },
  {
   "cell_type": "code",
   "execution_count": 39,
   "id": "c9c92263",
   "metadata": {},
   "outputs": [
    {
     "name": "stdout",
     "output_type": "stream",
     "text": [
      "<class 'pandas.core.frame.DataFrame'>\n",
      "Int64Index: 1218 entries, 0 to 1552\n",
      "Data columns (total 17 columns):\n",
      " #   Column                   Non-Null Count  Dtype  \n",
      "---  ------                   --------------  -----  \n",
      " 0   seats                    1218 non-null   int64  \n",
      " 1   kms_driven               1218 non-null   int64  \n",
      " 2   ownsership               1218 non-null   int32  \n",
      " 3   manufacturing_year       1218 non-null   int32  \n",
      " 4   mileage                  1218 non-null   float64\n",
      " 5   engine                   1218 non-null   float64\n",
      " 6   max_power                1218 non-null   float64\n",
      " 7   torque                   1218 non-null   float64\n",
      " 8   price                    1218 non-null   float64\n",
      " 9   Automatic                1218 non-null   uint8  \n",
      " 10  Manual                   1218 non-null   uint8  \n",
      " 11  CNG                      1218 non-null   uint8  \n",
      " 12  Diesel                   1218 non-null   uint8  \n",
      " 13  Petrol                   1218 non-null   uint8  \n",
      " 14  Comprehensive insurance  1218 non-null   uint8  \n",
      " 15  Third Party insurance    1218 non-null   uint8  \n",
      " 16  Zero Dep insurance       1218 non-null   uint8  \n",
      "dtypes: float64(5), int32(2), int64(2), uint8(8)\n",
      "memory usage: 127.4 KB\n"
     ]
    }
   ],
   "source": [
    "Ucarsdataf[\"ownsership\"] = Ucarsdataf[\"ownsership\"].astype(int)\n",
    "Ucarsdataf[\"manufacturing_year\"] = Ucarsdataf[\"manufacturing_year\"].astype(int)\n",
    "Ucarsdataf.info()"
   ]
  },
  {
   "cell_type": "code",
   "execution_count": 40,
   "id": "3fcbc881",
   "metadata": {},
   "outputs": [
    {
     "data": {
      "text/plain": [
       "Unnamed: 0            0\n",
       "car_name              0\n",
       "registration_year     0\n",
       "insurance_validity    0\n",
       "fuel_type             0\n",
       "seats                 0\n",
       "kms_driven            0\n",
       "ownsership            0\n",
       "transmission          0\n",
       "manufacturing_year    0\n",
       "mileage               0\n",
       "engine                0\n",
       "max_power             0\n",
       "torque                0\n",
       "price                 0\n",
       "dtype: int64"
      ]
     },
     "execution_count": 40,
     "metadata": {},
     "output_type": "execute_result"
    }
   ],
   "source": [
    "Ucarsdata.isnull().sum()"
   ]
  },
  {
   "cell_type": "code",
   "execution_count": 41,
   "id": "8d3db254",
   "metadata": {},
   "outputs": [
    {
     "data": {
      "text/plain": [
       "seats                      0\n",
       "kms_driven                 0\n",
       "ownsership                 0\n",
       "manufacturing_year         0\n",
       "mileage                    0\n",
       "engine                     0\n",
       "max_power                  0\n",
       "torque                     0\n",
       "price                      0\n",
       "Automatic                  0\n",
       "Manual                     0\n",
       "CNG                        0\n",
       "Diesel                     0\n",
       "Petrol                     0\n",
       "Comprehensive insurance    0\n",
       "Third Party insurance      0\n",
       "Zero Dep insurance         0\n",
       "dtype: int64"
      ]
     },
     "execution_count": 41,
     "metadata": {},
     "output_type": "execute_result"
    }
   ],
   "source": [
    "Ucarsdataf.isnull().sum()"
   ]
  },
  {
   "cell_type": "code",
   "execution_count": 42,
   "id": "62ad4e0b",
   "metadata": {
    "scrolled": true
   },
   "outputs": [
    {
     "data": {
      "text/html": [
       "<div>\n",
       "<style scoped>\n",
       "    .dataframe tbody tr th:only-of-type {\n",
       "        vertical-align: middle;\n",
       "    }\n",
       "\n",
       "    .dataframe tbody tr th {\n",
       "        vertical-align: top;\n",
       "    }\n",
       "\n",
       "    .dataframe thead th {\n",
       "        text-align: right;\n",
       "    }\n",
       "</style>\n",
       "<table border=\"1\" class=\"dataframe\">\n",
       "  <thead>\n",
       "    <tr style=\"text-align: right;\">\n",
       "      <th></th>\n",
       "      <th>seats</th>\n",
       "      <th>kms_driven</th>\n",
       "      <th>ownsership</th>\n",
       "      <th>manufacturing_year</th>\n",
       "      <th>mileage</th>\n",
       "      <th>engine</th>\n",
       "      <th>max_power</th>\n",
       "      <th>torque</th>\n",
       "      <th>price</th>\n",
       "      <th>Automatic</th>\n",
       "      <th>Manual</th>\n",
       "      <th>CNG</th>\n",
       "      <th>Diesel</th>\n",
       "      <th>Petrol</th>\n",
       "      <th>Comprehensive insurance</th>\n",
       "      <th>Third Party insurance</th>\n",
       "      <th>Zero Dep insurance</th>\n",
       "    </tr>\n",
       "  </thead>\n",
       "  <tbody>\n",
       "    <tr>\n",
       "      <th>0</th>\n",
       "      <td>5</td>\n",
       "      <td>56000</td>\n",
       "      <td>1</td>\n",
       "      <td>2017</td>\n",
       "      <td>7.81</td>\n",
       "      <td>2996.0</td>\n",
       "      <td>2996.0</td>\n",
       "      <td>333.0</td>\n",
       "      <td>63.75</td>\n",
       "      <td>1</td>\n",
       "      <td>0</td>\n",
       "      <td>0</td>\n",
       "      <td>0</td>\n",
       "      <td>1</td>\n",
       "      <td>1</td>\n",
       "      <td>0</td>\n",
       "      <td>0</td>\n",
       "    </tr>\n",
       "    <tr>\n",
       "      <th>1</th>\n",
       "      <td>5</td>\n",
       "      <td>30615</td>\n",
       "      <td>1</td>\n",
       "      <td>2020</td>\n",
       "      <td>17.40</td>\n",
       "      <td>999.0</td>\n",
       "      <td>999.0</td>\n",
       "      <td>9863.0</td>\n",
       "      <td>8.99</td>\n",
       "      <td>1</td>\n",
       "      <td>0</td>\n",
       "      <td>0</td>\n",
       "      <td>0</td>\n",
       "      <td>1</td>\n",
       "      <td>1</td>\n",
       "      <td>0</td>\n",
       "      <td>0</td>\n",
       "    </tr>\n",
       "    <tr>\n",
       "      <th>2</th>\n",
       "      <td>5</td>\n",
       "      <td>24000</td>\n",
       "      <td>1</td>\n",
       "      <td>2018</td>\n",
       "      <td>20.68</td>\n",
       "      <td>1995.0</td>\n",
       "      <td>1995.0</td>\n",
       "      <td>188.0</td>\n",
       "      <td>23.75</td>\n",
       "      <td>1</td>\n",
       "      <td>0</td>\n",
       "      <td>0</td>\n",
       "      <td>1</td>\n",
       "      <td>0</td>\n",
       "      <td>1</td>\n",
       "      <td>0</td>\n",
       "      <td>0</td>\n",
       "    </tr>\n",
       "    <tr>\n",
       "      <th>3</th>\n",
       "      <td>5</td>\n",
       "      <td>18378</td>\n",
       "      <td>1</td>\n",
       "      <td>2019</td>\n",
       "      <td>16.50</td>\n",
       "      <td>1353.0</td>\n",
       "      <td>1353.0</td>\n",
       "      <td>13808.0</td>\n",
       "      <td>13.56</td>\n",
       "      <td>0</td>\n",
       "      <td>1</td>\n",
       "      <td>0</td>\n",
       "      <td>0</td>\n",
       "      <td>1</td>\n",
       "      <td>1</td>\n",
       "      <td>0</td>\n",
       "      <td>0</td>\n",
       "    </tr>\n",
       "    <tr>\n",
       "      <th>4</th>\n",
       "      <td>5</td>\n",
       "      <td>44900</td>\n",
       "      <td>1</td>\n",
       "      <td>2019</td>\n",
       "      <td>14.67</td>\n",
       "      <td>1798.0</td>\n",
       "      <td>1798.0</td>\n",
       "      <td>17746.0</td>\n",
       "      <td>24.00</td>\n",
       "      <td>1</td>\n",
       "      <td>0</td>\n",
       "      <td>0</td>\n",
       "      <td>0</td>\n",
       "      <td>1</td>\n",
       "      <td>1</td>\n",
       "      <td>0</td>\n",
       "      <td>0</td>\n",
       "    </tr>\n",
       "    <tr>\n",
       "      <th>5</th>\n",
       "      <td>5</td>\n",
       "      <td>42000</td>\n",
       "      <td>1</td>\n",
       "      <td>2017</td>\n",
       "      <td>18.70</td>\n",
       "      <td>1199.0</td>\n",
       "      <td>1199.0</td>\n",
       "      <td>887.0</td>\n",
       "      <td>5.45</td>\n",
       "      <td>0</td>\n",
       "      <td>1</td>\n",
       "      <td>0</td>\n",
       "      <td>0</td>\n",
       "      <td>1</td>\n",
       "      <td>0</td>\n",
       "      <td>1</td>\n",
       "      <td>0</td>\n",
       "    </tr>\n",
       "    <tr>\n",
       "      <th>6</th>\n",
       "      <td>5</td>\n",
       "      <td>36739</td>\n",
       "      <td>1</td>\n",
       "      <td>2018</td>\n",
       "      <td>18.90</td>\n",
       "      <td>1197.0</td>\n",
       "      <td>1197.0</td>\n",
       "      <td>8186.0</td>\n",
       "      <td>5.12</td>\n",
       "      <td>0</td>\n",
       "      <td>1</td>\n",
       "      <td>0</td>\n",
       "      <td>0</td>\n",
       "      <td>1</td>\n",
       "      <td>1</td>\n",
       "      <td>0</td>\n",
       "      <td>0</td>\n",
       "    </tr>\n",
       "    <tr>\n",
       "      <th>7</th>\n",
       "      <td>5</td>\n",
       "      <td>76000</td>\n",
       "      <td>1</td>\n",
       "      <td>2018</td>\n",
       "      <td>15.80</td>\n",
       "      <td>1591.0</td>\n",
       "      <td>1591.0</td>\n",
       "      <td>1213.0</td>\n",
       "      <td>9.30</td>\n",
       "      <td>0</td>\n",
       "      <td>1</td>\n",
       "      <td>0</td>\n",
       "      <td>0</td>\n",
       "      <td>1</td>\n",
       "      <td>1</td>\n",
       "      <td>0</td>\n",
       "      <td>0</td>\n",
       "    </tr>\n",
       "    <tr>\n",
       "      <th>9</th>\n",
       "      <td>5</td>\n",
       "      <td>28783</td>\n",
       "      <td>1</td>\n",
       "      <td>2019</td>\n",
       "      <td>17.00</td>\n",
       "      <td>1198.0</td>\n",
       "      <td>1198.0</td>\n",
       "      <td>1085.0</td>\n",
       "      <td>8.02</td>\n",
       "      <td>0</td>\n",
       "      <td>1</td>\n",
       "      <td>0</td>\n",
       "      <td>0</td>\n",
       "      <td>1</td>\n",
       "      <td>1</td>\n",
       "      <td>0</td>\n",
       "      <td>0</td>\n",
       "    </tr>\n",
       "    <tr>\n",
       "      <th>10</th>\n",
       "      <td>5</td>\n",
       "      <td>40000</td>\n",
       "      <td>1</td>\n",
       "      <td>2020</td>\n",
       "      <td>17.40</td>\n",
       "      <td>1497.0</td>\n",
       "      <td>1497.0</td>\n",
       "      <td>1176.0</td>\n",
       "      <td>10.95</td>\n",
       "      <td>1</td>\n",
       "      <td>0</td>\n",
       "      <td>0</td>\n",
       "      <td>0</td>\n",
       "      <td>1</td>\n",
       "      <td>1</td>\n",
       "      <td>0</td>\n",
       "      <td>0</td>\n",
       "    </tr>\n",
       "  </tbody>\n",
       "</table>\n",
       "</div>"
      ],
      "text/plain": [
       "    seats  kms_driven  ownsership  manufacturing_year  mileage  engine  \\\n",
       "0       5       56000           1                2017     7.81  2996.0   \n",
       "1       5       30615           1                2020    17.40   999.0   \n",
       "2       5       24000           1                2018    20.68  1995.0   \n",
       "3       5       18378           1                2019    16.50  1353.0   \n",
       "4       5       44900           1                2019    14.67  1798.0   \n",
       "5       5       42000           1                2017    18.70  1199.0   \n",
       "6       5       36739           1                2018    18.90  1197.0   \n",
       "7       5       76000           1                2018    15.80  1591.0   \n",
       "9       5       28783           1                2019    17.00  1198.0   \n",
       "10      5       40000           1                2020    17.40  1497.0   \n",
       "\n",
       "    max_power   torque  price  Automatic  Manual  CNG  Diesel  Petrol  \\\n",
       "0      2996.0    333.0  63.75          1       0    0       0       1   \n",
       "1       999.0   9863.0   8.99          1       0    0       0       1   \n",
       "2      1995.0    188.0  23.75          1       0    0       1       0   \n",
       "3      1353.0  13808.0  13.56          0       1    0       0       1   \n",
       "4      1798.0  17746.0  24.00          1       0    0       0       1   \n",
       "5      1199.0    887.0   5.45          0       1    0       0       1   \n",
       "6      1197.0   8186.0   5.12          0       1    0       0       1   \n",
       "7      1591.0   1213.0   9.30          0       1    0       0       1   \n",
       "9      1198.0   1085.0   8.02          0       1    0       0       1   \n",
       "10     1497.0   1176.0  10.95          1       0    0       0       1   \n",
       "\n",
       "    Comprehensive insurance  Third Party insurance  Zero Dep insurance  \n",
       "0                         1                      0                   0  \n",
       "1                         1                      0                   0  \n",
       "2                         1                      0                   0  \n",
       "3                         1                      0                   0  \n",
       "4                         1                      0                   0  \n",
       "5                         0                      1                   0  \n",
       "6                         1                      0                   0  \n",
       "7                         1                      0                   0  \n",
       "9                         1                      0                   0  \n",
       "10                        1                      0                   0  "
      ]
     },
     "execution_count": 42,
     "metadata": {},
     "output_type": "execute_result"
    }
   ],
   "source": [
    "Ucarsdataf.head(10)"
   ]
  },
  {
   "cell_type": "code",
   "execution_count": 43,
   "id": "2cfa126f",
   "metadata": {},
   "outputs": [
    {
     "data": {
      "text/html": [
       "<div>\n",
       "<style scoped>\n",
       "    .dataframe tbody tr th:only-of-type {\n",
       "        vertical-align: middle;\n",
       "    }\n",
       "\n",
       "    .dataframe tbody tr th {\n",
       "        vertical-align: top;\n",
       "    }\n",
       "\n",
       "    .dataframe thead th {\n",
       "        text-align: right;\n",
       "    }\n",
       "</style>\n",
       "<table border=\"1\" class=\"dataframe\">\n",
       "  <thead>\n",
       "    <tr style=\"text-align: right;\">\n",
       "      <th></th>\n",
       "      <th>seats</th>\n",
       "      <th>kms_driven</th>\n",
       "      <th>ownsership</th>\n",
       "      <th>manufacturing_year</th>\n",
       "      <th>mileage</th>\n",
       "      <th>engine</th>\n",
       "      <th>max_power</th>\n",
       "      <th>torque</th>\n",
       "      <th>price</th>\n",
       "      <th>Automatic</th>\n",
       "      <th>Manual</th>\n",
       "      <th>CNG</th>\n",
       "      <th>Diesel</th>\n",
       "      <th>Petrol</th>\n",
       "      <th>Comprehensive insurance</th>\n",
       "      <th>Third Party insurance</th>\n",
       "      <th>Zero Dep insurance</th>\n",
       "    </tr>\n",
       "  </thead>\n",
       "  <tbody>\n",
       "    <tr>\n",
       "      <th>seats</th>\n",
       "      <td>1.000000</td>\n",
       "      <td>0.119641</td>\n",
       "      <td>0.067228</td>\n",
       "      <td>0.034604</td>\n",
       "      <td>-0.316768</td>\n",
       "      <td>0.459116</td>\n",
       "      <td>0.459116</td>\n",
       "      <td>0.007834</td>\n",
       "      <td>0.169792</td>\n",
       "      <td>0.098128</td>\n",
       "      <td>-0.098128</td>\n",
       "      <td>0.083031</td>\n",
       "      <td>0.360130</td>\n",
       "      <td>-0.374360</td>\n",
       "      <td>-0.080135</td>\n",
       "      <td>0.088664</td>\n",
       "      <td>-0.009232</td>\n",
       "    </tr>\n",
       "    <tr>\n",
       "      <th>kms_driven</th>\n",
       "      <td>0.119641</td>\n",
       "      <td>1.000000</td>\n",
       "      <td>0.136525</td>\n",
       "      <td>-0.535686</td>\n",
       "      <td>0.025076</td>\n",
       "      <td>0.088041</td>\n",
       "      <td>0.088041</td>\n",
       "      <td>-0.192064</td>\n",
       "      <td>-0.255010</td>\n",
       "      <td>-0.101562</td>\n",
       "      <td>0.101562</td>\n",
       "      <td>-0.023180</td>\n",
       "      <td>0.229156</td>\n",
       "      <td>-0.223098</td>\n",
       "      <td>-0.069487</td>\n",
       "      <td>0.100979</td>\n",
       "      <td>-0.060308</td>\n",
       "    </tr>\n",
       "    <tr>\n",
       "      <th>ownsership</th>\n",
       "      <td>0.067228</td>\n",
       "      <td>0.136525</td>\n",
       "      <td>1.000000</td>\n",
       "      <td>-0.211132</td>\n",
       "      <td>-0.090157</td>\n",
       "      <td>0.161840</td>\n",
       "      <td>0.161840</td>\n",
       "      <td>-0.067115</td>\n",
       "      <td>0.063571</td>\n",
       "      <td>0.098743</td>\n",
       "      <td>-0.098743</td>\n",
       "      <td>0.040553</td>\n",
       "      <td>0.110748</td>\n",
       "      <td>-0.118110</td>\n",
       "      <td>-0.121427</td>\n",
       "      <td>0.136746</td>\n",
       "      <td>-0.019189</td>\n",
       "    </tr>\n",
       "    <tr>\n",
       "      <th>manufacturing_year</th>\n",
       "      <td>0.034604</td>\n",
       "      <td>-0.535686</td>\n",
       "      <td>-0.211132</td>\n",
       "      <td>1.000000</td>\n",
       "      <td>0.017693</td>\n",
       "      <td>0.027029</td>\n",
       "      <td>0.027029</td>\n",
       "      <td>0.328229</td>\n",
       "      <td>0.302442</td>\n",
       "      <td>0.176046</td>\n",
       "      <td>-0.176046</td>\n",
       "      <td>-0.001962</td>\n",
       "      <td>-0.009671</td>\n",
       "      <td>0.010000</td>\n",
       "      <td>0.060396</td>\n",
       "      <td>-0.118203</td>\n",
       "      <td>0.118482</td>\n",
       "    </tr>\n",
       "    <tr>\n",
       "      <th>mileage</th>\n",
       "      <td>-0.316768</td>\n",
       "      <td>0.025076</td>\n",
       "      <td>-0.090157</td>\n",
       "      <td>0.017693</td>\n",
       "      <td>1.000000</td>\n",
       "      <td>-0.606225</td>\n",
       "      <td>-0.606225</td>\n",
       "      <td>0.017007</td>\n",
       "      <td>-0.457813</td>\n",
       "      <td>-0.459001</td>\n",
       "      <td>0.459001</td>\n",
       "      <td>0.134996</td>\n",
       "      <td>0.034088</td>\n",
       "      <td>-0.060711</td>\n",
       "      <td>0.070665</td>\n",
       "      <td>-0.083064</td>\n",
       "      <td>0.018727</td>\n",
       "    </tr>\n",
       "    <tr>\n",
       "      <th>engine</th>\n",
       "      <td>0.459116</td>\n",
       "      <td>0.088041</td>\n",
       "      <td>0.161840</td>\n",
       "      <td>0.027029</td>\n",
       "      <td>-0.606225</td>\n",
       "      <td>1.000000</td>\n",
       "      <td>1.000000</td>\n",
       "      <td>-0.070093</td>\n",
       "      <td>0.649740</td>\n",
       "      <td>0.522607</td>\n",
       "      <td>-0.522607</td>\n",
       "      <td>-0.064400</td>\n",
       "      <td>0.526568</td>\n",
       "      <td>-0.510435</td>\n",
       "      <td>-0.124239</td>\n",
       "      <td>0.130524</td>\n",
       "      <td>0.000749</td>\n",
       "    </tr>\n",
       "    <tr>\n",
       "      <th>max_power</th>\n",
       "      <td>0.459116</td>\n",
       "      <td>0.088041</td>\n",
       "      <td>0.161840</td>\n",
       "      <td>0.027029</td>\n",
       "      <td>-0.606225</td>\n",
       "      <td>1.000000</td>\n",
       "      <td>1.000000</td>\n",
       "      <td>-0.070093</td>\n",
       "      <td>0.649740</td>\n",
       "      <td>0.522607</td>\n",
       "      <td>-0.522607</td>\n",
       "      <td>-0.064400</td>\n",
       "      <td>0.526568</td>\n",
       "      <td>-0.510435</td>\n",
       "      <td>-0.124239</td>\n",
       "      <td>0.130524</td>\n",
       "      <td>0.000749</td>\n",
       "    </tr>\n",
       "    <tr>\n",
       "      <th>torque</th>\n",
       "      <td>0.007834</td>\n",
       "      <td>-0.192064</td>\n",
       "      <td>-0.067115</td>\n",
       "      <td>0.328229</td>\n",
       "      <td>0.017007</td>\n",
       "      <td>-0.070093</td>\n",
       "      <td>-0.070093</td>\n",
       "      <td>1.000000</td>\n",
       "      <td>0.056547</td>\n",
       "      <td>0.083515</td>\n",
       "      <td>-0.083515</td>\n",
       "      <td>-0.012427</td>\n",
       "      <td>0.017950</td>\n",
       "      <td>-0.015366</td>\n",
       "      <td>0.044506</td>\n",
       "      <td>-0.065966</td>\n",
       "      <td>0.041426</td>\n",
       "    </tr>\n",
       "    <tr>\n",
       "      <th>price</th>\n",
       "      <td>0.169792</td>\n",
       "      <td>-0.255010</td>\n",
       "      <td>0.063571</td>\n",
       "      <td>0.302442</td>\n",
       "      <td>-0.457813</td>\n",
       "      <td>0.649740</td>\n",
       "      <td>0.649740</td>\n",
       "      <td>0.056547</td>\n",
       "      <td>1.000000</td>\n",
       "      <td>0.539644</td>\n",
       "      <td>-0.539644</td>\n",
       "      <td>-0.045632</td>\n",
       "      <td>0.318913</td>\n",
       "      <td>-0.307825</td>\n",
       "      <td>-0.086214</td>\n",
       "      <td>0.023191</td>\n",
       "      <td>0.146786</td>\n",
       "    </tr>\n",
       "    <tr>\n",
       "      <th>Automatic</th>\n",
       "      <td>0.098128</td>\n",
       "      <td>-0.101562</td>\n",
       "      <td>0.098743</td>\n",
       "      <td>0.176046</td>\n",
       "      <td>-0.459001</td>\n",
       "      <td>0.522607</td>\n",
       "      <td>0.522607</td>\n",
       "      <td>0.083515</td>\n",
       "      <td>0.539644</td>\n",
       "      <td>1.000000</td>\n",
       "      <td>-1.000000</td>\n",
       "      <td>-0.082814</td>\n",
       "      <td>0.212297</td>\n",
       "      <td>-0.194490</td>\n",
       "      <td>-0.074088</td>\n",
       "      <td>0.045094</td>\n",
       "      <td>0.071517</td>\n",
       "    </tr>\n",
       "    <tr>\n",
       "      <th>Manual</th>\n",
       "      <td>-0.098128</td>\n",
       "      <td>0.101562</td>\n",
       "      <td>-0.098743</td>\n",
       "      <td>-0.176046</td>\n",
       "      <td>0.459001</td>\n",
       "      <td>-0.522607</td>\n",
       "      <td>-0.522607</td>\n",
       "      <td>-0.083515</td>\n",
       "      <td>-0.539644</td>\n",
       "      <td>-1.000000</td>\n",
       "      <td>1.000000</td>\n",
       "      <td>0.082814</td>\n",
       "      <td>-0.212297</td>\n",
       "      <td>0.194490</td>\n",
       "      <td>0.074088</td>\n",
       "      <td>-0.045094</td>\n",
       "      <td>-0.071517</td>\n",
       "    </tr>\n",
       "    <tr>\n",
       "      <th>CNG</th>\n",
       "      <td>0.083031</td>\n",
       "      <td>-0.023180</td>\n",
       "      <td>0.040553</td>\n",
       "      <td>-0.001962</td>\n",
       "      <td>0.134996</td>\n",
       "      <td>-0.064400</td>\n",
       "      <td>-0.064400</td>\n",
       "      <td>-0.012427</td>\n",
       "      <td>-0.045632</td>\n",
       "      <td>-0.082814</td>\n",
       "      <td>0.082814</td>\n",
       "      <td>1.000000</td>\n",
       "      <td>-0.068128</td>\n",
       "      <td>-0.131112</td>\n",
       "      <td>-0.019717</td>\n",
       "      <td>0.029677</td>\n",
       "      <td>-0.019336</td>\n",
       "    </tr>\n",
       "    <tr>\n",
       "      <th>Diesel</th>\n",
       "      <td>0.360130</td>\n",
       "      <td>0.229156</td>\n",
       "      <td>0.110748</td>\n",
       "      <td>-0.009671</td>\n",
       "      <td>0.034088</td>\n",
       "      <td>0.526568</td>\n",
       "      <td>0.526568</td>\n",
       "      <td>0.017950</td>\n",
       "      <td>0.318913</td>\n",
       "      <td>0.212297</td>\n",
       "      <td>-0.212297</td>\n",
       "      <td>-0.068128</td>\n",
       "      <td>1.000000</td>\n",
       "      <td>-0.980132</td>\n",
       "      <td>-0.083168</td>\n",
       "      <td>0.076081</td>\n",
       "      <td>0.025015</td>\n",
       "    </tr>\n",
       "    <tr>\n",
       "      <th>Petrol</th>\n",
       "      <td>-0.374360</td>\n",
       "      <td>-0.223098</td>\n",
       "      <td>-0.118110</td>\n",
       "      <td>0.010000</td>\n",
       "      <td>-0.060711</td>\n",
       "      <td>-0.510435</td>\n",
       "      <td>-0.510435</td>\n",
       "      <td>-0.015366</td>\n",
       "      <td>-0.307825</td>\n",
       "      <td>-0.194490</td>\n",
       "      <td>0.194490</td>\n",
       "      <td>-0.131112</td>\n",
       "      <td>-0.980132</td>\n",
       "      <td>1.000000</td>\n",
       "      <td>0.086562</td>\n",
       "      <td>-0.081500</td>\n",
       "      <td>-0.021012</td>\n",
       "    </tr>\n",
       "    <tr>\n",
       "      <th>Comprehensive insurance</th>\n",
       "      <td>-0.080135</td>\n",
       "      <td>-0.069487</td>\n",
       "      <td>-0.121427</td>\n",
       "      <td>0.060396</td>\n",
       "      <td>0.070665</td>\n",
       "      <td>-0.124239</td>\n",
       "      <td>-0.124239</td>\n",
       "      <td>0.044506</td>\n",
       "      <td>-0.086214</td>\n",
       "      <td>-0.074088</td>\n",
       "      <td>0.074088</td>\n",
       "      <td>-0.019717</td>\n",
       "      <td>-0.083168</td>\n",
       "      <td>0.086562</td>\n",
       "      <td>1.000000</td>\n",
       "      <td>-0.900607</td>\n",
       "      <td>-0.331570</td>\n",
       "    </tr>\n",
       "    <tr>\n",
       "      <th>Third Party insurance</th>\n",
       "      <td>0.088664</td>\n",
       "      <td>0.100979</td>\n",
       "      <td>0.136746</td>\n",
       "      <td>-0.118203</td>\n",
       "      <td>-0.083064</td>\n",
       "      <td>0.130524</td>\n",
       "      <td>0.130524</td>\n",
       "      <td>-0.065966</td>\n",
       "      <td>0.023191</td>\n",
       "      <td>0.045094</td>\n",
       "      <td>-0.045094</td>\n",
       "      <td>0.029677</td>\n",
       "      <td>0.076081</td>\n",
       "      <td>-0.081500</td>\n",
       "      <td>-0.900607</td>\n",
       "      <td>1.000000</td>\n",
       "      <td>-0.111433</td>\n",
       "    </tr>\n",
       "    <tr>\n",
       "      <th>Zero Dep insurance</th>\n",
       "      <td>-0.009232</td>\n",
       "      <td>-0.060308</td>\n",
       "      <td>-0.019189</td>\n",
       "      <td>0.118482</td>\n",
       "      <td>0.018727</td>\n",
       "      <td>0.000749</td>\n",
       "      <td>0.000749</td>\n",
       "      <td>0.041426</td>\n",
       "      <td>0.146786</td>\n",
       "      <td>0.071517</td>\n",
       "      <td>-0.071517</td>\n",
       "      <td>-0.019336</td>\n",
       "      <td>0.025015</td>\n",
       "      <td>-0.021012</td>\n",
       "      <td>-0.331570</td>\n",
       "      <td>-0.111433</td>\n",
       "      <td>1.000000</td>\n",
       "    </tr>\n",
       "  </tbody>\n",
       "</table>\n",
       "</div>"
      ],
      "text/plain": [
       "                            seats  kms_driven  ownsership  manufacturing_year  \\\n",
       "seats                    1.000000    0.119641    0.067228            0.034604   \n",
       "kms_driven               0.119641    1.000000    0.136525           -0.535686   \n",
       "ownsership               0.067228    0.136525    1.000000           -0.211132   \n",
       "manufacturing_year       0.034604   -0.535686   -0.211132            1.000000   \n",
       "mileage                 -0.316768    0.025076   -0.090157            0.017693   \n",
       "engine                   0.459116    0.088041    0.161840            0.027029   \n",
       "max_power                0.459116    0.088041    0.161840            0.027029   \n",
       "torque                   0.007834   -0.192064   -0.067115            0.328229   \n",
       "price                    0.169792   -0.255010    0.063571            0.302442   \n",
       "Automatic                0.098128   -0.101562    0.098743            0.176046   \n",
       "Manual                  -0.098128    0.101562   -0.098743           -0.176046   \n",
       "CNG                      0.083031   -0.023180    0.040553           -0.001962   \n",
       "Diesel                   0.360130    0.229156    0.110748           -0.009671   \n",
       "Petrol                  -0.374360   -0.223098   -0.118110            0.010000   \n",
       "Comprehensive insurance -0.080135   -0.069487   -0.121427            0.060396   \n",
       "Third Party insurance    0.088664    0.100979    0.136746           -0.118203   \n",
       "Zero Dep insurance      -0.009232   -0.060308   -0.019189            0.118482   \n",
       "\n",
       "                          mileage    engine  max_power    torque     price  \\\n",
       "seats                   -0.316768  0.459116   0.459116  0.007834  0.169792   \n",
       "kms_driven               0.025076  0.088041   0.088041 -0.192064 -0.255010   \n",
       "ownsership              -0.090157  0.161840   0.161840 -0.067115  0.063571   \n",
       "manufacturing_year       0.017693  0.027029   0.027029  0.328229  0.302442   \n",
       "mileage                  1.000000 -0.606225  -0.606225  0.017007 -0.457813   \n",
       "engine                  -0.606225  1.000000   1.000000 -0.070093  0.649740   \n",
       "max_power               -0.606225  1.000000   1.000000 -0.070093  0.649740   \n",
       "torque                   0.017007 -0.070093  -0.070093  1.000000  0.056547   \n",
       "price                   -0.457813  0.649740   0.649740  0.056547  1.000000   \n",
       "Automatic               -0.459001  0.522607   0.522607  0.083515  0.539644   \n",
       "Manual                   0.459001 -0.522607  -0.522607 -0.083515 -0.539644   \n",
       "CNG                      0.134996 -0.064400  -0.064400 -0.012427 -0.045632   \n",
       "Diesel                   0.034088  0.526568   0.526568  0.017950  0.318913   \n",
       "Petrol                  -0.060711 -0.510435  -0.510435 -0.015366 -0.307825   \n",
       "Comprehensive insurance  0.070665 -0.124239  -0.124239  0.044506 -0.086214   \n",
       "Third Party insurance   -0.083064  0.130524   0.130524 -0.065966  0.023191   \n",
       "Zero Dep insurance       0.018727  0.000749   0.000749  0.041426  0.146786   \n",
       "\n",
       "                         Automatic    Manual       CNG    Diesel    Petrol  \\\n",
       "seats                     0.098128 -0.098128  0.083031  0.360130 -0.374360   \n",
       "kms_driven               -0.101562  0.101562 -0.023180  0.229156 -0.223098   \n",
       "ownsership                0.098743 -0.098743  0.040553  0.110748 -0.118110   \n",
       "manufacturing_year        0.176046 -0.176046 -0.001962 -0.009671  0.010000   \n",
       "mileage                  -0.459001  0.459001  0.134996  0.034088 -0.060711   \n",
       "engine                    0.522607 -0.522607 -0.064400  0.526568 -0.510435   \n",
       "max_power                 0.522607 -0.522607 -0.064400  0.526568 -0.510435   \n",
       "torque                    0.083515 -0.083515 -0.012427  0.017950 -0.015366   \n",
       "price                     0.539644 -0.539644 -0.045632  0.318913 -0.307825   \n",
       "Automatic                 1.000000 -1.000000 -0.082814  0.212297 -0.194490   \n",
       "Manual                   -1.000000  1.000000  0.082814 -0.212297  0.194490   \n",
       "CNG                      -0.082814  0.082814  1.000000 -0.068128 -0.131112   \n",
       "Diesel                    0.212297 -0.212297 -0.068128  1.000000 -0.980132   \n",
       "Petrol                   -0.194490  0.194490 -0.131112 -0.980132  1.000000   \n",
       "Comprehensive insurance  -0.074088  0.074088 -0.019717 -0.083168  0.086562   \n",
       "Third Party insurance     0.045094 -0.045094  0.029677  0.076081 -0.081500   \n",
       "Zero Dep insurance        0.071517 -0.071517 -0.019336  0.025015 -0.021012   \n",
       "\n",
       "                         Comprehensive insurance  Third Party insurance  \\\n",
       "seats                                  -0.080135               0.088664   \n",
       "kms_driven                             -0.069487               0.100979   \n",
       "ownsership                             -0.121427               0.136746   \n",
       "manufacturing_year                      0.060396              -0.118203   \n",
       "mileage                                 0.070665              -0.083064   \n",
       "engine                                 -0.124239               0.130524   \n",
       "max_power                              -0.124239               0.130524   \n",
       "torque                                  0.044506              -0.065966   \n",
       "price                                  -0.086214               0.023191   \n",
       "Automatic                              -0.074088               0.045094   \n",
       "Manual                                  0.074088              -0.045094   \n",
       "CNG                                    -0.019717               0.029677   \n",
       "Diesel                                 -0.083168               0.076081   \n",
       "Petrol                                  0.086562              -0.081500   \n",
       "Comprehensive insurance                 1.000000              -0.900607   \n",
       "Third Party insurance                  -0.900607               1.000000   \n",
       "Zero Dep insurance                     -0.331570              -0.111433   \n",
       "\n",
       "                         Zero Dep insurance  \n",
       "seats                             -0.009232  \n",
       "kms_driven                        -0.060308  \n",
       "ownsership                        -0.019189  \n",
       "manufacturing_year                 0.118482  \n",
       "mileage                            0.018727  \n",
       "engine                             0.000749  \n",
       "max_power                          0.000749  \n",
       "torque                             0.041426  \n",
       "price                              0.146786  \n",
       "Automatic                          0.071517  \n",
       "Manual                            -0.071517  \n",
       "CNG                               -0.019336  \n",
       "Diesel                             0.025015  \n",
       "Petrol                            -0.021012  \n",
       "Comprehensive insurance           -0.331570  \n",
       "Third Party insurance             -0.111433  \n",
       "Zero Dep insurance                 1.000000  "
      ]
     },
     "execution_count": 43,
     "metadata": {},
     "output_type": "execute_result"
    }
   ],
   "source": [
    "#data visualisation (lab phase step 2)\n",
    "Ucarsdataf.corr()"
   ]
  },
  {
   "cell_type": "code",
   "execution_count": 44,
   "id": "7f990360",
   "metadata": {},
   "outputs": [
    {
     "data": {
      "text/plain": [
       "<function matplotlib.pyplot.show(close=None, block=None)>"
      ]
     },
     "execution_count": 44,
     "metadata": {},
     "output_type": "execute_result"
    },
    {
     "data": {
      "image/png": "[encoded data removed]",
      "text/plain": [
       "<Figure size 640x480 with 2 Axes>"
      ]
     },
     "metadata": {},
     "output_type": "display_data"
    }
   ],
   "source": [
    "sns.heatmap(Ucarsdataf.corr(),annot=False,cmap='plasma')\n",
    "plt.show"
   ]
  },
  {
   "cell_type": "code",
   "execution_count": 45,
   "id": "e36212ca",
   "metadata": {},
   "outputs": [
    {
     "data": {
      "text/plain": [
       "<function matplotlib.pyplot.show(close=None, block=None)>"
      ]
     },
     "execution_count": 45,
     "metadata": {},
     "output_type": "execute_result"
    },
    {
     "data": {
      "image/png": "[encoded data removed]",
      "text/plain": [
       "<Figure size 640x480 with 1 Axes>"
      ]
     },
     "metadata": {},
     "output_type": "display_data"
    }
   ],
   "source": [
    "plt.plot(Ucarsdataf[\"ownsership\"],Ucarsdataf[\"price\"],'ro')\n",
    "plt.show"
   ]
  },
  {
   "cell_type": "code",
   "execution_count": 46,
   "id": "843849e5",
   "metadata": {},
   "outputs": [
    {
     "data": {
      "text/plain": [
       "<function matplotlib.pyplot.show(close=None, block=None)>"
      ]
     },
     "execution_count": 46,
     "metadata": {},
     "output_type": "execute_result"
    },
    {
     "data": {
      "image/png": "[encoded data removed]",
      "text/plain": [
       "<Figure size 640x480 with 1 Axes>"
      ]
     },
     "metadata": {},
     "output_type": "display_data"
    }
   ],
   "source": [
    "plt.plot(Ucarsdataf[\"seats\"],Ucarsdataf[\"price\"],'ro')\n",
    "plt.show"
   ]
  },
  {
   "cell_type": "code",
   "execution_count": 47,
   "id": "5f97d1bf",
   "metadata": {},
   "outputs": [
    {
     "data": {
      "text/plain": [
       "<function matplotlib.pyplot.show(close=None, block=None)>"
      ]
     },
     "execution_count": 47,
     "metadata": {},
     "output_type": "execute_result"
    },
    {
     "data": {
      "image/png": "[encoded data removed]",
      "text/plain": [
       "<Figure size 640x480 with 1 Axes>"
      ]
     },
     "metadata": {},
     "output_type": "display_data"
    }
   ],
   "source": [
    "plt.plot(Ucarsdataf[\"kms_driven\"],Ucarsdataf[\"price\"],'ro')\n",
    "plt.show"
   ]
  },
  {
   "cell_type": "code",
   "execution_count": 48,
   "id": "2f5e8dc0",
   "metadata": {},
   "outputs": [
    {
     "data": {
      "text/plain": [
       "<function matplotlib.pyplot.show(close=None, block=None)>"
      ]
     },
     "execution_count": 48,
     "metadata": {},
     "output_type": "execute_result"
    },
    {
     "data": {
      "image/png": "[encoded data removed]",
      "text/plain": [
       "<Figure size 640x480 with 1 Axes>"
      ]
     },
     "metadata": {},
     "output_type": "display_data"
    }
   ],
   "source": [
    "plt.plot(Ucarsdataf[\"manufacturing_year\"],Ucarsdataf[\"price\"],'ro')\n",
    "plt.show"
   ]
  },
  {
   "cell_type": "code",
   "execution_count": 49,
   "id": "a55e9b99",
   "metadata": {},
   "outputs": [
    {
     "data": {
      "text/plain": [
       "<function matplotlib.pyplot.show(close=None, block=None)>"
      ]
     },
     "execution_count": 49,
     "metadata": {},
     "output_type": "execute_result"
    },
    {
     "data": {
      "image/png": "[encoded data removed]",
      "text/plain": [
       "<Figure size 640x480 with 1 Axes>"
      ]
     },
     "metadata": {},
     "output_type": "display_data"
    }
   ],
   "source": [
    "plt.plot(Ucarsdataf[\"mileage\"],Ucarsdataf[\"price\"],'ro')\n",
    "plt.show"
   ]
  },
  {
   "cell_type": "code",
   "execution_count": 50,
   "id": "b5b734c4",
   "metadata": {},
   "outputs": [
    {
     "data": {
      "text/plain": [
       "<function matplotlib.pyplot.show(close=None, block=None)>"
      ]
     },
     "execution_count": 50,
     "metadata": {},
     "output_type": "execute_result"
    },
    {
     "data": {
      "image/png": "[encoded data removed]",
      "text/plain": [
       "<Figure size 640x480 with 1 Axes>"
      ]
     },
     "metadata": {},
     "output_type": "display_data"
    }
   ],
   "source": [
    "plt.plot(Ucarsdataf[\"engine\"],Ucarsdataf[\"price\"],'ro')\n",
    "plt.show"
   ]
  },
  {
   "cell_type": "code",
   "execution_count": 51,
   "id": "7b29ec83",
   "metadata": {},
   "outputs": [
    {
     "data": {
      "text/plain": [
       "<function matplotlib.pyplot.show(close=None, block=None)>"
      ]
     },
     "execution_count": 51,
     "metadata": {},
     "output_type": "execute_result"
    },
    {
     "data": {
      "image/png": "[encoded data removed]",
      "text/plain": [
       "<Figure size 640x480 with 1 Axes>"
      ]
     },
     "metadata": {},
     "output_type": "display_data"
    }
   ],
   "source": [
    "plt.plot(Ucarsdataf[\"max_power\"],Ucarsdataf[\"price\"],'ro')\n",
    "plt.show"
   ]
  },
  {
   "cell_type": "code",
   "execution_count": 52,
   "id": "a25f0c5e",
   "metadata": {},
   "outputs": [
    {
     "data": {
      "text/plain": [
       "<function matplotlib.pyplot.show(close=None, block=None)>"
      ]
     },
     "execution_count": 52,
     "metadata": {},
     "output_type": "execute_result"
    },
    {
     "data": {
      "image/png": "[encoded data removed]",
      "text/plain": [
       "<Figure size 640x480 with 1 Axes>"
      ]
     },
     "metadata": {},
     "output_type": "display_data"
    }
   ],
   "source": [
    "plt.plot(Ucarsdataf[\"torque\"],Ucarsdataf[\"price\"],'ro')\n",
    "plt.show"
   ]
  },
  {
   "cell_type": "code",
   "execution_count": 53,
   "id": "b5f8f821",
   "metadata": {},
   "outputs": [
    {
     "data": {
      "text/plain": [
       "<function matplotlib.pyplot.show(close=None, block=None)>"
      ]
     },
     "execution_count": 53,
     "metadata": {},
     "output_type": "execute_result"
    },
    {
     "data": {
      "image/png": "[encoded data removed]",
      "text/plain": [
       "<Figure size 640x480 with 1 Axes>"
      ]
     },
     "metadata": {},
     "output_type": "display_data"
    }
   ],
   "source": [
    "plt.plot(Ucarsdataf[\"Automatic\"],Ucarsdataf[\"price\"],'ro')\n",
    "plt.show"
   ]
  },
  {
   "cell_type": "code",
   "execution_count": 54,
   "id": "3a377b84",
   "metadata": {},
   "outputs": [
    {
     "data": {
      "text/plain": [
       "<function matplotlib.pyplot.show(close=None, block=None)>"
      ]
     },
     "execution_count": 54,
     "metadata": {},
     "output_type": "execute_result"
    },
    {
     "data": {
      "image/png": "[encoded data removed]",
      "text/plain": [
       "<Figure size 640x480 with 1 Axes>"
      ]
     },
     "metadata": {},
     "output_type": "display_data"
    }
   ],
   "source": [
    "plt.plot(Ucarsdataf[\"Manual\"],Ucarsdataf[\"price\"],'ro')\n",
    "plt.show"
   ]
  },
  {
   "cell_type": "code",
   "execution_count": 55,
   "id": "60eb95a6",
   "metadata": {},
   "outputs": [
    {
     "data": {
      "text/plain": [
       "<function matplotlib.pyplot.show(close=None, block=None)>"
      ]
     },
     "execution_count": 55,
     "metadata": {},
     "output_type": "execute_result"
    },
    {
     "data": {
      "image/png": "[encoded data removed]",
      "text/plain": [
       "<Figure size 640x480 with 1 Axes>"
      ]
     },
     "metadata": {},
     "output_type": "display_data"
    }
   ],
   "source": [
    "plt.plot(Ucarsdataf[\"CNG\"],Ucarsdataf[\"price\"],'ro')\n",
    "plt.show"
   ]
  },
  {
   "cell_type": "code",
   "execution_count": 56,
   "id": "5ba599f6",
   "metadata": {},
   "outputs": [
    {
     "data": {
      "text/plain": [
       "<function matplotlib.pyplot.show(close=None, block=None)>"
      ]
     },
     "execution_count": 56,
     "metadata": {},
     "output_type": "execute_result"
    },
    {
     "data": {
      "image/png": "[encoded data removed]",
      "text/plain": [
       "<Figure size 640x480 with 1 Axes>"
      ]
     },
     "metadata": {},
     "output_type": "display_data"
    }
   ],
   "source": [
    "plt.plot(Ucarsdataf[\"Diesel\"],Ucarsdataf[\"price\"],'ro')\n",
    "plt.show"
   ]
  },
  {
   "cell_type": "code",
   "execution_count": 57,
   "id": "99fe9722",
   "metadata": {},
   "outputs": [
    {
     "data": {
      "text/plain": [
       "<function matplotlib.pyplot.show(close=None, block=None)>"
      ]
     },
     "execution_count": 57,
     "metadata": {},
     "output_type": "execute_result"
    },
    {
     "data": {
      "image/png": "[encoded data removed]",
      "text/plain": [
       "<Figure size 640x480 with 1 Axes>"
      ]
     },
     "metadata": {},
     "output_type": "display_data"
    }
   ],
   "source": [
    "plt.plot(Ucarsdataf[\"Petrol\"],Ucarsdataf[\"price\"],'ro')\n",
    "plt.show"
   ]
  },
  {
   "cell_type": "code",
   "execution_count": 58,
   "id": "f5e6aff1",
   "metadata": {},
   "outputs": [
    {
     "data": {
      "text/plain": [
       "<function matplotlib.pyplot.show(close=None, block=None)>"
      ]
     },
     "execution_count": 58,
     "metadata": {},
     "output_type": "execute_result"
    },
    {
     "data": {
      "image/png": "[encoded data removed]",
      "text/plain": [
       "<Figure size 640x480 with 1 Axes>"
      ]
     },
     "metadata": {},
     "output_type": "display_data"
    }
   ],
   "source": [
    "plt.plot(Ucarsdataf[\"Comprehensive insurance\"],Ucarsdataf[\"price\"],'ro')\n",
    "plt.show"
   ]
  },
  {
   "cell_type": "code",
   "execution_count": 59,
   "id": "b14830e0",
   "metadata": {},
   "outputs": [
    {
     "data": {
      "text/plain": [
       "<function matplotlib.pyplot.show(close=None, block=None)>"
      ]
     },
     "execution_count": 59,
     "metadata": {},
     "output_type": "execute_result"
    },
    {
     "data": {
      "image/png": "[encoded data removed]",
      "text/plain": [
       "<Figure size 640x480 with 1 Axes>"
      ]
     },
     "metadata": {},
     "output_type": "display_data"
    }
   ],
   "source": [
    "plt.plot(Ucarsdataf[\"Third Party insurance\"],Ucarsdataf[\"price\"],'ro')\n",
    "plt.show"
   ]
  },
  {
   "cell_type": "code",
   "execution_count": 60,
   "id": "f3a8d4e1",
   "metadata": {},
   "outputs": [
    {
     "data": {
      "text/plain": [
       "<function matplotlib.pyplot.show(close=None, block=None)>"
      ]
     },
     "execution_count": 60,
     "metadata": {},
     "output_type": "execute_result"
    },
    {
     "data": {
      "image/png": "[encoded data removed]",
      "text/plain": [
       "<Figure size 640x480 with 1 Axes>"
      ]
     },
     "metadata": {},
     "output_type": "display_data"
    }
   ],
   "source": [
    "plt.plot(Ucarsdataf[\"Zero Dep insurance\"],Ucarsdataf[\"price\"],'ro')\n",
    "plt.show"
   ]
  },
  {
   "cell_type": "code",
   "execution_count": 62,
   "id": "1a68f11a",
   "metadata": {},
   "outputs": [
    {
     "name": "stdout",
     "output_type": "stream",
     "text": [
      "Mean Squared Error (MSE): 67.53673663597488\n",
      "R squared:  0.6410663440363784\n"
     ]
    }
   ],
   "source": [
    "#polynomial\n",
    "from sklearn.model_selection import train_test_split\n",
    "from sklearn.linear_model import LinearRegression\n",
    "from sklearn.preprocessing import PolynomialFeatures \n",
    "\n",
    "from sklearn.metrics import mean_squared_error\n",
    "from sklearn import metrics\n",
    "x= Ucarsdataf[[\"Petrol\", \"Diesel\",'Manual','Automatic','mileage','manufacturing_year','kms_driven',\"CNG\",'torque',\n",
    "               \"engine\"]]\n",
    "y= Ucarsdataf[\"price\"].values\n",
    "\n",
    "x_train, x_test, y_train, y_test = train_test_split(x, y, test_size=0.45, random_state=40)  #splitting data\n",
    "lg=LinearRegression()\n",
    "poly=PolynomialFeatures(degree=2)\n",
    "\n",
    "x_train_fit = poly.fit_transform(x_train) #transforming our input data\n",
    "lg.fit(x_train_fit, y_train)\n",
    "x_test_ = poly.fit_transform(x_test)\n",
    "predicted = lg.predict(x_test_)\n",
    "#,,,,,\"seats\",\n",
    "#,\"Zero Dep insurance\",\"Third Party insurance\",\"Comprehensive insurance\",\"max_power\"\n",
    "print(\"Mean Squared Error (MSE):\", metrics.mean_squared_error(y_test, predicted))\n",
    "print(\"R squared: \", metrics.r2_score(y_test,predicted))"
   ]
  },
  {
   "cell_type": "code",
   "execution_count": 63,
   "id": "618304b8",
   "metadata": {},
   "outputs": [
    {
     "name": "stdout",
     "output_type": "stream",
     "text": [
      "Mean Squared Error (MSE): 80.54193501050489\n",
      "R squared 0.5715099731908122\n"
     ]
    }
   ],
   "source": [
    "#multilinear\n",
    "x1=Ucarsdataf[[\"Petrol\", \"Diesel\",'Manual','Automatic','mileage','manufacturing_year','kms_driven',\"CNG\",'torque',\n",
    "               \"engine\"]]  #we have more than one input\n",
    "y1=Ucarsdataf[\"price\"].values\n",
    "x_train1,x_test1,y_train1,y_test1=train_test_split(x1,y1,test_size=0.5,random_state=40) #splitting data with test size of 35%\n",
    "\n",
    "model=LinearRegression() #build linear regression model\n",
    "model.fit(x_train1,y_train1) #fitting the training data\n",
    "predicted=model.predict(x_test1) #testing our model’s performance\n",
    "\n",
    "print('Mean Squared Error (MSE):', mean_squared_error(y_test1,predicted))\n",
    "print(\"R squared\", metrics.r2_score(y_test1,predicted))"
   ]
  },
  {
   "cell_type": "code",
   "execution_count": 64,
   "id": "9f3ed99c",
   "metadata": {},
   "outputs": [
    {
     "name": "stdout",
     "output_type": "stream",
     "text": [
      "Mean Squared Error (MSE): 39.65977404214559\n",
      "R squared 0.773252778701478\n"
     ]
    }
   ],
   "source": [
    "#DecisionTree\n",
    "from sklearn.tree import DecisionTreeRegressor\n",
    "dtregressor = DecisionTreeRegressor()\n",
    "X2 = Ucarsdataf[[\"Petrol\", \"Diesel\",'Manual','Automatic','mileage','manufacturing_year','kms_driven',\"CNG\",'torque',\n",
    "               \"engine\"]]\n",
    "y2 = Ucarsdataf[['price']]\n",
    "from sklearn.model_selection import train_test_split\n",
    "X_train2, X_test2, y_train2, y_test2 = train_test_split(X2, y2, test_size=0.50)\n",
    "dtregressor.fit(X_train2, y_train2)\n",
    "#Model Evaluation\n",
    "from sklearn import metrics\n",
    "y_pred2 = dtregressor.predict(X_test2)\n",
    "#Model Evaluation\n",
    "#print('Mean Absolute Error (MAE):', metrics.mean_absolute_error(y_test2, y_pred2))\n",
    "print('Mean Squared Error (MSE):', metrics.mean_squared_error(y_test2, y_pred2))\n",
    "#print('Explained Variance Score:', metrics.explained_variance_score(y_test2, y_pred2))\n",
    "#print('Mean Squared Log Error:', metrics.mean_squared_log_error(y_test2, y_pred2))\n",
    "#print('Median Absolute Error:', metrics.median_absolute_error(y_test2, y_pred2))\n",
    "print('R squared', metrics.r2_score(y_test2, y_pred2)) #Check the accuracty when changing the sample size"
   ]
  },
  {
   "cell_type": "code",
   "execution_count": 65,
   "id": "cae74571",
   "metadata": {},
   "outputs": [
    {
     "data": {
      "text/plain": [
       "['Usedcars_model.joblib']"
      ]
     },
     "execution_count": 65,
     "metadata": {},
     "output_type": "execute_result"
    }
   ],
   "source": [
    "#export model \n",
    "import joblib\n",
    "filename = \"Usedcars_model.joblib\" \n",
    "joblib.dump(dtregressor, filename)"
   ]
  },
  {
   "cell_type": "code",
   "execution_count": 66,
   "id": "8a92c2e9",
   "metadata": {},
   "outputs": [
    {
     "name": "stderr",
     "output_type": "stream",
     "text": [
      "C:\\Users\\HP\\anaconda3\\lib\\site-packages\\sklearn\\base.py:420: UserWarning: X does not have valid feature names, but DecisionTreeRegressor was fitted with feature names\n",
      "  warnings.warn(\n"
     ]
    },
    {
     "data": {
      "text/plain": [
       "array([7.45])"
      ]
     },
     "execution_count": 66,
     "metadata": {},
     "output_type": "execute_result"
    }
   ],
   "source": [
    "#import model and test\n",
    "import joblib\n",
    "loaded_model = joblib.load(filename)\n",
    "Petrol=0 \n",
    "Diesel=1\n",
    "Man=0\n",
    "Auto=1\n",
    "mileage=18.88\n",
    "manufacturing_year=2014\n",
    "kms_driven=120000\n",
    "CNG=0\n",
    "torque=184\n",
    "engine=1995\n",
    "Ypredict = loaded_model.predict([[Petrol, Diesel,Man,Auto,mileage,manufacturing_year,kms_driven,CNG,torque,\n",
    "            engine]])\n",
    "Ypredict"
   ]
  },
  {
   "cell_type": "code",
   "execution_count": null,
   "id": "45b8b0ab",
   "metadata": {},
   "outputs": [],
   "source": []
  }
 ],
 "metadata": {
  "kernelspec": {
   "display_name": "Python 3 (ipykernel)",
   "language": "python",
   "name": "python3"
  },
  "language_info": {
   "codemirror_mode": {
    "name": "ipython",
    "version": 3
   },
   "file_extension": ".py",
   "mimetype": "text/x-python",
   "name": "python",
   "nbconvert_exporter": "python",
   "pygments_lexer": "ipython3",
   "version": "3.10.9"
  }
 },
 "nbformat": 4,
 "nbformat_minor": 5
}
