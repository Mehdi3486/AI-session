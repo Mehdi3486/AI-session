{
 "cells": [
  {
   "cell_type": "code",
   "execution_count": 45,
   "id": "47a5c809",
   "metadata": {},
   "outputs": [],
   "source": [
    "import pandas as pd\n",
    "from sklearn.model_selection import train_test_split\n",
    "from sklearn.linear_model import LogisticRegression\n",
    "from sklearn import metrics\n",
    "import seaborn as sns\n",
    "Hrt=pd.read_csv(\"logistic_regression_dataset.csv\")\n",
    "#Hrt.isna().sum()\n",
    "Hrtclea=Hrt.dropna(axis=0,how='any')\n",
    "#Hrtclea\n",
    "one_hot_encoded_data = pd.get_dummies(Hrtclea ['sex'])\n",
    "one_hot_encoded_data1 = pd.get_dummies(Hrtclea ['is_smoking'])\n",
    "Hrtclea=Hrtclea.drop('sex',axis=1)\n",
    "Hrtclea=Hrtclea.drop('is_smoking',axis=1)\n",
    "Hrtclea=Hrtclea.join(one_hot_encoded_data)\n",
    "Hrtclea=Hrtclea.join(one_hot_encoded_data1)\n",
    "#Hrtclea\n",
    "Hrtclea=Hrtclea.drop(['id'], axis=1)\n",
    "\n"
   ]
  },
  {
   "cell_type": "code",
   "execution_count": 46,
   "id": "5ee0c231",
   "metadata": {},
   "outputs": [
    {
     "name": "stdout",
     "output_type": "stream",
     "text": [
      "Accuracy=0.84\n",
      "              precision    recall  f1-score   support\n",
      "\n",
      "         0.0       0.84      1.00      0.91       612\n",
      "         1.0       1.00      0.03      0.05       120\n",
      "\n",
      "    accuracy                           0.84       732\n",
      "   macro avg       0.92      0.51      0.48       732\n",
      "weighted avg       0.87      0.84      0.77       732\n",
      "\n"
     ]
    },
    {
     "name": "stderr",
     "output_type": "stream",
     "text": [
      "C:\\Users\\HP\\anaconda3\\lib\\site-packages\\sklearn\\linear_model\\_logistic.py:458: ConvergenceWarning: lbfgs failed to converge (status=1):\n",
      "STOP: TOTAL NO. of ITERATIONS REACHED LIMIT.\n",
      "\n",
      "Increase the number of iterations (max_iter) or scale the data as shown in:\n",
      "    https://scikit-learn.org/stable/modules/preprocessing.html\n",
      "Please also refer to the documentation for alternative solver options:\n",
      "    https://scikit-learn.org/stable/modules/linear_model.html#logistic-regression\n",
      "  n_iter_i = _check_optimize_result(\n"
     ]
    },
    {
     "data": {
      "image/png": "[encoded data removed]",
      "text/plain": [
       "<Figure size 640x480 with 2 Axes>"
      ]
     },
     "metadata": {},
     "output_type": "display_data"
    }
   ],
   "source": [
    "x = Hrtclea[['M', 'F','NO','YES','prevalentHyp','cigsPerDay','age','totChol']]\n",
    "y = Hrtclea['TenYearCHD']\n",
    "\n",
    "x_train,x_test,y_train,y_test = train_test_split(x,y,test_size=0.25,random_state=0)  #splitting data with test size of 25%\n",
    "\n",
    "logreg = LogisticRegression()   #build our logistic model\n",
    "logreg.fit(x_train, y_train)  #fitting training data\n",
    "y_pred  = logreg.predict(x_test)    #testing model’s performance\n",
    "print(\"Accuracy={:.2f}\".format(logreg.score(x_test, y_test)))\n",
    "\n",
    "confusion_matrix = pd.crosstab(y_test, y_pred, rownames=['Actual'], colnames=['Predicted'])\n",
    "sns.heatmap(confusion_matrix, annot=True)\n",
    "\n",
    "from sklearn.metrics import classification_report\n",
    "print(classification_report(y_test,y_pred))"
   ]
  },
  {
   "cell_type": "code",
   "execution_count": null,
   "id": "d42da6ff",
   "metadata": {},
   "outputs": [],
   "source": []
  }
 ],
 "metadata": {
  "kernelspec": {
   "display_name": "Python 3 (ipykernel)",
   "language": "python",
   "name": "python3"
  },
  "language_info": {
   "codemirror_mode": {
    "name": "ipython",
    "version": 3
   },
   "file_extension": ".py",
   "mimetype": "text/x-python",
   "name": "python",
   "nbconvert_exporter": "python",
   "pygments_lexer": "ipython3",
   "version": "3.10.9"
  }
 },
 "nbformat": 4,
 "nbformat_minor": 5
}
